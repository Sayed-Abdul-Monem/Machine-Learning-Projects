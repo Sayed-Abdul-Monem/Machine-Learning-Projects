{
 "cells": [
  {
   "cell_type": "code",
   "execution_count": 140,
   "id": "b2570c14",
   "metadata": {},
   "outputs": [],
   "source": [
    "import pandas as pd\n",
    "import numpy as np\n",
    "import seaborn as sns\n",
    "\n",
    "\n",
    "\n",
    "import matplotlib.pyplot as plt\n",
    "%matplotlib inline\n",
    "\n",
    "import random\n",
    "from sklearn import metrics\n",
    "from sklearn.linear_model import LinearRegression\n",
    "from sklearn.model_selection import train_test_split"
   ]
  },
  {
   "cell_type": "code",
   "execution_count": 141,
   "id": "a0d75715",
   "metadata": {},
   "outputs": [],
   "source": [
    "data = pd.read_csv('Mobile_App_Success_Regression_065474da917f57f7133a4a1645c65be2.csv')"
   ]
  },
  {
   "cell_type": "code",
   "execution_count": 142,
   "id": "8b08a9bf",
   "metadata": {},
   "outputs": [
    {
     "data": {
      "text/html": [
       "<div>\n",
       "<style scoped>\n",
       "    .dataframe tbody tr th:only-of-type {\n",
       "        vertical-align: middle;\n",
       "    }\n",
       "\n",
       "    .dataframe tbody tr th {\n",
       "        vertical-align: top;\n",
       "    }\n",
       "\n",
       "    .dataframe thead th {\n",
       "        text-align: right;\n",
       "    }\n",
       "</style>\n",
       "<table border=\"1\" class=\"dataframe\">\n",
       "  <thead>\n",
       "    <tr style=\"text-align: right;\">\n",
       "      <th></th>\n",
       "      <th>App Name</th>\n",
       "      <th>Category</th>\n",
       "      <th>Rating</th>\n",
       "      <th>Reviews</th>\n",
       "      <th>Installs</th>\n",
       "      <th>Size</th>\n",
       "      <th>Price</th>\n",
       "      <th>Content Rating</th>\n",
       "      <th>Last Updated</th>\n",
       "      <th>Minimum Version</th>\n",
       "      <th>Latest Version</th>\n",
       "    </tr>\n",
       "  </thead>\n",
       "  <tbody>\n",
       "    <tr>\n",
       "      <th>0</th>\n",
       "      <td>DoorDash - Food Delivery</td>\n",
       "      <td>FOOD_AND_DRINK</td>\n",
       "      <td>4.548561573</td>\n",
       "      <td>305034.0</td>\n",
       "      <td>5,000,000+</td>\n",
       "      <td>Varies with device</td>\n",
       "      <td>0</td>\n",
       "      <td>Everyone</td>\n",
       "      <td>29-Mar-19</td>\n",
       "      <td>Varies with device</td>\n",
       "      <td>Varies with device</td>\n",
       "    </tr>\n",
       "    <tr>\n",
       "      <th>1</th>\n",
       "      <td>TripAdvisor Hotels Flights Restaurants Attract...</td>\n",
       "      <td>TRAVEL_AND_LOCAL</td>\n",
       "      <td>4.400671482</td>\n",
       "      <td>1207922.0</td>\n",
       "      <td>100,000,000+</td>\n",
       "      <td>Varies with device</td>\n",
       "      <td>0</td>\n",
       "      <td>Everyone</td>\n",
       "      <td>29-Mar-19</td>\n",
       "      <td>Varies with device</td>\n",
       "      <td>Varies with device</td>\n",
       "    </tr>\n",
       "    <tr>\n",
       "      <th>2</th>\n",
       "      <td>Peapod</td>\n",
       "      <td>SHOPPING</td>\n",
       "      <td>3.656329393</td>\n",
       "      <td>1967.0</td>\n",
       "      <td>100,000+</td>\n",
       "      <td>1.4M</td>\n",
       "      <td>0</td>\n",
       "      <td>Everyone</td>\n",
       "      <td>20-Sep-18</td>\n",
       "      <td>5.0 and up</td>\n",
       "      <td>2.2.0</td>\n",
       "    </tr>\n",
       "    <tr>\n",
       "      <th>3</th>\n",
       "      <td>foodpanda - Local Food Delivery</td>\n",
       "      <td>FOOD_AND_DRINK</td>\n",
       "      <td>4.107232571</td>\n",
       "      <td>389154.0</td>\n",
       "      <td>10,000,000+</td>\n",
       "      <td>16M</td>\n",
       "      <td>0</td>\n",
       "      <td>Everyone</td>\n",
       "      <td>22-Mar-19</td>\n",
       "      <td>4.2 and up</td>\n",
       "      <td>4.18.2</td>\n",
       "    </tr>\n",
       "    <tr>\n",
       "      <th>4</th>\n",
       "      <td>My CookBook Pro (Ad Free)</td>\n",
       "      <td>FOOD_AND_DRINK</td>\n",
       "      <td>4.647752285</td>\n",
       "      <td>2291.0</td>\n",
       "      <td>10,000+</td>\n",
       "      <td>Varies with device</td>\n",
       "      <td>$5.99</td>\n",
       "      <td>Everyone</td>\n",
       "      <td>1-Apr-19</td>\n",
       "      <td>Varies with device</td>\n",
       "      <td>Varies with device</td>\n",
       "    </tr>\n",
       "    <tr>\n",
       "      <th>5</th>\n",
       "      <td>Safeway Online Shopping</td>\n",
       "      <td>FOOD_AND_DRINK</td>\n",
       "      <td>3.82532239</td>\n",
       "      <td>2559.0</td>\n",
       "      <td>100,000+</td>\n",
       "      <td>23M</td>\n",
       "      <td>0</td>\n",
       "      <td>Everyone</td>\n",
       "      <td>29-Mar-19</td>\n",
       "      <td>5.0 and up</td>\n",
       "      <td>7.6.0</td>\n",
       "    </tr>\n",
       "    <tr>\n",
       "      <th>6</th>\n",
       "      <td>Yelp: Food, Shopping, Services Nearby</td>\n",
       "      <td>TRAVEL_AND_LOCAL</td>\n",
       "      <td>4.267267704</td>\n",
       "      <td>421918.0</td>\n",
       "      <td>10,000,000+</td>\n",
       "      <td>Varies with device</td>\n",
       "      <td>0</td>\n",
       "      <td>Teen</td>\n",
       "      <td>28-Mar-19</td>\n",
       "      <td>Varies with device</td>\n",
       "      <td>Varies with device</td>\n",
       "    </tr>\n",
       "    <tr>\n",
       "      <th>7</th>\n",
       "      <td>Talabat: Food Delivery</td>\n",
       "      <td>FOOD_AND_DRINK</td>\n",
       "      <td>4.495084763</td>\n",
       "      <td>142618.0</td>\n",
       "      <td>5,000,000+</td>\n",
       "      <td>Varies with device</td>\n",
       "      <td>0</td>\n",
       "      <td>Everyone</td>\n",
       "      <td>31-Mar-19</td>\n",
       "      <td>Varies with device</td>\n",
       "      <td>Varies with device</td>\n",
       "    </tr>\n",
       "    <tr>\n",
       "      <th>8</th>\n",
       "      <td>Fast Food Locator | Worldwide Fast Food Finder</td>\n",
       "      <td>TRAVEL_AND_LOCAL</td>\n",
       "      <td>3.811764717</td>\n",
       "      <td>85.0</td>\n",
       "      <td>10,000+</td>\n",
       "      <td>4.1M</td>\n",
       "      <td>0</td>\n",
       "      <td>Everyone</td>\n",
       "      <td>10-Feb-19</td>\n",
       "      <td>4.3 and up</td>\n",
       "      <td>2.4</td>\n",
       "    </tr>\n",
       "    <tr>\n",
       "      <th>9</th>\n",
       "      <td>Allrecipes Dinner Spinner</td>\n",
       "      <td>FOOD_AND_DRINK</td>\n",
       "      <td>4.545353413</td>\n",
       "      <td>67514.0</td>\n",
       "      <td>5,000,000+</td>\n",
       "      <td>Varies with device</td>\n",
       "      <td>0</td>\n",
       "      <td>Everyone</td>\n",
       "      <td>7-Mar-19</td>\n",
       "      <td>Varies with device</td>\n",
       "      <td>Varies with device</td>\n",
       "    </tr>\n",
       "  </tbody>\n",
       "</table>\n",
       "</div>"
      ],
      "text/plain": [
       "                                            App Name          Category  \\\n",
       "0                           DoorDash - Food Delivery    FOOD_AND_DRINK   \n",
       "1  TripAdvisor Hotels Flights Restaurants Attract...  TRAVEL_AND_LOCAL   \n",
       "2                                             Peapod          SHOPPING   \n",
       "3                    foodpanda - Local Food Delivery    FOOD_AND_DRINK   \n",
       "4                          My CookBook Pro (Ad Free)    FOOD_AND_DRINK   \n",
       "5                            Safeway Online Shopping    FOOD_AND_DRINK   \n",
       "6              Yelp: Food, Shopping, Services Nearby  TRAVEL_AND_LOCAL   \n",
       "7                             Talabat: Food Delivery    FOOD_AND_DRINK   \n",
       "8     Fast Food Locator | Worldwide Fast Food Finder  TRAVEL_AND_LOCAL   \n",
       "9                          Allrecipes Dinner Spinner    FOOD_AND_DRINK   \n",
       "\n",
       "        Rating    Reviews      Installs                Size   Price  \\\n",
       "0  4.548561573   305034.0    5,000,000+  Varies with device       0   \n",
       "1  4.400671482  1207922.0  100,000,000+  Varies with device       0   \n",
       "2  3.656329393     1967.0      100,000+                1.4M       0   \n",
       "3  4.107232571   389154.0   10,000,000+                 16M       0   \n",
       "4  4.647752285     2291.0       10,000+  Varies with device  $5.99    \n",
       "5   3.82532239     2559.0      100,000+                 23M       0   \n",
       "6  4.267267704   421918.0   10,000,000+  Varies with device       0   \n",
       "7  4.495084763   142618.0    5,000,000+  Varies with device       0   \n",
       "8  3.811764717       85.0       10,000+                4.1M       0   \n",
       "9  4.545353413    67514.0    5,000,000+  Varies with device       0   \n",
       "\n",
       "  Content Rating Last Updated     Minimum Version      Latest Version  \n",
       "0       Everyone    29-Mar-19  Varies with device  Varies with device  \n",
       "1       Everyone    29-Mar-19  Varies with device  Varies with device  \n",
       "2       Everyone    20-Sep-18          5.0 and up               2.2.0  \n",
       "3       Everyone    22-Mar-19          4.2 and up              4.18.2  \n",
       "4       Everyone     1-Apr-19  Varies with device  Varies with device  \n",
       "5       Everyone    29-Mar-19          5.0 and up               7.6.0  \n",
       "6           Teen    28-Mar-19  Varies with device  Varies with device  \n",
       "7       Everyone    31-Mar-19  Varies with device  Varies with device  \n",
       "8       Everyone    10-Feb-19          4.3 and up                 2.4  \n",
       "9       Everyone     7-Mar-19  Varies with device  Varies with device  "
      ]
     },
     "execution_count": 142,
     "metadata": {},
     "output_type": "execute_result"
    }
   ],
   "source": [
    "#prints first 5 entries of the dataframe\n",
    "data.head(10) "
   ]
  },
  {
   "cell_type": "code",
   "execution_count": 143,
   "id": "e1f0a886",
   "metadata": {},
   "outputs": [
    {
     "data": {
      "text/plain": [
       "(25920, 11)"
      ]
     },
     "execution_count": 143,
     "metadata": {},
     "output_type": "execute_result"
    }
   ],
   "source": [
    "data.shape"
   ]
  },
  {
   "cell_type": "code",
   "execution_count": 144,
   "id": "e737f02a",
   "metadata": {},
   "outputs": [
    {
     "name": "stdout",
     "output_type": "stream",
     "text": [
      "<class 'pandas.core.frame.DataFrame'>\n",
      "RangeIndex: 25920 entries, 0 to 25919\n",
      "Data columns (total 11 columns):\n",
      " #   Column           Non-Null Count  Dtype  \n",
      "---  ------           --------------  -----  \n",
      " 0   App Name         25920 non-null  object \n",
      " 1   Category         25920 non-null  object \n",
      " 2   Rating           25920 non-null  object \n",
      " 3   Reviews          25919 non-null  float64\n",
      " 4   Installs         25920 non-null  object \n",
      " 5   Size             25920 non-null  object \n",
      " 6   Price            25920 non-null  object \n",
      " 7   Content Rating   25920 non-null  object \n",
      " 8   Last Updated     25920 non-null  object \n",
      " 9   Minimum Version  25920 non-null  object \n",
      " 10  Latest Version   25919 non-null  object \n",
      "dtypes: float64(1), object(10)\n",
      "memory usage: 2.2+ MB\n"
     ]
    }
   ],
   "source": [
    "#result shows there are 25920 entries in the dataframe , it also lists the columns present in the dataset\n",
    "data.info() "
   ]
  },
  {
   "cell_type": "code",
   "execution_count": 145,
   "id": "fa104321",
   "metadata": {},
   "outputs": [
    {
     "data": {
      "text/plain": [
       "App Name           False\n",
       "Category           False\n",
       "Rating             False\n",
       "Reviews             True\n",
       "Installs           False\n",
       "Size               False\n",
       "Price              False\n",
       "Content Rating     False\n",
       "Last Updated       False\n",
       "Minimum Version    False\n",
       "Latest Version      True\n",
       "dtype: bool"
      ]
     },
     "execution_count": 145,
     "metadata": {},
     "output_type": "execute_result"
    }
   ],
   "source": [
    "data.isnull().any()"
   ]
  },
  {
   "cell_type": "code",
   "execution_count": 146,
   "id": "8a0877c6",
   "metadata": {},
   "outputs": [
    {
     "data": {
      "image/png": "[encoded data removed]",
      "text/plain": [
       "<Figure size 720x360 with 2 Axes>"
      ]
     },
     "metadata": {
      "needs_background": "light"
     },
     "output_type": "display_data"
    }
   ],
   "source": [
    "plt.figure(figsize=(10, 5))   \n",
    "sns.heatmap(data.isnull(), cmap='viridis');   "
   ]
  },
  {
   "cell_type": "code",
   "execution_count": 147,
   "id": "b33ae798",
   "metadata": {},
   "outputs": [
    {
     "data": {
      "text/plain": [
       "App Name           0\n",
       "Category           0\n",
       "Rating             0\n",
       "Reviews            1\n",
       "Installs           0\n",
       "Size               0\n",
       "Price              0\n",
       "Content Rating     0\n",
       "Last Updated       0\n",
       "Minimum Version    0\n",
       "Latest Version     1\n",
       "dtype: int64"
      ]
     },
     "execution_count": 147,
     "metadata": {},
     "output_type": "execute_result"
    }
   ],
   "source": [
    "data.isnull().sum() # shows the number of missing value in each column respectively"
   ]
  },
  {
   "cell_type": "code",
   "execution_count": 148,
   "id": "b8cc86e4",
   "metadata": {},
   "outputs": [
    {
     "data": {
      "text/html": [
       "<div>\n",
       "<style scoped>\n",
       "    .dataframe tbody tr th:only-of-type {\n",
       "        vertical-align: middle;\n",
       "    }\n",
       "\n",
       "    .dataframe tbody tr th {\n",
       "        vertical-align: top;\n",
       "    }\n",
       "\n",
       "    .dataframe thead th {\n",
       "        text-align: right;\n",
       "    }\n",
       "</style>\n",
       "<table border=\"1\" class=\"dataframe\">\n",
       "  <thead>\n",
       "    <tr style=\"text-align: right;\">\n",
       "      <th></th>\n",
       "      <th>App Name</th>\n",
       "      <th>Category</th>\n",
       "      <th>Rating</th>\n",
       "      <th>Reviews</th>\n",
       "      <th>Installs</th>\n",
       "      <th>Size</th>\n",
       "      <th>Price</th>\n",
       "      <th>Content Rating</th>\n",
       "      <th>Last Updated</th>\n",
       "      <th>Minimum Version</th>\n",
       "      <th>Latest Version</th>\n",
       "    </tr>\n",
       "  </thead>\n",
       "  <tbody>\n",
       "    <tr>\n",
       "      <th>0</th>\n",
       "      <td>DoorDash - Food Delivery</td>\n",
       "      <td>FOOD_AND_DRINK</td>\n",
       "      <td>4.548561573</td>\n",
       "      <td>305034.0</td>\n",
       "      <td>5,000,000+</td>\n",
       "      <td>Varies with device</td>\n",
       "      <td>0</td>\n",
       "      <td>Everyone</td>\n",
       "      <td>29-Mar-19</td>\n",
       "      <td>Varies with device</td>\n",
       "      <td>Varies with device</td>\n",
       "    </tr>\n",
       "    <tr>\n",
       "      <th>1</th>\n",
       "      <td>TripAdvisor Hotels Flights Restaurants Attract...</td>\n",
       "      <td>TRAVEL_AND_LOCAL</td>\n",
       "      <td>4.400671482</td>\n",
       "      <td>1207922.0</td>\n",
       "      <td>100,000,000+</td>\n",
       "      <td>Varies with device</td>\n",
       "      <td>0</td>\n",
       "      <td>Everyone</td>\n",
       "      <td>29-Mar-19</td>\n",
       "      <td>Varies with device</td>\n",
       "      <td>Varies with device</td>\n",
       "    </tr>\n",
       "    <tr>\n",
       "      <th>2</th>\n",
       "      <td>Peapod</td>\n",
       "      <td>SHOPPING</td>\n",
       "      <td>3.656329393</td>\n",
       "      <td>1967.0</td>\n",
       "      <td>100,000+</td>\n",
       "      <td>1.4M</td>\n",
       "      <td>0</td>\n",
       "      <td>Everyone</td>\n",
       "      <td>20-Sep-18</td>\n",
       "      <td>5.0 and up</td>\n",
       "      <td>2.2.0</td>\n",
       "    </tr>\n",
       "    <tr>\n",
       "      <th>3</th>\n",
       "      <td>foodpanda - Local Food Delivery</td>\n",
       "      <td>FOOD_AND_DRINK</td>\n",
       "      <td>4.107232571</td>\n",
       "      <td>389154.0</td>\n",
       "      <td>10,000,000+</td>\n",
       "      <td>16M</td>\n",
       "      <td>0</td>\n",
       "      <td>Everyone</td>\n",
       "      <td>22-Mar-19</td>\n",
       "      <td>4.2 and up</td>\n",
       "      <td>4.18.2</td>\n",
       "    </tr>\n",
       "    <tr>\n",
       "      <th>4</th>\n",
       "      <td>My CookBook Pro (Ad Free)</td>\n",
       "      <td>FOOD_AND_DRINK</td>\n",
       "      <td>4.647752285</td>\n",
       "      <td>2291.0</td>\n",
       "      <td>10,000+</td>\n",
       "      <td>Varies with device</td>\n",
       "      <td>$5.99</td>\n",
       "      <td>Everyone</td>\n",
       "      <td>1-Apr-19</td>\n",
       "      <td>Varies with device</td>\n",
       "      <td>Varies with device</td>\n",
       "    </tr>\n",
       "    <tr>\n",
       "      <th>...</th>\n",
       "      <td>...</td>\n",
       "      <td>...</td>\n",
       "      <td>...</td>\n",
       "      <td>...</td>\n",
       "      <td>...</td>\n",
       "      <td>...</td>\n",
       "      <td>...</td>\n",
       "      <td>...</td>\n",
       "      <td>...</td>\n",
       "      <td>...</td>\n",
       "      <td>...</td>\n",
       "    </tr>\n",
       "    <tr>\n",
       "      <th>25915</th>\n",
       "      <td>KG Newsroom</td>\n",
       "      <td>NEWS_AND_MAGAZINES</td>\n",
       "      <td>4.5</td>\n",
       "      <td>8.0</td>\n",
       "      <td>50+</td>\n",
       "      <td>9.6M</td>\n",
       "      <td>0</td>\n",
       "      <td>Everyone</td>\n",
       "      <td>28-Mar-19</td>\n",
       "      <td>4.1 and up</td>\n",
       "      <td>1.1.15</td>\n",
       "    </tr>\n",
       "    <tr>\n",
       "      <th>25916</th>\n",
       "      <td>Dedi App 19</td>\n",
       "      <td>GAME_SIMULATION</td>\n",
       "      <td>3.521126747</td>\n",
       "      <td>71.0</td>\n",
       "      <td>10,000+</td>\n",
       "      <td>6.5M</td>\n",
       "      <td>0</td>\n",
       "      <td>Everyone</td>\n",
       "      <td>22-Jan-19</td>\n",
       "      <td>4.4 and up</td>\n",
       "      <td>1.0.2274</td>\n",
       "    </tr>\n",
       "    <tr>\n",
       "      <th>25917</th>\n",
       "      <td>Dedi App 17</td>\n",
       "      <td>GAME_SIMULATION</td>\n",
       "      <td>3.994588852</td>\n",
       "      <td>924.0</td>\n",
       "      <td>100,000+</td>\n",
       "      <td>7.9M</td>\n",
       "      <td>0</td>\n",
       "      <td>Everyone</td>\n",
       "      <td>17-Feb-17</td>\n",
       "      <td>4.0.3 and up</td>\n",
       "      <td>1.1.2043</td>\n",
       "    </tr>\n",
       "    <tr>\n",
       "      <th>25918</th>\n",
       "      <td>Right Angle Triangle Solver</td>\n",
       "      <td>TOOLS</td>\n",
       "      <td>4.25</td>\n",
       "      <td>1796.0</td>\n",
       "      <td>100,000+</td>\n",
       "      <td>6.8M</td>\n",
       "      <td>0</td>\n",
       "      <td>Everyone</td>\n",
       "      <td>15-Dec-18</td>\n",
       "      <td>4.1 and up</td>\n",
       "      <td>2.0.5</td>\n",
       "    </tr>\n",
       "    <tr>\n",
       "      <th>25919</th>\n",
       "      <td>Gummy Pop: Chain Reaction Game</td>\n",
       "      <td>GAME_PUZZLE</td>\n",
       "      <td>4.224199295</td>\n",
       "      <td>3372.0</td>\n",
       "      <td>100,000+</td>\n",
       "      <td>35M</td>\n",
       "      <td>0</td>\n",
       "      <td>Everyone</td>\n",
       "      <td>27-Sep-16</td>\n",
       "      <td>4.0 and up</td>\n",
       "      <td>1.2.10</td>\n",
       "    </tr>\n",
       "  </tbody>\n",
       "</table>\n",
       "<p>25918 rows × 11 columns</p>\n",
       "</div>"
      ],
      "text/plain": [
       "                                                App Name            Category  \\\n",
       "0                               DoorDash - Food Delivery      FOOD_AND_DRINK   \n",
       "1      TripAdvisor Hotels Flights Restaurants Attract...    TRAVEL_AND_LOCAL   \n",
       "2                                                 Peapod            SHOPPING   \n",
       "3                        foodpanda - Local Food Delivery      FOOD_AND_DRINK   \n",
       "4                              My CookBook Pro (Ad Free)      FOOD_AND_DRINK   \n",
       "...                                                  ...                 ...   \n",
       "25915                                        KG Newsroom  NEWS_AND_MAGAZINES   \n",
       "25916                                        Dedi App 19     GAME_SIMULATION   \n",
       "25917                                        Dedi App 17     GAME_SIMULATION   \n",
       "25918                        Right Angle Triangle Solver               TOOLS   \n",
       "25919                     Gummy Pop: Chain Reaction Game         GAME_PUZZLE   \n",
       "\n",
       "            Rating    Reviews      Installs                Size   Price  \\\n",
       "0      4.548561573   305034.0    5,000,000+  Varies with device       0   \n",
       "1      4.400671482  1207922.0  100,000,000+  Varies with device       0   \n",
       "2      3.656329393     1967.0      100,000+                1.4M       0   \n",
       "3      4.107232571   389154.0   10,000,000+                 16M       0   \n",
       "4      4.647752285     2291.0       10,000+  Varies with device  $5.99    \n",
       "...            ...        ...           ...                 ...     ...   \n",
       "25915          4.5        8.0           50+                9.6M       0   \n",
       "25916  3.521126747       71.0       10,000+                6.5M       0   \n",
       "25917  3.994588852      924.0      100,000+                7.9M       0   \n",
       "25918         4.25     1796.0      100,000+                6.8M       0   \n",
       "25919  4.224199295     3372.0      100,000+                 35M       0   \n",
       "\n",
       "      Content Rating Last Updated     Minimum Version      Latest Version  \n",
       "0           Everyone    29-Mar-19  Varies with device  Varies with device  \n",
       "1           Everyone    29-Mar-19  Varies with device  Varies with device  \n",
       "2           Everyone    20-Sep-18          5.0 and up               2.2.0  \n",
       "3           Everyone    22-Mar-19          4.2 and up              4.18.2  \n",
       "4           Everyone     1-Apr-19  Varies with device  Varies with device  \n",
       "...              ...          ...                 ...                 ...  \n",
       "25915       Everyone    28-Mar-19          4.1 and up              1.1.15  \n",
       "25916       Everyone    22-Jan-19          4.4 and up            1.0.2274  \n",
       "25917       Everyone    17-Feb-17        4.0.3 and up            1.1.2043  \n",
       "25918       Everyone    15-Dec-18          4.1 and up               2.0.5  \n",
       "25919       Everyone    27-Sep-16          4.0 and up              1.2.10  \n",
       "\n",
       "[25918 rows x 11 columns]"
      ]
     },
     "execution_count": 148,
     "metadata": {},
     "output_type": "execute_result"
    }
   ],
   "source": [
    "data.dropna()"
   ]
  },
  {
   "cell_type": "code",
   "execution_count": 149,
   "id": "6ba34391",
   "metadata": {},
   "outputs": [],
   "source": [
    "data.dropna(inplace=True)"
   ]
  },
  {
   "cell_type": "code",
   "execution_count": 150,
   "id": "009963d3",
   "metadata": {},
   "outputs": [
    {
     "data": {
      "text/plain": [
       "App Name           0\n",
       "Category           0\n",
       "Rating             0\n",
       "Reviews            0\n",
       "Installs           0\n",
       "Size               0\n",
       "Price              0\n",
       "Content Rating     0\n",
       "Last Updated       0\n",
       "Minimum Version    0\n",
       "Latest Version     0\n",
       "dtype: int64"
      ]
     },
     "execution_count": 150,
     "metadata": {},
     "output_type": "execute_result"
    }
   ],
   "source": [
    "# shows the number of missing value in each column respectively\n",
    "data.isnull().sum() "
   ]
  },
  {
   "cell_type": "code",
   "execution_count": 151,
   "id": "433bf1ce",
   "metadata": {},
   "outputs": [
    {
     "data": {
      "text/plain": [
       "(25918, 11)"
      ]
     },
     "execution_count": 151,
     "metadata": {},
     "output_type": "execute_result"
    }
   ],
   "source": [
    "data.shape"
   ]
  },
  {
   "cell_type": "code",
   "execution_count": 152,
   "id": "c9ae04ae",
   "metadata": {},
   "outputs": [
    {
     "name": "stdout",
     "output_type": "stream",
     "text": [
      "<class 'pandas.core.frame.DataFrame'>\n",
      "Int64Index: 25918 entries, 0 to 25919\n",
      "Data columns (total 11 columns):\n",
      " #   Column           Non-Null Count  Dtype  \n",
      "---  ------           --------------  -----  \n",
      " 0   App Name         25918 non-null  object \n",
      " 1   Category         25918 non-null  object \n",
      " 2   Rating           25918 non-null  object \n",
      " 3   Reviews          25918 non-null  float64\n",
      " 4   Installs         25918 non-null  object \n",
      " 5   Size             25918 non-null  object \n",
      " 6   Price            25918 non-null  object \n",
      " 7   Content Rating   25918 non-null  object \n",
      " 8   Last Updated     25918 non-null  object \n",
      " 9   Minimum Version  25918 non-null  object \n",
      " 10  Latest Version   25918 non-null  object \n",
      "dtypes: float64(1), object(10)\n",
      "memory usage: 2.4+ MB\n"
     ]
    }
   ],
   "source": [
    "data.info() "
   ]
  },
  {
   "cell_type": "code",
   "execution_count": 153,
   "id": "a1a4f569",
   "metadata": {},
   "outputs": [
    {
     "data": {
      "text/html": [
       "<div>\n",
       "<style scoped>\n",
       "    .dataframe tbody tr th:only-of-type {\n",
       "        vertical-align: middle;\n",
       "    }\n",
       "\n",
       "    .dataframe tbody tr th {\n",
       "        vertical-align: top;\n",
       "    }\n",
       "\n",
       "    .dataframe thead th {\n",
       "        text-align: right;\n",
       "    }\n",
       "</style>\n",
       "<table border=\"1\" class=\"dataframe\">\n",
       "  <thead>\n",
       "    <tr style=\"text-align: right;\">\n",
       "      <th></th>\n",
       "      <th>App Name</th>\n",
       "      <th>Category</th>\n",
       "      <th>Rating</th>\n",
       "      <th>Reviews</th>\n",
       "      <th>Installs</th>\n",
       "      <th>Size</th>\n",
       "      <th>Price</th>\n",
       "      <th>Content Rating</th>\n",
       "      <th>Last Updated</th>\n",
       "      <th>Minimum Version</th>\n",
       "      <th>Latest Version</th>\n",
       "    </tr>\n",
       "  </thead>\n",
       "  <tbody>\n",
       "    <tr>\n",
       "      <th>0</th>\n",
       "      <td>DoorDash - Food Delivery</td>\n",
       "      <td>FOOD_AND_DRINK</td>\n",
       "      <td>4.548561573</td>\n",
       "      <td>305034.0</td>\n",
       "      <td>5,000,000+</td>\n",
       "      <td>Varies with device</td>\n",
       "      <td>0</td>\n",
       "      <td>Everyone</td>\n",
       "      <td>29-Mar-19</td>\n",
       "      <td>Varies with device</td>\n",
       "      <td>Varies with device</td>\n",
       "    </tr>\n",
       "    <tr>\n",
       "      <th>1</th>\n",
       "      <td>TripAdvisor Hotels Flights Restaurants Attract...</td>\n",
       "      <td>TRAVEL_AND_LOCAL</td>\n",
       "      <td>4.400671482</td>\n",
       "      <td>1207922.0</td>\n",
       "      <td>100,000,000+</td>\n",
       "      <td>Varies with device</td>\n",
       "      <td>0</td>\n",
       "      <td>Everyone</td>\n",
       "      <td>29-Mar-19</td>\n",
       "      <td>Varies with device</td>\n",
       "      <td>Varies with device</td>\n",
       "    </tr>\n",
       "    <tr>\n",
       "      <th>2</th>\n",
       "      <td>Peapod</td>\n",
       "      <td>SHOPPING</td>\n",
       "      <td>3.656329393</td>\n",
       "      <td>1967.0</td>\n",
       "      <td>100,000+</td>\n",
       "      <td>1.4M</td>\n",
       "      <td>0</td>\n",
       "      <td>Everyone</td>\n",
       "      <td>20-Sep-18</td>\n",
       "      <td>5.0 and up</td>\n",
       "      <td>2.2.0</td>\n",
       "    </tr>\n",
       "    <tr>\n",
       "      <th>3</th>\n",
       "      <td>foodpanda - Local Food Delivery</td>\n",
       "      <td>FOOD_AND_DRINK</td>\n",
       "      <td>4.107232571</td>\n",
       "      <td>389154.0</td>\n",
       "      <td>10,000,000+</td>\n",
       "      <td>16M</td>\n",
       "      <td>0</td>\n",
       "      <td>Everyone</td>\n",
       "      <td>22-Mar-19</td>\n",
       "      <td>4.2 and up</td>\n",
       "      <td>4.18.2</td>\n",
       "    </tr>\n",
       "    <tr>\n",
       "      <th>4</th>\n",
       "      <td>My CookBook Pro (Ad Free)</td>\n",
       "      <td>FOOD_AND_DRINK</td>\n",
       "      <td>4.647752285</td>\n",
       "      <td>2291.0</td>\n",
       "      <td>10,000+</td>\n",
       "      <td>Varies with device</td>\n",
       "      <td>$5.99</td>\n",
       "      <td>Everyone</td>\n",
       "      <td>1-Apr-19</td>\n",
       "      <td>Varies with device</td>\n",
       "      <td>Varies with device</td>\n",
       "    </tr>\n",
       "  </tbody>\n",
       "</table>\n",
       "</div>"
      ],
      "text/plain": [
       "                                            App Name          Category  \\\n",
       "0                           DoorDash - Food Delivery    FOOD_AND_DRINK   \n",
       "1  TripAdvisor Hotels Flights Restaurants Attract...  TRAVEL_AND_LOCAL   \n",
       "2                                             Peapod          SHOPPING   \n",
       "3                    foodpanda - Local Food Delivery    FOOD_AND_DRINK   \n",
       "4                          My CookBook Pro (Ad Free)    FOOD_AND_DRINK   \n",
       "\n",
       "        Rating    Reviews      Installs                Size   Price  \\\n",
       "0  4.548561573   305034.0    5,000,000+  Varies with device       0   \n",
       "1  4.400671482  1207922.0  100,000,000+  Varies with device       0   \n",
       "2  3.656329393     1967.0      100,000+                1.4M       0   \n",
       "3  4.107232571   389154.0   10,000,000+                 16M       0   \n",
       "4  4.647752285     2291.0       10,000+  Varies with device  $5.99    \n",
       "\n",
       "  Content Rating Last Updated     Minimum Version      Latest Version  \n",
       "0       Everyone    29-Mar-19  Varies with device  Varies with device  \n",
       "1       Everyone    29-Mar-19  Varies with device  Varies with device  \n",
       "2       Everyone    20-Sep-18          5.0 and up               2.2.0  \n",
       "3       Everyone    22-Mar-19          4.2 and up              4.18.2  \n",
       "4       Everyone     1-Apr-19  Varies with device  Varies with device  "
      ]
     },
     "execution_count": 153,
     "metadata": {},
     "output_type": "execute_result"
    }
   ],
   "source": [
    "data.head()"
   ]
  },
  {
   "cell_type": "code",
   "execution_count": 154,
   "id": "153ff3af",
   "metadata": {},
   "outputs": [],
   "source": [
    "data[\"Size\"] = data[\"Size\"].str.replace(\"Varies with device\",\"0\")\n",
    "data[\"Size\"] = data[\"Size\"].str.replace(\",\",\".\")"
   ]
  },
  {
   "cell_type": "code",
   "execution_count": 155,
   "id": "9d23b211",
   "metadata": {},
   "outputs": [
    {
     "name": "stdout",
     "output_type": "stream",
     "text": [
      "hell\n"
     ]
    }
   ],
   "source": [
    "n = 'hello'\n",
    "v = n[:-1]\n",
    "print(v)"
   ]
  },
  {
   "cell_type": "code",
   "execution_count": 156,
   "id": "e26c91de",
   "metadata": {},
   "outputs": [],
   "source": [
    "v = '1'"
   ]
  },
  {
   "cell_type": "code",
   "execution_count": 157,
   "id": "2e1b00b3",
   "metadata": {},
   "outputs": [],
   "source": [
    "#function to convert MB and KB in bytes\n",
    "def edit(size):\n",
    "    if 'M' in size:\n",
    "        x = size[:-1]\n",
    "        x = float(x)*1000000\n",
    "        return(x)\n",
    "    elif 'k' in size:\n",
    "        x = size[:-1]\n",
    "        x = float(x)*1000\n",
    "        return(x)\n",
    "    else:\n",
    "        return None\n",
    "\n",
    "data[\"Size\"] = data[\"Size\"].map(edit) #update the Size column with these new values"
   ]
  },
  {
   "cell_type": "code",
   "execution_count": 158,
   "id": "f58a925b",
   "metadata": {},
   "outputs": [
    {
     "data": {
      "text/plain": [
       "dtype('float64')"
      ]
     },
     "execution_count": 158,
     "metadata": {},
     "output_type": "execute_result"
    }
   ],
   "source": [
    "data.Size.dtype"
   ]
  },
  {
   "cell_type": "code",
   "execution_count": 159,
   "id": "1a89cd3f",
   "metadata": {},
   "outputs": [
    {
     "data": {
      "text/plain": [
       "Text(0, 0.5, 'Frequency')"
      ]
     },
     "execution_count": 159,
     "metadata": {},
     "output_type": "execute_result"
    },
    {
     "data": {
      "image/png": "[encoded data removed]",
      "text/plain": [
       "<Figure size 432x288 with 1 Axes>"
      ]
     },
     "metadata": {
      "needs_background": "light"
     },
     "output_type": "display_data"
    }
   ],
   "source": [
    "data.hist(column='Size', color='y') \n",
    "plt.xlabel('Size')\n",
    "plt.ylabel('Frequency')"
   ]
  },
  {
   "cell_type": "code",
   "execution_count": 160,
   "id": "68d77b52",
   "metadata": {},
   "outputs": [
    {
     "data": {
      "text/plain": [
       "array([ 305034., 1207922.,    1967., ...,   11214.,   14039.,    1796.])"
      ]
     },
     "execution_count": 160,
     "metadata": {},
     "output_type": "execute_result"
    }
   ],
   "source": [
    "data['Reviews'].unique()"
   ]
  },
  {
   "cell_type": "code",
   "execution_count": 161,
   "id": "c7e06fad",
   "metadata": {},
   "outputs": [
    {
     "data": {
      "text/plain": [
       "1"
      ]
     },
     "execution_count": 161,
     "metadata": {},
     "output_type": "execute_result"
    }
   ],
   "source": [
    "data.duplicated().sum()"
   ]
  },
  {
   "cell_type": "code",
   "execution_count": 162,
   "id": "ae00ea2d",
   "metadata": {},
   "outputs": [],
   "source": [
    "data.drop_duplicates(inplace=True)"
   ]
  },
  {
   "cell_type": "code",
   "execution_count": 163,
   "id": "928a3968",
   "metadata": {},
   "outputs": [
    {
     "data": {
      "text/plain": [
       "100,000+          5342\n",
       "1,000,000+        4284\n",
       "10,000+           3612\n",
       "500,000+          2294\n",
       "50,000+           2120\n",
       "1,000+            1846\n",
       "10,000,000+       1695\n",
       "5,000,000+        1293\n",
       "5,000+            1166\n",
       "100+               794\n",
       "500+               568\n",
       "50,000,000+        303\n",
       "100,000,000+       242\n",
       "10+                125\n",
       "50+                125\n",
       "500,000,000+        33\n",
       "5+                  24\n",
       "1,000,000,000+      24\n",
       "1+                  20\n",
       "5,000,000,000+       3\n",
       "0+                   2\n",
       "6                    1\n",
       "11976                1\n",
       "Name: Installs, dtype: int64"
      ]
     },
     "execution_count": 163,
     "metadata": {},
     "output_type": "execute_result"
    }
   ],
   "source": [
    "data.Installs.value_counts() "
   ]
  },
  {
   "cell_type": "code",
   "execution_count": 164,
   "id": "cdcf9c6a",
   "metadata": {},
   "outputs": [],
   "source": [
    "data.Installs=data.Installs.apply(lambda x: x.strip('+'))  #remove symbol '+'\n",
    "data.Installs=data.Installs.apply(lambda x: x.replace(',','')) #remove symbol ','"
   ]
  },
  {
   "cell_type": "code",
   "execution_count": 165,
   "id": "e251f960",
   "metadata": {},
   "outputs": [],
   "source": [
    "data['Installs'] = data['Installs'].astype(float)"
   ]
  },
  {
   "cell_type": "code",
   "execution_count": 166,
   "id": "ddff6dbf",
   "metadata": {},
   "outputs": [
    {
     "data": {
      "text/plain": [
       "1.000000e+05    5342\n",
       "1.000000e+06    4284\n",
       "1.000000e+04    3612\n",
       "5.000000e+05    2294\n",
       "5.000000e+04    2120\n",
       "1.000000e+03    1846\n",
       "1.000000e+07    1695\n",
       "5.000000e+06    1293\n",
       "5.000000e+03    1166\n",
       "1.000000e+02     794\n",
       "5.000000e+02     568\n",
       "5.000000e+07     303\n",
       "1.000000e+08     242\n",
       "1.000000e+01     125\n",
       "5.000000e+01     125\n",
       "5.000000e+08      33\n",
       "5.000000e+00      24\n",
       "1.000000e+09      24\n",
       "1.000000e+00      20\n",
       "5.000000e+09       3\n",
       "0.000000e+00       2\n",
       "6.000000e+00       1\n",
       "1.197600e+04       1\n",
       "Name: Installs, dtype: int64"
      ]
     },
     "execution_count": 166,
     "metadata": {},
     "output_type": "execute_result"
    }
   ],
   "source": [
    "data.Installs.value_counts()"
   ]
  },
  {
   "cell_type": "code",
   "execution_count": 167,
   "id": "28c71a04",
   "metadata": {},
   "outputs": [],
   "source": [
    "data[\"Reviews\"] = data[\"Reviews\"].astype(\"int64\")"
   ]
  },
  {
   "cell_type": "code",
   "execution_count": 168,
   "id": "660bb90e",
   "metadata": {},
   "outputs": [
    {
     "data": {
      "text/plain": [
       "0         305034\n",
       "1        1207922\n",
       "2           1967\n",
       "3         389154\n",
       "4           2291\n",
       "          ...   \n",
       "25915          8\n",
       "25916         71\n",
       "25917        924\n",
       "25918       1796\n",
       "25919       3372\n",
       "Name: Reviews, Length: 25917, dtype: int64"
      ]
     },
     "execution_count": 168,
     "metadata": {},
     "output_type": "execute_result"
    }
   ],
   "source": [
    "data.Reviews"
   ]
  },
  {
   "cell_type": "code",
   "execution_count": 169,
   "id": "762b4101",
   "metadata": {},
   "outputs": [
    {
     "data": {
      "text/plain": [
       "dtype('O')"
      ]
     },
     "execution_count": 169,
     "metadata": {},
     "output_type": "execute_result"
    }
   ],
   "source": [
    "data['Rating'].dtype"
   ]
  },
  {
   "cell_type": "code",
   "execution_count": 170,
   "id": "df76dbd4",
   "metadata": {},
   "outputs": [],
   "source": [
    "data[\"Rating\"] = data[\"Rating\"].str.replace('GAME_STRATEGY',\"0\")"
   ]
  },
  {
   "cell_type": "code",
   "execution_count": 171,
   "id": "232f79d3",
   "metadata": {},
   "outputs": [],
   "source": [
    "data['Rating'] = data[\"Rating\"].str.replace('NEWS_AND_MAGAZINES',\"0\")"
   ]
  },
  {
   "cell_type": "code",
   "execution_count": 172,
   "id": "fd22e6e2",
   "metadata": {},
   "outputs": [],
   "source": [
    "data['Rating'] = data['Rating'].astype(float)"
   ]
  },
  {
   "cell_type": "code",
   "execution_count": 173,
   "id": "09113ec4",
   "metadata": {},
   "outputs": [
    {
     "name": "stdout",
     "output_type": "stream",
     "text": [
      "Range:  0.0 - 5.0\n"
     ]
    }
   ],
   "source": [
    "print(\"Range: \", data.Rating.min(),\"-\",data.Rating.max()) "
   ]
  },
  {
   "cell_type": "code",
   "execution_count": 174,
   "id": "2422705d",
   "metadata": {},
   "outputs": [
    {
     "data": {
      "text/plain": [
       "dtype('float64')"
      ]
     },
     "execution_count": 174,
     "metadata": {},
     "output_type": "execute_result"
    }
   ],
   "source": [
    "data['Rating'].dtype"
   ]
  },
  {
   "cell_type": "code",
   "execution_count": 175,
   "id": "7246ef12",
   "metadata": {},
   "outputs": [
    {
     "data": {
      "text/plain": [
       "Text(0, 0.5, 'Frequency')"
      ]
     },
     "execution_count": 175,
     "metadata": {},
     "output_type": "execute_result"
    },
    {
     "data": {
      "image/png": "[encoded data removed]",
      "text/plain": [
       "<Figure size 432x288 with 1 Axes>"
      ]
     },
     "metadata": {
      "needs_background": "light"
     },
     "output_type": "display_data"
    }
   ],
   "source": [
    "data.Rating.hist();\n",
    "plt.xlabel('Rating')\n",
    "plt.ylabel('Frequency')"
   ]
  },
  {
   "cell_type": "code",
   "execution_count": 176,
   "id": "2bdc5962",
   "metadata": {},
   "outputs": [],
   "source": [
    "data.Price=data.Price.apply(lambda x: x.strip('$'))  #removing the symbol '$'"
   ]
  },
  {
   "cell_type": "code",
   "execution_count": 177,
   "id": "79a13c2c",
   "metadata": {},
   "outputs": [],
   "source": [
    "data['Price'] = data[\"Price\"].str.replace('Varies with device',\"0\")"
   ]
  },
  {
   "cell_type": "code",
   "execution_count": 178,
   "id": "9e84e360",
   "metadata": {},
   "outputs": [],
   "source": [
    "data.Price=data.Price.apply(lambda x: x.strip('M'))"
   ]
  },
  {
   "cell_type": "code",
   "execution_count": 179,
   "id": "7052f438",
   "metadata": {},
   "outputs": [
    {
     "data": {
      "text/plain": [
       "array(['0', '5.99 ', '2.99 ', '1.99 ', '6.99 ', '4.99 ', '3.99 ', '9.99 ',\n",
       "       '0.99 ', '3.49 ', '13.99 ', '7.99 ', '4.95 ', '5.49 ', '39.99 ',\n",
       "       '8.99 ', '1.49 ', '7.49 ', '399.99 ', '2.49 ', '10.99 ', '2.20 ',\n",
       "       '1.25 ', '11.99 ', '14.99 ', '74.99 ', '99.99 ', '9.00 ', '24.99 ',\n",
       "       '10.00 ', '4.89 ', '4.49 ', '15.99 ', '3.22 ', '3.55 ', '12.99 ',\n",
       "       '23.99 ', '3.75 ', '6.49 ', '19.99 ', '3.95 ', '32.99 ', '1.26 ',\n",
       "       '21.00 ', '9.79 ', '79.99 ', '6.29 ', '1.19 ', '3.85 ', '1.29 ',\n",
       "       '29.99 ', '1.00 ', '3.29 ', '54.99 ', '1.40 ', '4.00 ', '5.00 ',\n",
       "       '2.00 ', '2.4', '1.05 ', '299.99 ', '2.50 ', '5.33 ', '1.90 ',\n",
       "       '3.00 ', '2.40 ', '6.71 ', '9.95 ', '14.01 ', '22.99 ', '2.79 ',\n",
       "       '1.20 ', '1.09 ', '9.49 ', '31.99 ', '6.85 ', '1.50 ', '34.99 ',\n",
       "       '1.80 ', '10.75 ', '45.99 ', '17.99 ', '5.76 ', '5.74 ', '14.73 ',\n",
       "       '27.99 ', '8.80 ', '4.50 ', '6.00 ', '5.78 ', '12.00 ', '84.99 ',\n",
       "       '8.49 ', '3.81 '], dtype=object)"
      ]
     },
     "execution_count": 179,
     "metadata": {},
     "output_type": "execute_result"
    }
   ],
   "source": [
    "data.Price.unique()"
   ]
  },
  {
   "cell_type": "code",
   "execution_count": 180,
   "id": "f8a5b36c",
   "metadata": {},
   "outputs": [],
   "source": [
    "data['Price'] = data['Price'].astype(float)"
   ]
  },
  {
   "cell_type": "code",
   "execution_count": 181,
   "id": "2261d171",
   "metadata": {},
   "outputs": [
    {
     "data": {
      "text/plain": [
       "<AxesSubplot:>"
      ]
     },
     "execution_count": 181,
     "metadata": {},
     "output_type": "execute_result"
    },
    {
     "data": {
      "image/png": "[encoded data removed]",
      "text/plain": [
       "<Figure size 432x288 with 1 Axes>"
      ]
     },
     "metadata": {
      "needs_background": "light"
     },
     "output_type": "display_data"
    }
   ],
   "source": [
    "data.Category.value_counts()[:10].plot(kind='bar',color='r')"
   ]
  },
  {
   "cell_type": "code",
   "execution_count": 182,
   "id": "5b71e602",
   "metadata": {},
   "outputs": [
    {
     "data": {
      "text/plain": [
       "51"
      ]
     },
     "execution_count": 182,
     "metadata": {},
     "output_type": "execute_result"
    }
   ],
   "source": [
    "len(data.Category.unique())"
   ]
  },
  {
   "cell_type": "code",
   "execution_count": 183,
   "id": "82fc6da0",
   "metadata": {},
   "outputs": [],
   "source": [
    "data['Category'] = data['Category'].astype('category')"
   ]
  },
  {
   "cell_type": "code",
   "execution_count": 184,
   "id": "75c85858",
   "metadata": {},
   "outputs": [],
   "source": [
    "data['Category'] = data['Category'].cat.codes"
   ]
  },
  {
   "cell_type": "code",
   "execution_count": 185,
   "id": "cfb0ccb1",
   "metadata": {},
   "outputs": [
    {
     "data": {
      "text/plain": [
       "Index(['App Name', 'Category', 'Rating', 'Reviews', 'Installs', 'Size',\n",
       "       'Price', 'Content Rating', 'Last Updated', 'Minimum Version',\n",
       "       'Latest Version'],\n",
       "      dtype='object')"
      ]
     },
     "execution_count": 185,
     "metadata": {},
     "output_type": "execute_result"
    }
   ],
   "source": [
    "data.columns"
   ]
  },
  {
   "cell_type": "code",
   "execution_count": 186,
   "id": "66481623",
   "metadata": {},
   "outputs": [
    {
     "data": {
      "text/plain": [
       "8"
      ]
     },
     "execution_count": 186,
     "metadata": {},
     "output_type": "execute_result"
    }
   ],
   "source": [
    "len(data['Content Rating'].unique())"
   ]
  },
  {
   "cell_type": "code",
   "execution_count": 187,
   "id": "76f48b78",
   "metadata": {},
   "outputs": [],
   "source": [
    "data['Content Rating'] = data['Content Rating'].astype('category')"
   ]
  },
  {
   "cell_type": "code",
   "execution_count": 188,
   "id": "a4e2e5d0",
   "metadata": {},
   "outputs": [],
   "source": [
    "data['Content Rating'] = data['Content Rating'].cat.codes"
   ]
  },
  {
   "cell_type": "code",
   "execution_count": 189,
   "id": "ea76300b",
   "metadata": {},
   "outputs": [
    {
     "data": {
      "text/plain": [
       "App Name              0\n",
       "Category              0\n",
       "Rating                0\n",
       "Reviews               0\n",
       "Installs              0\n",
       "Size               2697\n",
       "Price                 0\n",
       "Content Rating        0\n",
       "Last Updated          0\n",
       "Minimum Version       0\n",
       "Latest Version        0\n",
       "dtype: int64"
      ]
     },
     "execution_count": 189,
     "metadata": {},
     "output_type": "execute_result"
    }
   ],
   "source": [
    "data.isnull().sum()"
   ]
  },
  {
   "cell_type": "code",
   "execution_count": 190,
   "id": "8fa80223",
   "metadata": {},
   "outputs": [],
   "source": [
    "data.Size.fillna(method = 'ffill', inplace = True) #filling null values"
   ]
  },
  {
   "cell_type": "code",
   "execution_count": 191,
   "id": "06faa066",
   "metadata": {},
   "outputs": [],
   "source": [
    "data.dropna(inplace=True)"
   ]
  },
  {
   "cell_type": "code",
   "execution_count": 192,
   "id": "1b3a725e",
   "metadata": {},
   "outputs": [
    {
     "data": {
      "text/html": [
       "<div>\n",
       "<style scoped>\n",
       "    .dataframe tbody tr th:only-of-type {\n",
       "        vertical-align: middle;\n",
       "    }\n",
       "\n",
       "    .dataframe tbody tr th {\n",
       "        vertical-align: top;\n",
       "    }\n",
       "\n",
       "    .dataframe thead th {\n",
       "        text-align: right;\n",
       "    }\n",
       "</style>\n",
       "<table border=\"1\" class=\"dataframe\">\n",
       "  <thead>\n",
       "    <tr style=\"text-align: right;\">\n",
       "      <th></th>\n",
       "      <th>App Name</th>\n",
       "      <th>Category</th>\n",
       "      <th>Rating</th>\n",
       "      <th>Reviews</th>\n",
       "      <th>Installs</th>\n",
       "      <th>Size</th>\n",
       "      <th>Price</th>\n",
       "      <th>Content Rating</th>\n",
       "      <th>Last Updated</th>\n",
       "      <th>Minimum Version</th>\n",
       "      <th>Latest Version</th>\n",
       "    </tr>\n",
       "  </thead>\n",
       "  <tbody>\n",
       "    <tr>\n",
       "      <th>2</th>\n",
       "      <td>Peapod</td>\n",
       "      <td>44</td>\n",
       "      <td>3.656329</td>\n",
       "      <td>1967</td>\n",
       "      <td>100000.0</td>\n",
       "      <td>1400000.0</td>\n",
       "      <td>0.00</td>\n",
       "      <td>3</td>\n",
       "      <td>20-Sep-18</td>\n",
       "      <td>5.0 and up</td>\n",
       "      <td>2.2.0</td>\n",
       "    </tr>\n",
       "    <tr>\n",
       "      <th>3</th>\n",
       "      <td>foodpanda - Local Food Delivery</td>\n",
       "      <td>14</td>\n",
       "      <td>4.107233</td>\n",
       "      <td>389154</td>\n",
       "      <td>10000000.0</td>\n",
       "      <td>16000000.0</td>\n",
       "      <td>0.00</td>\n",
       "      <td>3</td>\n",
       "      <td>22-Mar-19</td>\n",
       "      <td>4.2 and up</td>\n",
       "      <td>4.18.2</td>\n",
       "    </tr>\n",
       "    <tr>\n",
       "      <th>4</th>\n",
       "      <td>My CookBook Pro (Ad Free)</td>\n",
       "      <td>14</td>\n",
       "      <td>4.647752</td>\n",
       "      <td>2291</td>\n",
       "      <td>10000.0</td>\n",
       "      <td>16000000.0</td>\n",
       "      <td>5.99</td>\n",
       "      <td>3</td>\n",
       "      <td>1-Apr-19</td>\n",
       "      <td>Varies with device</td>\n",
       "      <td>Varies with device</td>\n",
       "    </tr>\n",
       "    <tr>\n",
       "      <th>5</th>\n",
       "      <td>Safeway Online Shopping</td>\n",
       "      <td>14</td>\n",
       "      <td>3.825322</td>\n",
       "      <td>2559</td>\n",
       "      <td>100000.0</td>\n",
       "      <td>23000000.0</td>\n",
       "      <td>0.00</td>\n",
       "      <td>3</td>\n",
       "      <td>29-Mar-19</td>\n",
       "      <td>5.0 and up</td>\n",
       "      <td>7.6.0</td>\n",
       "    </tr>\n",
       "    <tr>\n",
       "      <th>6</th>\n",
       "      <td>Yelp: Food, Shopping, Services Nearby</td>\n",
       "      <td>48</td>\n",
       "      <td>4.267268</td>\n",
       "      <td>421918</td>\n",
       "      <td>10000000.0</td>\n",
       "      <td>23000000.0</td>\n",
       "      <td>0.00</td>\n",
       "      <td>6</td>\n",
       "      <td>28-Mar-19</td>\n",
       "      <td>Varies with device</td>\n",
       "      <td>Varies with device</td>\n",
       "    </tr>\n",
       "    <tr>\n",
       "      <th>...</th>\n",
       "      <td>...</td>\n",
       "      <td>...</td>\n",
       "      <td>...</td>\n",
       "      <td>...</td>\n",
       "      <td>...</td>\n",
       "      <td>...</td>\n",
       "      <td>...</td>\n",
       "      <td>...</td>\n",
       "      <td>...</td>\n",
       "      <td>...</td>\n",
       "      <td>...</td>\n",
       "    </tr>\n",
       "    <tr>\n",
       "      <th>25915</th>\n",
       "      <td>KG Newsroom</td>\n",
       "      <td>39</td>\n",
       "      <td>4.500000</td>\n",
       "      <td>8</td>\n",
       "      <td>50.0</td>\n",
       "      <td>9600000.0</td>\n",
       "      <td>0.00</td>\n",
       "      <td>3</td>\n",
       "      <td>28-Mar-19</td>\n",
       "      <td>4.1 and up</td>\n",
       "      <td>1.1.15</td>\n",
       "    </tr>\n",
       "    <tr>\n",
       "      <th>25916</th>\n",
       "      <td>Dedi App 19</td>\n",
       "      <td>27</td>\n",
       "      <td>3.521127</td>\n",
       "      <td>71</td>\n",
       "      <td>10000.0</td>\n",
       "      <td>6500000.0</td>\n",
       "      <td>0.00</td>\n",
       "      <td>3</td>\n",
       "      <td>22-Jan-19</td>\n",
       "      <td>4.4 and up</td>\n",
       "      <td>1.0.2274</td>\n",
       "    </tr>\n",
       "    <tr>\n",
       "      <th>25917</th>\n",
       "      <td>Dedi App 17</td>\n",
       "      <td>27</td>\n",
       "      <td>3.994589</td>\n",
       "      <td>924</td>\n",
       "      <td>100000.0</td>\n",
       "      <td>7900000.0</td>\n",
       "      <td>0.00</td>\n",
       "      <td>3</td>\n",
       "      <td>17-Feb-17</td>\n",
       "      <td>4.0.3 and up</td>\n",
       "      <td>1.1.2043</td>\n",
       "    </tr>\n",
       "    <tr>\n",
       "      <th>25918</th>\n",
       "      <td>Right Angle Triangle Solver</td>\n",
       "      <td>47</td>\n",
       "      <td>4.250000</td>\n",
       "      <td>1796</td>\n",
       "      <td>100000.0</td>\n",
       "      <td>6800000.0</td>\n",
       "      <td>0.00</td>\n",
       "      <td>3</td>\n",
       "      <td>15-Dec-18</td>\n",
       "      <td>4.1 and up</td>\n",
       "      <td>2.0.5</td>\n",
       "    </tr>\n",
       "    <tr>\n",
       "      <th>25919</th>\n",
       "      <td>Gummy Pop: Chain Reaction Game</td>\n",
       "      <td>24</td>\n",
       "      <td>4.224199</td>\n",
       "      <td>3372</td>\n",
       "      <td>100000.0</td>\n",
       "      <td>35000000.0</td>\n",
       "      <td>0.00</td>\n",
       "      <td>3</td>\n",
       "      <td>27-Sep-16</td>\n",
       "      <td>4.0 and up</td>\n",
       "      <td>1.2.10</td>\n",
       "    </tr>\n",
       "  </tbody>\n",
       "</table>\n",
       "<p>25915 rows × 11 columns</p>\n",
       "</div>"
      ],
      "text/plain": [
       "                                    App Name  Category    Rating  Reviews  \\\n",
       "2                                     Peapod        44  3.656329     1967   \n",
       "3            foodpanda - Local Food Delivery        14  4.107233   389154   \n",
       "4                  My CookBook Pro (Ad Free)        14  4.647752     2291   \n",
       "5                    Safeway Online Shopping        14  3.825322     2559   \n",
       "6      Yelp: Food, Shopping, Services Nearby        48  4.267268   421918   \n",
       "...                                      ...       ...       ...      ...   \n",
       "25915                            KG Newsroom        39  4.500000        8   \n",
       "25916                            Dedi App 19        27  3.521127       71   \n",
       "25917                            Dedi App 17        27  3.994589      924   \n",
       "25918            Right Angle Triangle Solver        47  4.250000     1796   \n",
       "25919         Gummy Pop: Chain Reaction Game        24  4.224199     3372   \n",
       "\n",
       "         Installs        Size  Price  Content Rating Last Updated  \\\n",
       "2        100000.0   1400000.0   0.00               3    20-Sep-18   \n",
       "3      10000000.0  16000000.0   0.00               3    22-Mar-19   \n",
       "4         10000.0  16000000.0   5.99               3     1-Apr-19   \n",
       "5        100000.0  23000000.0   0.00               3    29-Mar-19   \n",
       "6      10000000.0  23000000.0   0.00               6    28-Mar-19   \n",
       "...           ...         ...    ...             ...          ...   \n",
       "25915        50.0   9600000.0   0.00               3    28-Mar-19   \n",
       "25916     10000.0   6500000.0   0.00               3    22-Jan-19   \n",
       "25917    100000.0   7900000.0   0.00               3    17-Feb-17   \n",
       "25918    100000.0   6800000.0   0.00               3    15-Dec-18   \n",
       "25919    100000.0  35000000.0   0.00               3    27-Sep-16   \n",
       "\n",
       "          Minimum Version      Latest Version  \n",
       "2              5.0 and up               2.2.0  \n",
       "3              4.2 and up              4.18.2  \n",
       "4      Varies with device  Varies with device  \n",
       "5              5.0 and up               7.6.0  \n",
       "6      Varies with device  Varies with device  \n",
       "...                   ...                 ...  \n",
       "25915          4.1 and up              1.1.15  \n",
       "25916          4.4 and up            1.0.2274  \n",
       "25917        4.0.3 and up            1.1.2043  \n",
       "25918          4.1 and up               2.0.5  \n",
       "25919          4.0 and up              1.2.10  \n",
       "\n",
       "[25915 rows x 11 columns]"
      ]
     },
     "execution_count": 192,
     "metadata": {},
     "output_type": "execute_result"
    }
   ],
   "source": [
    "data"
   ]
  },
  {
   "cell_type": "code",
   "execution_count": 193,
   "id": "862e5cb5",
   "metadata": {},
   "outputs": [],
   "source": [
    "#dropping the columns that are not relevant for our linear regression\n",
    "data.drop(labels = ['Last Updated','Latest Version','App Name','Minimum Version'], axis = 1, inplace = True)"
   ]
  },
  {
   "cell_type": "code",
   "execution_count": 194,
   "id": "a335ddbf",
   "metadata": {},
   "outputs": [
    {
     "data": {
      "text/html": [
       "<div>\n",
       "<style scoped>\n",
       "    .dataframe tbody tr th:only-of-type {\n",
       "        vertical-align: middle;\n",
       "    }\n",
       "\n",
       "    .dataframe tbody tr th {\n",
       "        vertical-align: top;\n",
       "    }\n",
       "\n",
       "    .dataframe thead th {\n",
       "        text-align: right;\n",
       "    }\n",
       "</style>\n",
       "<table border=\"1\" class=\"dataframe\">\n",
       "  <thead>\n",
       "    <tr style=\"text-align: right;\">\n",
       "      <th></th>\n",
       "      <th>Category</th>\n",
       "      <th>Rating</th>\n",
       "      <th>Reviews</th>\n",
       "      <th>Installs</th>\n",
       "      <th>Size</th>\n",
       "      <th>Price</th>\n",
       "      <th>Content Rating</th>\n",
       "    </tr>\n",
       "  </thead>\n",
       "  <tbody>\n",
       "    <tr>\n",
       "      <th>2</th>\n",
       "      <td>44</td>\n",
       "      <td>3.656329</td>\n",
       "      <td>1967</td>\n",
       "      <td>100000.0</td>\n",
       "      <td>1400000.0</td>\n",
       "      <td>0.00</td>\n",
       "      <td>3</td>\n",
       "    </tr>\n",
       "    <tr>\n",
       "      <th>3</th>\n",
       "      <td>14</td>\n",
       "      <td>4.107233</td>\n",
       "      <td>389154</td>\n",
       "      <td>10000000.0</td>\n",
       "      <td>16000000.0</td>\n",
       "      <td>0.00</td>\n",
       "      <td>3</td>\n",
       "    </tr>\n",
       "    <tr>\n",
       "      <th>4</th>\n",
       "      <td>14</td>\n",
       "      <td>4.647752</td>\n",
       "      <td>2291</td>\n",
       "      <td>10000.0</td>\n",
       "      <td>16000000.0</td>\n",
       "      <td>5.99</td>\n",
       "      <td>3</td>\n",
       "    </tr>\n",
       "    <tr>\n",
       "      <th>5</th>\n",
       "      <td>14</td>\n",
       "      <td>3.825322</td>\n",
       "      <td>2559</td>\n",
       "      <td>100000.0</td>\n",
       "      <td>23000000.0</td>\n",
       "      <td>0.00</td>\n",
       "      <td>3</td>\n",
       "    </tr>\n",
       "    <tr>\n",
       "      <th>6</th>\n",
       "      <td>48</td>\n",
       "      <td>4.267268</td>\n",
       "      <td>421918</td>\n",
       "      <td>10000000.0</td>\n",
       "      <td>23000000.0</td>\n",
       "      <td>0.00</td>\n",
       "      <td>6</td>\n",
       "    </tr>\n",
       "  </tbody>\n",
       "</table>\n",
       "</div>"
      ],
      "text/plain": [
       "   Category    Rating  Reviews    Installs        Size  Price  Content Rating\n",
       "2        44  3.656329     1967    100000.0   1400000.0   0.00               3\n",
       "3        14  4.107233   389154  10000000.0  16000000.0   0.00               3\n",
       "4        14  4.647752     2291     10000.0  16000000.0   5.99               3\n",
       "5        14  3.825322     2559    100000.0  23000000.0   0.00               3\n",
       "6        48  4.267268   421918  10000000.0  23000000.0   0.00               6"
      ]
     },
     "execution_count": 194,
     "metadata": {},
     "output_type": "execute_result"
    }
   ],
   "source": [
    "data.head()"
   ]
  },
  {
   "cell_type": "code",
   "execution_count": 196,
   "id": "3002f354",
   "metadata": {},
   "outputs": [
    {
     "name": "stdout",
     "output_type": "stream",
     "text": [
      "<class 'pandas.core.frame.DataFrame'>\n",
      "Int64Index: 25915 entries, 2 to 25919\n",
      "Data columns (total 7 columns):\n",
      " #   Column          Non-Null Count  Dtype  \n",
      "---  ------          --------------  -----  \n",
      " 0   Category        25915 non-null  int8   \n",
      " 1   Rating          25915 non-null  float64\n",
      " 2   Reviews         25915 non-null  int64  \n",
      " 3   Installs        25915 non-null  float64\n",
      " 4   Size            25915 non-null  float64\n",
      " 5   Price           25915 non-null  float64\n",
      " 6   Content Rating  25915 non-null  int8   \n",
      "dtypes: float64(4), int64(1), int8(2)\n",
      "memory usage: 1.2 MB\n"
     ]
    }
   ],
   "source": [
    "data.info() #checking if all the fields except 'Category' and 'Genres' are of either 'int64' or 'float64' type for regression"
   ]
  },
  {
   "cell_type": "code",
   "execution_count": 204,
   "id": "2c87fbe8",
   "metadata": {},
   "outputs": [
    {
     "data": {
      "text/html": [
       "<div>\n",
       "<style scoped>\n",
       "    .dataframe tbody tr th:only-of-type {\n",
       "        vertical-align: middle;\n",
       "    }\n",
       "\n",
       "    .dataframe tbody tr th {\n",
       "        vertical-align: top;\n",
       "    }\n",
       "\n",
       "    .dataframe thead th {\n",
       "        text-align: right;\n",
       "    }\n",
       "</style>\n",
       "<table border=\"1\" class=\"dataframe\">\n",
       "  <thead>\n",
       "    <tr style=\"text-align: right;\">\n",
       "      <th></th>\n",
       "      <th>Category</th>\n",
       "      <th>Rating</th>\n",
       "      <th>Reviews</th>\n",
       "      <th>Installs</th>\n",
       "      <th>Size</th>\n",
       "      <th>Price</th>\n",
       "      <th>Content Rating</th>\n",
       "    </tr>\n",
       "  </thead>\n",
       "  <tbody>\n",
       "    <tr>\n",
       "      <th>2</th>\n",
       "      <td>44</td>\n",
       "      <td>3.656329</td>\n",
       "      <td>1967</td>\n",
       "      <td>100000.0</td>\n",
       "      <td>1400000.0</td>\n",
       "      <td>0.00</td>\n",
       "      <td>3</td>\n",
       "    </tr>\n",
       "    <tr>\n",
       "      <th>3</th>\n",
       "      <td>14</td>\n",
       "      <td>4.107233</td>\n",
       "      <td>389154</td>\n",
       "      <td>10000000.0</td>\n",
       "      <td>16000000.0</td>\n",
       "      <td>0.00</td>\n",
       "      <td>3</td>\n",
       "    </tr>\n",
       "    <tr>\n",
       "      <th>4</th>\n",
       "      <td>14</td>\n",
       "      <td>4.647752</td>\n",
       "      <td>2291</td>\n",
       "      <td>10000.0</td>\n",
       "      <td>16000000.0</td>\n",
       "      <td>5.99</td>\n",
       "      <td>3</td>\n",
       "    </tr>\n",
       "    <tr>\n",
       "      <th>5</th>\n",
       "      <td>14</td>\n",
       "      <td>3.825322</td>\n",
       "      <td>2559</td>\n",
       "      <td>100000.0</td>\n",
       "      <td>23000000.0</td>\n",
       "      <td>0.00</td>\n",
       "      <td>3</td>\n",
       "    </tr>\n",
       "    <tr>\n",
       "      <th>6</th>\n",
       "      <td>48</td>\n",
       "      <td>4.267268</td>\n",
       "      <td>421918</td>\n",
       "      <td>10000000.0</td>\n",
       "      <td>23000000.0</td>\n",
       "      <td>0.00</td>\n",
       "      <td>6</td>\n",
       "    </tr>\n",
       "  </tbody>\n",
       "</table>\n",
       "</div>"
      ],
      "text/plain": [
       "   Category    Rating  Reviews    Installs        Size  Price  Content Rating\n",
       "2        44  3.656329     1967    100000.0   1400000.0   0.00               3\n",
       "3        14  4.107233   389154  10000000.0  16000000.0   0.00               3\n",
       "4        14  4.647752     2291     10000.0  16000000.0   5.99               3\n",
       "5        14  3.825322     2559    100000.0  23000000.0   0.00               3\n",
       "6        48  4.267268   421918  10000000.0  23000000.0   0.00               6"
      ]
     },
     "execution_count": 204,
     "metadata": {},
     "output_type": "execute_result"
    }
   ],
   "source": [
    "data.head()"
   ]
  },
  {
   "cell_type": "code",
   "execution_count": 238,
   "id": "f47f1977",
   "metadata": {},
   "outputs": [
    {
     "data": {
      "text/plain": [
       "[<matplotlib.lines.Line2D at 0x197d92dd7f0>]"
      ]
     },
     "execution_count": 238,
     "metadata": {},
     "output_type": "execute_result"
    },
    {
     "data": {
      "image/png": "[encoded data removed]",
      "text/plain": [
       "<Figure size 432x288 with 1 Axes>"
      ]
     },
     "metadata": {
      "needs_background": "light"
     },
     "output_type": "display_data"
    }
   ],
   "source": [
    "data.plot(x = 'Size',y='Rating',kind = 'scatter',color = 'green')\n",
    "plt.plot(test['Size'], y_pred_n, color='red', linewidth = 3)\n"
   ]
  },
  {
   "cell_type": "code",
   "execution_count": 255,
   "id": "ca96e53c",
   "metadata": {},
   "outputs": [],
   "source": [
    "x_size_lin = np.linspace(train['Size'].min(),train['Size'].max(),100)"
   ]
  },
  {
   "cell_type": "code",
   "execution_count": 256,
   "id": "7efeec5c",
   "metadata": {},
   "outputs": [],
   "source": [
    "fun = model.intercept_ + (new_coef[3] * x_size_lin)\n"
   ]
  },
  {
   "cell_type": "code",
   "execution_count": 259,
   "id": "e72147d6",
   "metadata": {},
   "outputs": [
    {
     "data": {
      "image/png": "[encoded data removed]",
      "text/plain": [
       "<Figure size 360x360 with 1 Axes>"
      ]
     },
     "metadata": {
      "needs_background": "light"
     },
     "output_type": "display_data"
    }
   ],
   "source": [
    "fig, ax = plt.subplots(figsize=(5,5))\n",
    "ax.plot(x_size_lin, fun, 'r', label='Prediction')\n",
    "ax.scatter(train['Size'], train[target], label='Training Data')\n",
    "ax.set_xlabel('Size')\n",
    "ax.set_ylabel('Rating')\n",
    "ax.set_title('Size vs. Rating with regression line');"
   ]
  },
  {
   "cell_type": "code",
   "execution_count": 244,
   "id": "7ac3365b",
   "metadata": {},
   "outputs": [
    {
     "data": {
      "text/plain": [
       "[<matplotlib.lines.Line2D at 0x197e0b62c10>]"
      ]
     },
     "execution_count": 244,
     "metadata": {},
     "output_type": "execute_result"
    },
    {
     "data": {
      "image/png": "[encoded data removed]",
      "text/plain": [
       "<Figure size 360x360 with 1 Axes>"
      ]
     },
     "metadata": {
      "needs_background": "light"
     },
     "output_type": "display_data"
    }
   ],
   "source": [
    "fig, ax = plt.subplots(figsize=(5,5))\n",
    "ax.plot(x_size_lin, fun, 'r', label='Prediction')"
   ]
  },
  {
   "cell_type": "code",
   "execution_count": 249,
   "id": "e7feeb8e",
   "metadata": {},
   "outputs": [],
   "source": [
    "x1 = train['Size']\n",
    "y1 = train[target]"
   ]
  },
  {
   "cell_type": "code",
   "execution_count": 250,
   "id": "b990bac7",
   "metadata": {},
   "outputs": [],
   "source": [
    "x1=np.expand_dims(x1, axis=1)\n",
    "y1=np.expand_dims(y1, axis=1)"
   ]
  },
  {
   "cell_type": "code",
   "execution_count": 252,
   "id": "58bdb714",
   "metadata": {},
   "outputs": [
    {
     "data": {
      "image/png": "[encoded data removed]",
      "text/plain": [
       "<Figure size 432x288 with 1 Axes>"
      ]
     },
     "metadata": {
      "needs_background": "light"
     },
     "output_type": "display_data"
    }
   ],
   "source": [
    "plt.scatter(x1, y1);"
   ]
  },
  {
   "cell_type": "code",
   "execution_count": null,
   "id": "48059243",
   "metadata": {},
   "outputs": [],
   "source": []
  },
  {
   "cell_type": "code",
   "execution_count": null,
   "id": "2def471c",
   "metadata": {},
   "outputs": [],
   "source": []
  },
  {
   "cell_type": "code",
   "execution_count": 201,
   "id": "276b7602",
   "metadata": {},
   "outputs": [
    {
     "data": {
      "text/plain": [
       "<AxesSubplot:xlabel='Price', ylabel='Rating'>"
      ]
     },
     "execution_count": 201,
     "metadata": {},
     "output_type": "execute_result"
    },
    {
     "data": {
      "image/png": "[encoded data removed]",
      "text/plain": [
       "<Figure size 432x288 with 1 Axes>"
      ]
     },
     "metadata": {
      "needs_background": "light"
     },
     "output_type": "display_data"
    }
   ],
   "source": [
    "data.plot(x = 'Price',y='Rating',kind = 'scatter',color = 'r')"
   ]
  },
  {
   "cell_type": "code",
   "execution_count": 202,
   "id": "539a14f2",
   "metadata": {},
   "outputs": [
    {
     "data": {
      "text/plain": [
       "<AxesSubplot:xlabel='Installs', ylabel='Rating'>"
      ]
     },
     "execution_count": 202,
     "metadata": {},
     "output_type": "execute_result"
    },
    {
     "data": {
      "image/png": "[encoded data removed]",
      "text/plain": [
       "<Figure size 432x288 with 1 Axes>"
      ]
     },
     "metadata": {
      "needs_background": "light"
     },
     "output_type": "display_data"
    }
   ],
   "source": [
    "data.plot(x = 'Installs',y='Rating',kind = 'scatter',color = 'r')"
   ]
  },
  {
   "cell_type": "code",
   "execution_count": 205,
   "id": "4bd4117e",
   "metadata": {},
   "outputs": [],
   "source": [
    "#Data after Normalization \n",
    "# data = (data - data.mean())/data.std()"
   ]
  },
  {
   "cell_type": "code",
   "execution_count": 206,
   "id": "5683a3a2",
   "metadata": {},
   "outputs": [
    {
     "data": {
      "text/html": [
       "<div>\n",
       "<style scoped>\n",
       "    .dataframe tbody tr th:only-of-type {\n",
       "        vertical-align: middle;\n",
       "    }\n",
       "\n",
       "    .dataframe tbody tr th {\n",
       "        vertical-align: top;\n",
       "    }\n",
       "\n",
       "    .dataframe thead th {\n",
       "        text-align: right;\n",
       "    }\n",
       "</style>\n",
       "<table border=\"1\" class=\"dataframe\">\n",
       "  <thead>\n",
       "    <tr style=\"text-align: right;\">\n",
       "      <th></th>\n",
       "      <th>Category</th>\n",
       "      <th>Rating</th>\n",
       "      <th>Reviews</th>\n",
       "      <th>Installs</th>\n",
       "      <th>Size</th>\n",
       "      <th>Price</th>\n",
       "      <th>Content Rating</th>\n",
       "    </tr>\n",
       "  </thead>\n",
       "  <tbody>\n",
       "    <tr>\n",
       "      <th>2</th>\n",
       "      <td>44</td>\n",
       "      <td>3.656329</td>\n",
       "      <td>1967</td>\n",
       "      <td>100000.0</td>\n",
       "      <td>1400000.0</td>\n",
       "      <td>0.00</td>\n",
       "      <td>3</td>\n",
       "    </tr>\n",
       "    <tr>\n",
       "      <th>3</th>\n",
       "      <td>14</td>\n",
       "      <td>4.107233</td>\n",
       "      <td>389154</td>\n",
       "      <td>10000000.0</td>\n",
       "      <td>16000000.0</td>\n",
       "      <td>0.00</td>\n",
       "      <td>3</td>\n",
       "    </tr>\n",
       "    <tr>\n",
       "      <th>4</th>\n",
       "      <td>14</td>\n",
       "      <td>4.647752</td>\n",
       "      <td>2291</td>\n",
       "      <td>10000.0</td>\n",
       "      <td>16000000.0</td>\n",
       "      <td>5.99</td>\n",
       "      <td>3</td>\n",
       "    </tr>\n",
       "    <tr>\n",
       "      <th>5</th>\n",
       "      <td>14</td>\n",
       "      <td>3.825322</td>\n",
       "      <td>2559</td>\n",
       "      <td>100000.0</td>\n",
       "      <td>23000000.0</td>\n",
       "      <td>0.00</td>\n",
       "      <td>3</td>\n",
       "    </tr>\n",
       "    <tr>\n",
       "      <th>6</th>\n",
       "      <td>48</td>\n",
       "      <td>4.267268</td>\n",
       "      <td>421918</td>\n",
       "      <td>10000000.0</td>\n",
       "      <td>23000000.0</td>\n",
       "      <td>0.00</td>\n",
       "      <td>6</td>\n",
       "    </tr>\n",
       "  </tbody>\n",
       "</table>\n",
       "</div>"
      ],
      "text/plain": [
       "   Category    Rating  Reviews    Installs        Size  Price  Content Rating\n",
       "2        44  3.656329     1967    100000.0   1400000.0   0.00               3\n",
       "3        14  4.107233   389154  10000000.0  16000000.0   0.00               3\n",
       "4        14  4.647752     2291     10000.0  16000000.0   5.99               3\n",
       "5        14  3.825322     2559    100000.0  23000000.0   0.00               3\n",
       "6        48  4.267268   421918  10000000.0  23000000.0   0.00               6"
      ]
     },
     "execution_count": 206,
     "metadata": {},
     "output_type": "execute_result"
    }
   ],
   "source": [
    "data.head()"
   ]
  },
  {
   "cell_type": "code",
   "execution_count": 207,
   "id": "14f0b6a5",
   "metadata": {},
   "outputs": [],
   "source": [
    "features = ['Category','Reviews','Installs','Size','Price','Content Rating']\n",
    "target = ['Rating']"
   ]
  },
  {
   "cell_type": "code",
   "execution_count": 208,
   "id": "4f529c6c",
   "metadata": {},
   "outputs": [
    {
     "data": {
      "text/html": [
       "<div>\n",
       "<style scoped>\n",
       "    .dataframe tbody tr th:only-of-type {\n",
       "        vertical-align: middle;\n",
       "    }\n",
       "\n",
       "    .dataframe tbody tr th {\n",
       "        vertical-align: top;\n",
       "    }\n",
       "\n",
       "    .dataframe thead th {\n",
       "        text-align: right;\n",
       "    }\n",
       "</style>\n",
       "<table border=\"1\" class=\"dataframe\">\n",
       "  <thead>\n",
       "    <tr style=\"text-align: right;\">\n",
       "      <th></th>\n",
       "      <th>Category</th>\n",
       "      <th>Rating</th>\n",
       "      <th>Reviews</th>\n",
       "      <th>Installs</th>\n",
       "      <th>Size</th>\n",
       "      <th>Price</th>\n",
       "      <th>Content Rating</th>\n",
       "    </tr>\n",
       "  </thead>\n",
       "  <tbody>\n",
       "    <tr>\n",
       "      <th>23935</th>\n",
       "      <td>42</td>\n",
       "      <td>4.652224</td>\n",
       "      <td>20818</td>\n",
       "      <td>1000000.0</td>\n",
       "      <td>37000000.0</td>\n",
       "      <td>0.0</td>\n",
       "      <td>3</td>\n",
       "    </tr>\n",
       "    <tr>\n",
       "      <th>6812</th>\n",
       "      <td>4</td>\n",
       "      <td>4.538168</td>\n",
       "      <td>1048</td>\n",
       "      <td>100000.0</td>\n",
       "      <td>58000000.0</td>\n",
       "      <td>0.0</td>\n",
       "      <td>3</td>\n",
       "    </tr>\n",
       "    <tr>\n",
       "      <th>10809</th>\n",
       "      <td>26</td>\n",
       "      <td>4.305950</td>\n",
       "      <td>4151</td>\n",
       "      <td>100000.0</td>\n",
       "      <td>58000000.0</td>\n",
       "      <td>0.0</td>\n",
       "      <td>4</td>\n",
       "    </tr>\n",
       "    <tr>\n",
       "      <th>5551</th>\n",
       "      <td>6</td>\n",
       "      <td>5.000000</td>\n",
       "      <td>1</td>\n",
       "      <td>100.0</td>\n",
       "      <td>24000000.0</td>\n",
       "      <td>0.0</td>\n",
       "      <td>3</td>\n",
       "    </tr>\n",
       "    <tr>\n",
       "      <th>7830</th>\n",
       "      <td>10</td>\n",
       "      <td>4.647173</td>\n",
       "      <td>513</td>\n",
       "      <td>10000.0</td>\n",
       "      <td>7900000.0</td>\n",
       "      <td>0.0</td>\n",
       "      <td>3</td>\n",
       "    </tr>\n",
       "  </tbody>\n",
       "</table>\n",
       "</div>"
      ],
      "text/plain": [
       "       Category    Rating  Reviews   Installs        Size  Price  \\\n",
       "23935        42  4.652224    20818  1000000.0  37000000.0    0.0   \n",
       "6812          4  4.538168     1048   100000.0  58000000.0    0.0   \n",
       "10809        26  4.305950     4151   100000.0  58000000.0    0.0   \n",
       "5551          6  5.000000        1      100.0  24000000.0    0.0   \n",
       "7830         10  4.647173      513    10000.0   7900000.0    0.0   \n",
       "\n",
       "       Content Rating  \n",
       "23935               3  \n",
       "6812                3  \n",
       "10809               4  \n",
       "5551                3  \n",
       "7830                3  "
      ]
     },
     "execution_count": 208,
     "metadata": {},
     "output_type": "execute_result"
    }
   ],
   "source": [
    "train, test = train_test_split(data,test_size=0.20)\n",
    "train.head()"
   ]
  },
  {
   "cell_type": "code",
   "execution_count": 209,
   "id": "2cb381bb",
   "metadata": {},
   "outputs": [
    {
     "data": {
      "text/plain": [
       "(20732, 7)"
      ]
     },
     "execution_count": 209,
     "metadata": {},
     "output_type": "execute_result"
    }
   ],
   "source": [
    "train.shape"
   ]
  },
  {
   "cell_type": "code",
   "execution_count": 210,
   "id": "2874a046",
   "metadata": {},
   "outputs": [
    {
     "data": {
      "text/plain": [
       "(5183, 7)"
      ]
     },
     "execution_count": 210,
     "metadata": {},
     "output_type": "execute_result"
    }
   ],
   "source": [
    "test.shape"
   ]
  },
  {
   "cell_type": "code",
   "execution_count": 211,
   "id": "115e2f09",
   "metadata": {},
   "outputs": [],
   "source": [
    "X_train = train[features]\n",
    "Y_train = train[target]\n",
    "X_test = test[features]\n",
    "Y_test = test[target]"
   ]
  },
  {
   "cell_type": "code",
   "execution_count": 212,
   "id": "06dd5928",
   "metadata": {},
   "outputs": [],
   "source": [
    "y_train = np.ravel(Y_train)\n",
    "y_test = np.ravel(Y_test)"
   ]
  },
  {
   "cell_type": "code",
   "execution_count": 213,
   "id": "07b1c930",
   "metadata": {},
   "outputs": [],
   "source": [
    "model = LinearRegression()"
   ]
  },
  {
   "cell_type": "code",
   "execution_count": 214,
   "id": "62e9982b",
   "metadata": {},
   "outputs": [
    {
     "data": {
      "text/plain": [
       "LinearRegression()"
      ]
     },
     "execution_count": 214,
     "metadata": {},
     "output_type": "execute_result"
    }
   ],
   "source": [
    "model.fit(X_train,Y_train)"
   ]
  },
  {
   "cell_type": "code",
   "execution_count": 215,
   "id": "f1ef3be6",
   "metadata": {},
   "outputs": [
    {
     "name": "stdout",
     "output_type": "stream",
     "text": [
      "Intercept: \n",
      " [4.2316703]\n"
     ]
    }
   ],
   "source": [
    "print('Intercept: \\n', model.intercept_) #value of b0"
   ]
  },
  {
   "cell_type": "code",
   "execution_count": 254,
   "id": "b00186db",
   "metadata": {},
   "outputs": [
    {
     "data": {
      "text/plain": [
       "Text(0, 0.5, 'Predicted Y')"
      ]
     },
     "execution_count": 254,
     "metadata": {},
     "output_type": "execute_result"
    },
    {
     "data": {
      "image/png": "[encoded data removed]",
      "text/plain": [
       "<Figure size 432x288 with 1 Axes>"
      ]
     },
     "metadata": {
      "needs_background": "light"
     },
     "output_type": "display_data"
    }
   ],
   "source": [
    "plt.scatter(y_test_n,y_pred_n)  \n",
    "\n",
    "plt.ylim(3.8,5) \n",
    "plt.xlim(0,5)\n",
    "\n",
    "x = np.linspace(0, 5, 30)\n",
    "plt.plot(x, x + 0,'r', linestyle='solid')\n",
    "\n",
    "plt.xlabel('Y Test (Actual Y)')\n",
    "plt.ylabel('Predicted Y')"
   ]
  },
  {
   "cell_type": "code",
   "execution_count": 216,
   "id": "52622f56",
   "metadata": {},
   "outputs": [],
   "source": [
    "coef = model.coef_"
   ]
  },
  {
   "cell_type": "code",
   "execution_count": 217,
   "id": "8ebbd27c",
   "metadata": {},
   "outputs": [
    {
     "data": {
      "text/plain": [
       "array([[-5.54369291e-04,  1.13562474e-08, -2.66285291e-11,\n",
       "         4.02247418e-10,  1.58888488e-03,  1.04104758e-02]])"
      ]
     },
     "execution_count": 217,
     "metadata": {},
     "output_type": "execute_result"
    }
   ],
   "source": [
    "coef"
   ]
  },
  {
   "cell_type": "code",
   "execution_count": 234,
   "id": "83b17fc0",
   "metadata": {},
   "outputs": [
    {
     "data": {
      "text/plain": [
       "4.0224741753726796e-10"
      ]
     },
     "execution_count": 234,
     "metadata": {},
     "output_type": "execute_result"
    }
   ],
   "source": [
    "new_coef = np.ravel(coef)\n",
    "new_coef[3]"
   ]
  },
  {
   "cell_type": "code",
   "execution_count": 235,
   "id": "3f7c9a7c",
   "metadata": {},
   "outputs": [],
   "source": [
    "x_size_lin = np.linspace(data.Size.min(),data.Size.max(),100)"
   ]
  },
  {
   "cell_type": "code",
   "execution_count": null,
   "id": "16ac7cca",
   "metadata": {},
   "outputs": [],
   "source": []
  },
  {
   "cell_type": "code",
   "execution_count": 219,
   "id": "3ef57059",
   "metadata": {},
   "outputs": [
    {
     "data": {
      "text/plain": [
       "array([[4.25805409],\n",
       "       [4.27566032],\n",
       "       [4.24826304],\n",
       "       ...,\n",
       "       [4.25865977],\n",
       "       [4.2745442 ],\n",
       "       [4.28474969]])"
      ]
     },
     "execution_count": 219,
     "metadata": {},
     "output_type": "execute_result"
    }
   ],
   "source": [
    "Y_pred = model.predict(X_test) # Ratings are predicted using the regression model and saved in Y_pred\n",
    "Y_pred"
   ]
  },
  {
   "cell_type": "code",
   "execution_count": 220,
   "id": "1363054a",
   "metadata": {},
   "outputs": [
    {
     "data": {
      "text/plain": [
       "array([[4.19997072],\n",
       "       [4.05517244],\n",
       "       [4.6678896 ],\n",
       "       ...,\n",
       "       [4.12164784],\n",
       "       [4.61592484],\n",
       "       [2.27296591]])"
      ]
     },
     "execution_count": 220,
     "metadata": {},
     "output_type": "execute_result"
    }
   ],
   "source": [
    "Y_test.values"
   ]
  },
  {
   "cell_type": "code",
   "execution_count": 221,
   "id": "91174f97",
   "metadata": {},
   "outputs": [
    {
     "data": {
      "text/html": [
       "<div>\n",
       "<style scoped>\n",
       "    .dataframe tbody tr th:only-of-type {\n",
       "        vertical-align: middle;\n",
       "    }\n",
       "\n",
       "    .dataframe tbody tr th {\n",
       "        vertical-align: top;\n",
       "    }\n",
       "\n",
       "    .dataframe thead th {\n",
       "        text-align: right;\n",
       "    }\n",
       "</style>\n",
       "<table border=\"1\" class=\"dataframe\">\n",
       "  <thead>\n",
       "    <tr style=\"text-align: right;\">\n",
       "      <th></th>\n",
       "      <th>Coefficient</th>\n",
       "    </tr>\n",
       "  </thead>\n",
       "  <tbody>\n",
       "    <tr>\n",
       "      <th>Category</th>\n",
       "      <td>-5.543693e-04</td>\n",
       "    </tr>\n",
       "    <tr>\n",
       "      <th>Reviews</th>\n",
       "      <td>1.135625e-08</td>\n",
       "    </tr>\n",
       "    <tr>\n",
       "      <th>Installs</th>\n",
       "      <td>-2.662853e-11</td>\n",
       "    </tr>\n",
       "    <tr>\n",
       "      <th>Size</th>\n",
       "      <td>4.022474e-10</td>\n",
       "    </tr>\n",
       "    <tr>\n",
       "      <th>Price</th>\n",
       "      <td>1.588885e-03</td>\n",
       "    </tr>\n",
       "    <tr>\n",
       "      <th>Content Rating</th>\n",
       "      <td>1.041048e-02</td>\n",
       "    </tr>\n",
       "  </tbody>\n",
       "</table>\n",
       "</div>"
      ],
      "text/plain": [
       "                 Coefficient\n",
       "Category       -5.543693e-04\n",
       "Reviews         1.135625e-08\n",
       "Installs       -2.662853e-11\n",
       "Size            4.022474e-10\n",
       "Price           1.588885e-03\n",
       "Content Rating  1.041048e-02"
      ]
     },
     "execution_count": 221,
     "metadata": {},
     "output_type": "execute_result"
    }
   ],
   "source": [
    "coeff_df = pd.DataFrame(new_coef, ['Category','Reviews','Installs','Size','Price','Content Rating'], columns=['Coefficient'])  \n",
    "coeff_df"
   ]
  },
  {
   "cell_type": "code",
   "execution_count": 222,
   "id": "16fe6691",
   "metadata": {},
   "outputs": [],
   "source": [
    "y_test_n = np.ravel(Y_test)"
   ]
  },
  {
   "cell_type": "code",
   "execution_count": 223,
   "id": "8ef4254a",
   "metadata": {},
   "outputs": [
    {
     "data": {
      "text/plain": [
       "array([4.19997072, 4.05517244, 4.6678896 , ..., 4.12164784, 4.61592484,\n",
       "       2.27296591])"
      ]
     },
     "execution_count": 223,
     "metadata": {},
     "output_type": "execute_result"
    }
   ],
   "source": [
    "y_test_n"
   ]
  },
  {
   "cell_type": "code",
   "execution_count": null,
   "id": "34298033",
   "metadata": {},
   "outputs": [],
   "source": []
  },
  {
   "cell_type": "code",
   "execution_count": 224,
   "id": "3171ee76",
   "metadata": {},
   "outputs": [],
   "source": [
    "y_pred_n = np.ravel(Y_pred)"
   ]
  },
  {
   "cell_type": "code",
   "execution_count": 225,
   "id": "03215886",
   "metadata": {},
   "outputs": [],
   "source": [
    "df1 = pd.DataFrame.from_records({'Actual': y_test_n, 'Predicted': y_pred_n}) \n",
    "df2=df1.head(20) "
   ]
  },
  {
   "cell_type": "code",
   "execution_count": 226,
   "id": "fff914a9",
   "metadata": {},
   "outputs": [
    {
     "data": {
      "image/png": "[encoded data removed]",
      "text/plain": [
       "<Figure size 720x576 with 1 Axes>"
      ]
     },
     "metadata": {
      "needs_background": "light"
     },
     "output_type": "display_data"
    }
   ],
   "source": [
    "df2.plot(kind='bar',figsize=(10,8)) #actual vs predicted Rating values\n",
    "plt.grid(which='major', linestyle='-', linewidth='0.5', color='black')\n",
    "# plt.grid(which='minor', linestyle=':', linewidth='1', color='r')\n",
    "plt.xlabel('app instance',color='black',fontsize=14)\n",
    "plt.ylabel('rating',color='black',fontsize = 14)\n",
    "\n",
    "plt.show()"
   ]
  },
  {
   "cell_type": "code",
   "execution_count": 227,
   "id": "7159559e",
   "metadata": {},
   "outputs": [
    {
     "name": "stdout",
     "output_type": "stream",
     "text": [
      "Mean Squared Error: 0.2429065183664186\n",
      "Mean absolute Error: 0.348759678971473\n",
      "Mean squared Log Error: 0.011657997222504424\n"
     ]
    }
   ],
   "source": [
    "print ('Mean Squared Error: '+ str(metrics.mean_squared_error(Y_test,Y_pred)))\n",
    "print ('Mean absolute Error: '+ str(metrics.mean_absolute_error(Y_test,Y_pred)))\n",
    "print ('Mean squared Log Error: '+ str(metrics.mean_squared_log_error(Y_test,Y_pred)))"
   ]
  },
  {
   "cell_type": "code",
   "execution_count": 228,
   "id": "39db6753",
   "metadata": {},
   "outputs": [],
   "source": [
    "from sklearn.preprocessing import PolynomialFeatures\n",
    "poly_reg_2 = PolynomialFeatures(degree=2)\n",
    "X_poly_2 = poly_reg_2.fit_transform(X_train)"
   ]
  },
  {
   "cell_type": "code",
   "execution_count": 229,
   "id": "51a9a177",
   "metadata": {},
   "outputs": [
    {
     "data": {
      "text/plain": [
       "LinearRegression()"
      ]
     },
     "execution_count": 229,
     "metadata": {},
     "output_type": "execute_result"
    }
   ],
   "source": [
    "lin_reg_2 = LinearRegression()\n",
    "lin_reg_2.fit(X_poly_2, y_train)"
   ]
  },
  {
   "cell_type": "code",
   "execution_count": 230,
   "id": "853e3647",
   "metadata": {},
   "outputs": [],
   "source": [
    "X_poly_2_test = poly_reg_2.fit_transform(X_test)"
   ]
  },
  {
   "cell_type": "code",
   "execution_count": 231,
   "id": "7a3626ba",
   "metadata": {},
   "outputs": [],
   "source": [
    "y_prdipol = lin_reg_2.predict(X_poly_2_test)"
   ]
  },
  {
   "cell_type": "code",
   "execution_count": 232,
   "id": "de52c476",
   "metadata": {},
   "outputs": [
    {
     "name": "stdout",
     "output_type": "stream",
     "text": [
      "Mean Squared Error: 0.24172619245407193\n",
      "Mean absolute Error: 0.3477585363887495\n",
      "Mean squared Log Error: 0.011608075241607995\n"
     ]
    }
   ],
   "source": [
    "print ('Mean Squared Error: '+ str(metrics.mean_squared_error(Y_test,y_prdipol)))\n",
    "print ('Mean absolute Error: '+ str(metrics.mean_absolute_error(Y_test,y_prdipol)))\n",
    "print ('Mean squared Log Error: '+ str(metrics.mean_squared_log_error(Y_test,y_prdipol)))"
   ]
  },
  {
   "cell_type": "code",
   "execution_count": null,
   "id": "403b4324",
   "metadata": {},
   "outputs": [],
   "source": []
  },
  {
   "cell_type": "code",
   "execution_count": null,
   "id": "3b581473",
   "metadata": {},
   "outputs": [],
   "source": []
  },
  {
   "cell_type": "code",
   "execution_count": null,
   "id": "53c85f90",
   "metadata": {},
   "outputs": [],
   "source": []
  },
  {
   "cell_type": "code",
   "execution_count": null,
   "id": "8684c072",
   "metadata": {},
   "outputs": [],
   "source": []
  },
  {
   "cell_type": "code",
   "execution_count": 95,
   "id": "ec69d131",
   "metadata": {},
   "outputs": [
    {
     "data": {
      "text/plain": [
       "[(10, -0.012946161153899904),\n",
       " (20, 0.04936195668130794),\n",
       " (30, 0.05139889447839174),\n",
       " (40, 0.07556417996133491),\n",
       " (50, 0.06551957994318591),\n",
       " (60, 0.06548598191327382),\n",
       " (70, 0.07534433591750334),\n",
       " (80, 0.07372508318118165),\n",
       " (90, 0.07341282726907417),\n",
       " (100, 0.07362705782594703),\n",
       " (110, 0.0795426625446275),\n",
       " (120, 0.07411306973842635),\n",
       " (130, 0.07591595011754393),\n",
       " (140, 0.07786790459536408),\n",
       " (150, 0.08030465162005007),\n",
       " (160, 0.0751377810800582),\n",
       " (170, 0.07724992108894213),\n",
       " (180, 0.0780921489392239),\n",
       " (190, 0.0863651961111831)]"
      ]
     },
     "execution_count": 95,
     "metadata": {},
     "output_type": "execute_result"
    },
    {
     "data": {
      "image/png": "[encoded data removed]",
      "text/plain": [
       "<Figure size 504x360 with 1 Axes>"
      ]
     },
     "metadata": {
      "needs_background": "light"
     },
     "output_type": "display_data"
    }
   ],
   "source": [
    "from sklearn.ensemble import RandomForestRegressor\n",
    "model = RandomForestRegressor(n_jobs=-1)\n",
    "# Try different numbers of n_estimators - this will take a minute or so\n",
    "estimators = np.arange(10, 200, 10)\n",
    "scores = []\n",
    "for n in estimators:\n",
    "    model.set_params(n_estimators=n)\n",
    "    model.fit(X_train, y_train)\n",
    "    scores.append(model.score(X_test, y_test))\n",
    "plt.figure(figsize=(7, 5))\n",
    "plt.title(\"Effect of Estimators\")\n",
    "plt.xlabel(\"no. estimator\")\n",
    "plt.ylabel(\"score\")\n",
    "plt.plot(estimators, scores)\n",
    "results = list(zip(estimators,scores))\n",
    "results"
   ]
  },
  {
   "cell_type": "code",
   "execution_count": 97,
   "id": "27c26b9c",
   "metadata": {},
   "outputs": [
    {
     "data": {
      "text/plain": [
       "('Mean Squared Error:', 0.23522683533060262)"
      ]
     },
     "execution_count": 97,
     "metadata": {},
     "output_type": "execute_result"
    }
   ],
   "source": [
    "'Mean Squared Error:', metrics.mean_squared_error(y_test, predictions)"
   ]
  }
 ],
 "metadata": {
  "kernelspec": {
   "display_name": "Python 3 (ipykernel)",
   "language": "python",
   "name": "python3"
  },
  "language_info": {
   "codemirror_mode": {
    "name": "ipython",
    "version": 3
   },
   "file_extension": ".py",
   "mimetype": "text/x-python",
   "name": "python",
   "nbconvert_exporter": "python",
   "pygments_lexer": "ipython3",
   "version": "3.8.11"
  }
 },
 "nbformat": 4,
 "nbformat_minor": 5
}
