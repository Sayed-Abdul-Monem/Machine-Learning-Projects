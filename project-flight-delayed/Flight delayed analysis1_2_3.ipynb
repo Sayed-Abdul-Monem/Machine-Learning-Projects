{
 "cells": [
  {
   "cell_type": "code",
   "execution_count": 2,
   "id": "3f8e0a03",
   "metadata": {},
   "outputs": [],
   "source": [
    "import numpy as np \n",
    "import pandas as pd\n",
    "import matplotlib.pyplot as plt"
   ]
  },
  {
   "cell_type": "markdown",
   "id": "ccab3b1e",
   "metadata": {},
   "source": [
    "# Data Preparation"
   ]
  },
  {
   "cell_type": "code",
   "execution_count": 3,
   "id": "6d04c211",
   "metadata": {},
   "outputs": [],
   "source": [
    "df = pd.read_csv('Jan_2019_ontime.csv')"
   ]
  },
  {
   "cell_type": "code",
   "execution_count": 4,
   "id": "83082ebe",
   "metadata": {},
   "outputs": [],
   "source": [
    "pd.set_option('display.max_columns',None)"
   ]
  },
  {
   "cell_type": "code",
   "execution_count": 5,
   "id": "b75a4b01",
   "metadata": {},
   "outputs": [
    {
     "data": {
      "text/html": [
       "<div>\n",
       "<style scoped>\n",
       "    .dataframe tbody tr th:only-of-type {\n",
       "        vertical-align: middle;\n",
       "    }\n",
       "\n",
       "    .dataframe tbody tr th {\n",
       "        vertical-align: top;\n",
       "    }\n",
       "\n",
       "    .dataframe thead th {\n",
       "        text-align: right;\n",
       "    }\n",
       "</style>\n",
       "<table border=\"1\" class=\"dataframe\">\n",
       "  <thead>\n",
       "    <tr style=\"text-align: right;\">\n",
       "      <th></th>\n",
       "      <th>DAY_OF_MONTH</th>\n",
       "      <th>DAY_OF_WEEK</th>\n",
       "      <th>OP_UNIQUE_CARRIER</th>\n",
       "      <th>OP_CARRIER_AIRLINE_ID</th>\n",
       "      <th>OP_CARRIER</th>\n",
       "      <th>TAIL_NUM</th>\n",
       "      <th>OP_CARRIER_FL_NUM</th>\n",
       "      <th>ORIGIN_AIRPORT_ID</th>\n",
       "      <th>ORIGIN_AIRPORT_SEQ_ID</th>\n",
       "      <th>ORIGIN</th>\n",
       "      <th>DEST_AIRPORT_ID</th>\n",
       "      <th>DEST_AIRPORT_SEQ_ID</th>\n",
       "      <th>DEST</th>\n",
       "      <th>DEP_TIME</th>\n",
       "      <th>DEP_DEL15</th>\n",
       "      <th>DEP_TIME_BLK</th>\n",
       "      <th>ARR_TIME</th>\n",
       "      <th>ARR_DEL15</th>\n",
       "      <th>CANCELLED</th>\n",
       "      <th>DIVERTED</th>\n",
       "      <th>DISTANCE</th>\n",
       "      <th>Unnamed: 21</th>\n",
       "    </tr>\n",
       "  </thead>\n",
       "  <tbody>\n",
       "    <tr>\n",
       "      <th>0</th>\n",
       "      <td>1</td>\n",
       "      <td>2</td>\n",
       "      <td>9E</td>\n",
       "      <td>20363</td>\n",
       "      <td>9E</td>\n",
       "      <td>N8688C</td>\n",
       "      <td>3280</td>\n",
       "      <td>11953</td>\n",
       "      <td>1195302</td>\n",
       "      <td>GNV</td>\n",
       "      <td>10397</td>\n",
       "      <td>1039707</td>\n",
       "      <td>ATL</td>\n",
       "      <td>601.0</td>\n",
       "      <td>0.0</td>\n",
       "      <td>0600-0659</td>\n",
       "      <td>722.0</td>\n",
       "      <td>0.0</td>\n",
       "      <td>0.0</td>\n",
       "      <td>0.0</td>\n",
       "      <td>300.0</td>\n",
       "      <td>NaN</td>\n",
       "    </tr>\n",
       "    <tr>\n",
       "      <th>1</th>\n",
       "      <td>1</td>\n",
       "      <td>2</td>\n",
       "      <td>9E</td>\n",
       "      <td>20363</td>\n",
       "      <td>9E</td>\n",
       "      <td>N348PQ</td>\n",
       "      <td>3281</td>\n",
       "      <td>13487</td>\n",
       "      <td>1348702</td>\n",
       "      <td>MSP</td>\n",
       "      <td>11193</td>\n",
       "      <td>1119302</td>\n",
       "      <td>CVG</td>\n",
       "      <td>1359.0</td>\n",
       "      <td>0.0</td>\n",
       "      <td>1400-1459</td>\n",
       "      <td>1633.0</td>\n",
       "      <td>0.0</td>\n",
       "      <td>0.0</td>\n",
       "      <td>0.0</td>\n",
       "      <td>596.0</td>\n",
       "      <td>NaN</td>\n",
       "    </tr>\n",
       "    <tr>\n",
       "      <th>2</th>\n",
       "      <td>1</td>\n",
       "      <td>2</td>\n",
       "      <td>9E</td>\n",
       "      <td>20363</td>\n",
       "      <td>9E</td>\n",
       "      <td>N8896A</td>\n",
       "      <td>3282</td>\n",
       "      <td>11433</td>\n",
       "      <td>1143302</td>\n",
       "      <td>DTW</td>\n",
       "      <td>11193</td>\n",
       "      <td>1119302</td>\n",
       "      <td>CVG</td>\n",
       "      <td>1215.0</td>\n",
       "      <td>0.0</td>\n",
       "      <td>1200-1259</td>\n",
       "      <td>1329.0</td>\n",
       "      <td>0.0</td>\n",
       "      <td>0.0</td>\n",
       "      <td>0.0</td>\n",
       "      <td>229.0</td>\n",
       "      <td>NaN</td>\n",
       "    </tr>\n",
       "    <tr>\n",
       "      <th>3</th>\n",
       "      <td>1</td>\n",
       "      <td>2</td>\n",
       "      <td>9E</td>\n",
       "      <td>20363</td>\n",
       "      <td>9E</td>\n",
       "      <td>N8886A</td>\n",
       "      <td>3283</td>\n",
       "      <td>15249</td>\n",
       "      <td>1524906</td>\n",
       "      <td>TLH</td>\n",
       "      <td>10397</td>\n",
       "      <td>1039707</td>\n",
       "      <td>ATL</td>\n",
       "      <td>1521.0</td>\n",
       "      <td>0.0</td>\n",
       "      <td>1500-1559</td>\n",
       "      <td>1625.0</td>\n",
       "      <td>0.0</td>\n",
       "      <td>0.0</td>\n",
       "      <td>0.0</td>\n",
       "      <td>223.0</td>\n",
       "      <td>NaN</td>\n",
       "    </tr>\n",
       "    <tr>\n",
       "      <th>4</th>\n",
       "      <td>1</td>\n",
       "      <td>2</td>\n",
       "      <td>9E</td>\n",
       "      <td>20363</td>\n",
       "      <td>9E</td>\n",
       "      <td>N8974C</td>\n",
       "      <td>3284</td>\n",
       "      <td>10397</td>\n",
       "      <td>1039707</td>\n",
       "      <td>ATL</td>\n",
       "      <td>11778</td>\n",
       "      <td>1177801</td>\n",
       "      <td>FSM</td>\n",
       "      <td>1847.0</td>\n",
       "      <td>0.0</td>\n",
       "      <td>1900-1959</td>\n",
       "      <td>1940.0</td>\n",
       "      <td>0.0</td>\n",
       "      <td>0.0</td>\n",
       "      <td>0.0</td>\n",
       "      <td>579.0</td>\n",
       "      <td>NaN</td>\n",
       "    </tr>\n",
       "  </tbody>\n",
       "</table>\n",
       "</div>"
      ],
      "text/plain": [
       "   DAY_OF_MONTH  DAY_OF_WEEK OP_UNIQUE_CARRIER  OP_CARRIER_AIRLINE_ID  \\\n",
       "0             1            2                9E                  20363   \n",
       "1             1            2                9E                  20363   \n",
       "2             1            2                9E                  20363   \n",
       "3             1            2                9E                  20363   \n",
       "4             1            2                9E                  20363   \n",
       "\n",
       "  OP_CARRIER TAIL_NUM  OP_CARRIER_FL_NUM  ORIGIN_AIRPORT_ID  \\\n",
       "0         9E   N8688C               3280              11953   \n",
       "1         9E   N348PQ               3281              13487   \n",
       "2         9E   N8896A               3282              11433   \n",
       "3         9E   N8886A               3283              15249   \n",
       "4         9E   N8974C               3284              10397   \n",
       "\n",
       "   ORIGIN_AIRPORT_SEQ_ID ORIGIN  DEST_AIRPORT_ID  DEST_AIRPORT_SEQ_ID DEST  \\\n",
       "0                1195302    GNV            10397              1039707  ATL   \n",
       "1                1348702    MSP            11193              1119302  CVG   \n",
       "2                1143302    DTW            11193              1119302  CVG   \n",
       "3                1524906    TLH            10397              1039707  ATL   \n",
       "4                1039707    ATL            11778              1177801  FSM   \n",
       "\n",
       "   DEP_TIME  DEP_DEL15 DEP_TIME_BLK  ARR_TIME  ARR_DEL15  CANCELLED  DIVERTED  \\\n",
       "0     601.0        0.0    0600-0659     722.0        0.0        0.0       0.0   \n",
       "1    1359.0        0.0    1400-1459    1633.0        0.0        0.0       0.0   \n",
       "2    1215.0        0.0    1200-1259    1329.0        0.0        0.0       0.0   \n",
       "3    1521.0        0.0    1500-1559    1625.0        0.0        0.0       0.0   \n",
       "4    1847.0        0.0    1900-1959    1940.0        0.0        0.0       0.0   \n",
       "\n",
       "   DISTANCE  Unnamed: 21  \n",
       "0     300.0          NaN  \n",
       "1     596.0          NaN  \n",
       "2     229.0          NaN  \n",
       "3     223.0          NaN  \n",
       "4     579.0          NaN  "
      ]
     },
     "execution_count": 5,
     "metadata": {},
     "output_type": "execute_result"
    }
   ],
   "source": [
    "df.head()"
   ]
  },
  {
   "cell_type": "code",
   "execution_count": 6,
   "id": "39a66a7e",
   "metadata": {},
   "outputs": [
    {
     "name": "stdout",
     "output_type": "stream",
     "text": [
      "<class 'pandas.core.frame.DataFrame'>\n",
      "RangeIndex: 583985 entries, 0 to 583984\n",
      "Data columns (total 22 columns):\n",
      " #   Column                 Non-Null Count   Dtype  \n",
      "---  ------                 --------------   -----  \n",
      " 0   DAY_OF_MONTH           583985 non-null  int64  \n",
      " 1   DAY_OF_WEEK            583985 non-null  int64  \n",
      " 2   OP_UNIQUE_CARRIER      583985 non-null  object \n",
      " 3   OP_CARRIER_AIRLINE_ID  583985 non-null  int64  \n",
      " 4   OP_CARRIER             583985 non-null  object \n",
      " 5   TAIL_NUM               581442 non-null  object \n",
      " 6   OP_CARRIER_FL_NUM      583985 non-null  int64  \n",
      " 7   ORIGIN_AIRPORT_ID      583985 non-null  int64  \n",
      " 8   ORIGIN_AIRPORT_SEQ_ID  583985 non-null  int64  \n",
      " 9   ORIGIN                 583985 non-null  object \n",
      " 10  DEST_AIRPORT_ID        583985 non-null  int64  \n",
      " 11  DEST_AIRPORT_SEQ_ID    583985 non-null  int64  \n",
      " 12  DEST                   583985 non-null  object \n",
      " 13  DEP_TIME               567633 non-null  float64\n",
      " 14  DEP_DEL15              567630 non-null  float64\n",
      " 15  DEP_TIME_BLK           583985 non-null  object \n",
      " 16  ARR_TIME               566924 non-null  float64\n",
      " 17  ARR_DEL15              565963 non-null  float64\n",
      " 18  CANCELLED              583985 non-null  float64\n",
      " 19  DIVERTED               583985 non-null  float64\n",
      " 20  DISTANCE               583985 non-null  float64\n",
      " 21  Unnamed: 21            0 non-null       float64\n",
      "dtypes: float64(8), int64(8), object(6)\n",
      "memory usage: 98.0+ MB\n"
     ]
    }
   ],
   "source": [
    "df.info()"
   ]
  },
  {
   "cell_type": "markdown",
   "id": "a6fec5bc",
   "metadata": {},
   "source": [
    "- I have a dataset from Jan 2019 and I want to predict whether the flight will be delayd or not \n",
    "- In my dataset , we have two columns one for departure delay , and another one for arrival delay \n",
    "- we can create new column which has the flights delayed is it is departure delay or arrival delay "
   ]
  },
  {
   "cell_type": "code",
   "execution_count": 7,
   "id": "a65b32d3",
   "metadata": {},
   "outputs": [],
   "source": [
    "# convert the two columns 'DEP_DEL15' and 'ARR_DEL15' from float to boolean\n",
    "df['DEP_DEL15'] = df['DEP_DEL15'].astype(bool)\n",
    "df['ARR_DEL15'] = df['ARR_DEL15'].astype(bool)"
   ]
  },
  {
   "cell_type": "code",
   "execution_count": 8,
   "id": "c5a5a8ee",
   "metadata": {},
   "outputs": [
    {
     "data": {
      "text/plain": [
       "dtype('bool')"
      ]
     },
     "execution_count": 8,
     "metadata": {},
     "output_type": "execute_result"
    }
   ],
   "source": [
    "#test \n",
    "df['ARR_DEL15'].dtype"
   ]
  },
  {
   "cell_type": "code",
   "execution_count": 9,
   "id": "70fddc07",
   "metadata": {},
   "outputs": [],
   "source": [
    "df['Delayed_Flights'] = df['DEP_DEL15'] | df['ARR_DEL15']"
   ]
  },
  {
   "cell_type": "code",
   "execution_count": 10,
   "id": "b423f691",
   "metadata": {},
   "outputs": [
    {
     "data": {
      "text/html": [
       "<div>\n",
       "<style scoped>\n",
       "    .dataframe tbody tr th:only-of-type {\n",
       "        vertical-align: middle;\n",
       "    }\n",
       "\n",
       "    .dataframe tbody tr th {\n",
       "        vertical-align: top;\n",
       "    }\n",
       "\n",
       "    .dataframe thead th {\n",
       "        text-align: right;\n",
       "    }\n",
       "</style>\n",
       "<table border=\"1\" class=\"dataframe\">\n",
       "  <thead>\n",
       "    <tr style=\"text-align: right;\">\n",
       "      <th></th>\n",
       "      <th>DAY_OF_MONTH</th>\n",
       "      <th>DAY_OF_WEEK</th>\n",
       "      <th>OP_UNIQUE_CARRIER</th>\n",
       "      <th>OP_CARRIER_AIRLINE_ID</th>\n",
       "      <th>OP_CARRIER</th>\n",
       "      <th>TAIL_NUM</th>\n",
       "      <th>OP_CARRIER_FL_NUM</th>\n",
       "      <th>ORIGIN_AIRPORT_ID</th>\n",
       "      <th>ORIGIN_AIRPORT_SEQ_ID</th>\n",
       "      <th>ORIGIN</th>\n",
       "      <th>DEST_AIRPORT_ID</th>\n",
       "      <th>DEST_AIRPORT_SEQ_ID</th>\n",
       "      <th>DEST</th>\n",
       "      <th>DEP_TIME</th>\n",
       "      <th>DEP_DEL15</th>\n",
       "      <th>DEP_TIME_BLK</th>\n",
       "      <th>ARR_TIME</th>\n",
       "      <th>ARR_DEL15</th>\n",
       "      <th>CANCELLED</th>\n",
       "      <th>DIVERTED</th>\n",
       "      <th>DISTANCE</th>\n",
       "      <th>Unnamed: 21</th>\n",
       "      <th>Delayed_Flights</th>\n",
       "    </tr>\n",
       "  </thead>\n",
       "  <tbody>\n",
       "    <tr>\n",
       "      <th>0</th>\n",
       "      <td>1</td>\n",
       "      <td>2</td>\n",
       "      <td>9E</td>\n",
       "      <td>20363</td>\n",
       "      <td>9E</td>\n",
       "      <td>N8688C</td>\n",
       "      <td>3280</td>\n",
       "      <td>11953</td>\n",
       "      <td>1195302</td>\n",
       "      <td>GNV</td>\n",
       "      <td>10397</td>\n",
       "      <td>1039707</td>\n",
       "      <td>ATL</td>\n",
       "      <td>601.0</td>\n",
       "      <td>False</td>\n",
       "      <td>0600-0659</td>\n",
       "      <td>722.0</td>\n",
       "      <td>False</td>\n",
       "      <td>0.0</td>\n",
       "      <td>0.0</td>\n",
       "      <td>300.0</td>\n",
       "      <td>NaN</td>\n",
       "      <td>False</td>\n",
       "    </tr>\n",
       "    <tr>\n",
       "      <th>1</th>\n",
       "      <td>1</td>\n",
       "      <td>2</td>\n",
       "      <td>9E</td>\n",
       "      <td>20363</td>\n",
       "      <td>9E</td>\n",
       "      <td>N348PQ</td>\n",
       "      <td>3281</td>\n",
       "      <td>13487</td>\n",
       "      <td>1348702</td>\n",
       "      <td>MSP</td>\n",
       "      <td>11193</td>\n",
       "      <td>1119302</td>\n",
       "      <td>CVG</td>\n",
       "      <td>1359.0</td>\n",
       "      <td>False</td>\n",
       "      <td>1400-1459</td>\n",
       "      <td>1633.0</td>\n",
       "      <td>False</td>\n",
       "      <td>0.0</td>\n",
       "      <td>0.0</td>\n",
       "      <td>596.0</td>\n",
       "      <td>NaN</td>\n",
       "      <td>False</td>\n",
       "    </tr>\n",
       "    <tr>\n",
       "      <th>2</th>\n",
       "      <td>1</td>\n",
       "      <td>2</td>\n",
       "      <td>9E</td>\n",
       "      <td>20363</td>\n",
       "      <td>9E</td>\n",
       "      <td>N8896A</td>\n",
       "      <td>3282</td>\n",
       "      <td>11433</td>\n",
       "      <td>1143302</td>\n",
       "      <td>DTW</td>\n",
       "      <td>11193</td>\n",
       "      <td>1119302</td>\n",
       "      <td>CVG</td>\n",
       "      <td>1215.0</td>\n",
       "      <td>False</td>\n",
       "      <td>1200-1259</td>\n",
       "      <td>1329.0</td>\n",
       "      <td>False</td>\n",
       "      <td>0.0</td>\n",
       "      <td>0.0</td>\n",
       "      <td>229.0</td>\n",
       "      <td>NaN</td>\n",
       "      <td>False</td>\n",
       "    </tr>\n",
       "    <tr>\n",
       "      <th>3</th>\n",
       "      <td>1</td>\n",
       "      <td>2</td>\n",
       "      <td>9E</td>\n",
       "      <td>20363</td>\n",
       "      <td>9E</td>\n",
       "      <td>N8886A</td>\n",
       "      <td>3283</td>\n",
       "      <td>15249</td>\n",
       "      <td>1524906</td>\n",
       "      <td>TLH</td>\n",
       "      <td>10397</td>\n",
       "      <td>1039707</td>\n",
       "      <td>ATL</td>\n",
       "      <td>1521.0</td>\n",
       "      <td>False</td>\n",
       "      <td>1500-1559</td>\n",
       "      <td>1625.0</td>\n",
       "      <td>False</td>\n",
       "      <td>0.0</td>\n",
       "      <td>0.0</td>\n",
       "      <td>223.0</td>\n",
       "      <td>NaN</td>\n",
       "      <td>False</td>\n",
       "    </tr>\n",
       "    <tr>\n",
       "      <th>4</th>\n",
       "      <td>1</td>\n",
       "      <td>2</td>\n",
       "      <td>9E</td>\n",
       "      <td>20363</td>\n",
       "      <td>9E</td>\n",
       "      <td>N8974C</td>\n",
       "      <td>3284</td>\n",
       "      <td>10397</td>\n",
       "      <td>1039707</td>\n",
       "      <td>ATL</td>\n",
       "      <td>11778</td>\n",
       "      <td>1177801</td>\n",
       "      <td>FSM</td>\n",
       "      <td>1847.0</td>\n",
       "      <td>False</td>\n",
       "      <td>1900-1959</td>\n",
       "      <td>1940.0</td>\n",
       "      <td>False</td>\n",
       "      <td>0.0</td>\n",
       "      <td>0.0</td>\n",
       "      <td>579.0</td>\n",
       "      <td>NaN</td>\n",
       "      <td>False</td>\n",
       "    </tr>\n",
       "  </tbody>\n",
       "</table>\n",
       "</div>"
      ],
      "text/plain": [
       "   DAY_OF_MONTH  DAY_OF_WEEK OP_UNIQUE_CARRIER  OP_CARRIER_AIRLINE_ID  \\\n",
       "0             1            2                9E                  20363   \n",
       "1             1            2                9E                  20363   \n",
       "2             1            2                9E                  20363   \n",
       "3             1            2                9E                  20363   \n",
       "4             1            2                9E                  20363   \n",
       "\n",
       "  OP_CARRIER TAIL_NUM  OP_CARRIER_FL_NUM  ORIGIN_AIRPORT_ID  \\\n",
       "0         9E   N8688C               3280              11953   \n",
       "1         9E   N348PQ               3281              13487   \n",
       "2         9E   N8896A               3282              11433   \n",
       "3         9E   N8886A               3283              15249   \n",
       "4         9E   N8974C               3284              10397   \n",
       "\n",
       "   ORIGIN_AIRPORT_SEQ_ID ORIGIN  DEST_AIRPORT_ID  DEST_AIRPORT_SEQ_ID DEST  \\\n",
       "0                1195302    GNV            10397              1039707  ATL   \n",
       "1                1348702    MSP            11193              1119302  CVG   \n",
       "2                1143302    DTW            11193              1119302  CVG   \n",
       "3                1524906    TLH            10397              1039707  ATL   \n",
       "4                1039707    ATL            11778              1177801  FSM   \n",
       "\n",
       "   DEP_TIME  DEP_DEL15 DEP_TIME_BLK  ARR_TIME  ARR_DEL15  CANCELLED  DIVERTED  \\\n",
       "0     601.0      False    0600-0659     722.0      False        0.0       0.0   \n",
       "1    1359.0      False    1400-1459    1633.0      False        0.0       0.0   \n",
       "2    1215.0      False    1200-1259    1329.0      False        0.0       0.0   \n",
       "3    1521.0      False    1500-1559    1625.0      False        0.0       0.0   \n",
       "4    1847.0      False    1900-1959    1940.0      False        0.0       0.0   \n",
       "\n",
       "   DISTANCE  Unnamed: 21  Delayed_Flights  \n",
       "0     300.0          NaN            False  \n",
       "1     596.0          NaN            False  \n",
       "2     229.0          NaN            False  \n",
       "3     223.0          NaN            False  \n",
       "4     579.0          NaN            False  "
      ]
     },
     "execution_count": 10,
     "metadata": {},
     "output_type": "execute_result"
    }
   ],
   "source": [
    "df.head()"
   ]
  },
  {
   "cell_type": "code",
   "execution_count": 11,
   "id": "eeec8700",
   "metadata": {},
   "outputs": [],
   "source": [
    "df['Delayed_Flights'] = df['Delayed_Flights'].astype(int)"
   ]
  },
  {
   "cell_type": "code",
   "execution_count": 12,
   "id": "9ff17847",
   "metadata": {},
   "outputs": [
    {
     "data": {
      "text/html": [
       "<div>\n",
       "<style scoped>\n",
       "    .dataframe tbody tr th:only-of-type {\n",
       "        vertical-align: middle;\n",
       "    }\n",
       "\n",
       "    .dataframe tbody tr th {\n",
       "        vertical-align: top;\n",
       "    }\n",
       "\n",
       "    .dataframe thead th {\n",
       "        text-align: right;\n",
       "    }\n",
       "</style>\n",
       "<table border=\"1\" class=\"dataframe\">\n",
       "  <thead>\n",
       "    <tr style=\"text-align: right;\">\n",
       "      <th></th>\n",
       "      <th>DAY_OF_MONTH</th>\n",
       "      <th>DAY_OF_WEEK</th>\n",
       "      <th>OP_UNIQUE_CARRIER</th>\n",
       "      <th>OP_CARRIER_AIRLINE_ID</th>\n",
       "      <th>OP_CARRIER</th>\n",
       "      <th>TAIL_NUM</th>\n",
       "      <th>OP_CARRIER_FL_NUM</th>\n",
       "      <th>ORIGIN_AIRPORT_ID</th>\n",
       "      <th>ORIGIN_AIRPORT_SEQ_ID</th>\n",
       "      <th>ORIGIN</th>\n",
       "      <th>DEST_AIRPORT_ID</th>\n",
       "      <th>DEST_AIRPORT_SEQ_ID</th>\n",
       "      <th>DEST</th>\n",
       "      <th>DEP_TIME</th>\n",
       "      <th>DEP_DEL15</th>\n",
       "      <th>DEP_TIME_BLK</th>\n",
       "      <th>ARR_TIME</th>\n",
       "      <th>ARR_DEL15</th>\n",
       "      <th>CANCELLED</th>\n",
       "      <th>DIVERTED</th>\n",
       "      <th>DISTANCE</th>\n",
       "      <th>Unnamed: 21</th>\n",
       "      <th>Delayed_Flights</th>\n",
       "    </tr>\n",
       "  </thead>\n",
       "  <tbody>\n",
       "    <tr>\n",
       "      <th>505304</th>\n",
       "      <td>27</td>\n",
       "      <td>7</td>\n",
       "      <td>HA</td>\n",
       "      <td>19690</td>\n",
       "      <td>HA</td>\n",
       "      <td>N393HA</td>\n",
       "      <td>29</td>\n",
       "      <td>14747</td>\n",
       "      <td>1474703</td>\n",
       "      <td>SEA</td>\n",
       "      <td>13830</td>\n",
       "      <td>1383002</td>\n",
       "      <td>OGG</td>\n",
       "      <td>1004.0</td>\n",
       "      <td>False</td>\n",
       "      <td>1000-1059</td>\n",
       "      <td>1427.0</td>\n",
       "      <td>False</td>\n",
       "      <td>0.0</td>\n",
       "      <td>0.0</td>\n",
       "      <td>2640.0</td>\n",
       "      <td>NaN</td>\n",
       "      <td>0</td>\n",
       "    </tr>\n",
       "    <tr>\n",
       "      <th>574624</th>\n",
       "      <td>31</td>\n",
       "      <td>4</td>\n",
       "      <td>OO</td>\n",
       "      <td>20304</td>\n",
       "      <td>OO</td>\n",
       "      <td>N167SY</td>\n",
       "      <td>5282</td>\n",
       "      <td>12892</td>\n",
       "      <td>1289208</td>\n",
       "      <td>LAX</td>\n",
       "      <td>14771</td>\n",
       "      <td>1477104</td>\n",
       "      <td>SFO</td>\n",
       "      <td>1235.0</td>\n",
       "      <td>True</td>\n",
       "      <td>1200-1259</td>\n",
       "      <td>1403.0</td>\n",
       "      <td>True</td>\n",
       "      <td>0.0</td>\n",
       "      <td>0.0</td>\n",
       "      <td>337.0</td>\n",
       "      <td>NaN</td>\n",
       "      <td>1</td>\n",
       "    </tr>\n",
       "    <tr>\n",
       "      <th>573372</th>\n",
       "      <td>31</td>\n",
       "      <td>4</td>\n",
       "      <td>YV</td>\n",
       "      <td>20378</td>\n",
       "      <td>YV</td>\n",
       "      <td>N917FJ</td>\n",
       "      <td>5870</td>\n",
       "      <td>14107</td>\n",
       "      <td>1410702</td>\n",
       "      <td>PHX</td>\n",
       "      <td>15376</td>\n",
       "      <td>1537604</td>\n",
       "      <td>TUS</td>\n",
       "      <td>2136.0</td>\n",
       "      <td>True</td>\n",
       "      <td>2100-2159</td>\n",
       "      <td>2228.0</td>\n",
       "      <td>True</td>\n",
       "      <td>0.0</td>\n",
       "      <td>0.0</td>\n",
       "      <td>110.0</td>\n",
       "      <td>NaN</td>\n",
       "      <td>1</td>\n",
       "    </tr>\n",
       "    <tr>\n",
       "      <th>505740</th>\n",
       "      <td>27</td>\n",
       "      <td>7</td>\n",
       "      <td>DL</td>\n",
       "      <td>19790</td>\n",
       "      <td>DL</td>\n",
       "      <td>N947AT</td>\n",
       "      <td>1534</td>\n",
       "      <td>10397</td>\n",
       "      <td>1039707</td>\n",
       "      <td>ATL</td>\n",
       "      <td>13851</td>\n",
       "      <td>1385103</td>\n",
       "      <td>OKC</td>\n",
       "      <td>1401.0</td>\n",
       "      <td>False</td>\n",
       "      <td>1400-1459</td>\n",
       "      <td>1507.0</td>\n",
       "      <td>False</td>\n",
       "      <td>0.0</td>\n",
       "      <td>0.0</td>\n",
       "      <td>761.0</td>\n",
       "      <td>NaN</td>\n",
       "      <td>0</td>\n",
       "    </tr>\n",
       "    <tr>\n",
       "      <th>27769</th>\n",
       "      <td>2</td>\n",
       "      <td>3</td>\n",
       "      <td>AA</td>\n",
       "      <td>19805</td>\n",
       "      <td>AA</td>\n",
       "      <td>N183AN</td>\n",
       "      <td>2783</td>\n",
       "      <td>12478</td>\n",
       "      <td>1247805</td>\n",
       "      <td>JFK</td>\n",
       "      <td>11503</td>\n",
       "      <td>1150305</td>\n",
       "      <td>EGE</td>\n",
       "      <td>1029.0</td>\n",
       "      <td>False</td>\n",
       "      <td>1000-1059</td>\n",
       "      <td>1452.0</td>\n",
       "      <td>True</td>\n",
       "      <td>0.0</td>\n",
       "      <td>0.0</td>\n",
       "      <td>1746.0</td>\n",
       "      <td>NaN</td>\n",
       "      <td>1</td>\n",
       "    </tr>\n",
       "    <tr>\n",
       "      <th>444315</th>\n",
       "      <td>24</td>\n",
       "      <td>4</td>\n",
       "      <td>DL</td>\n",
       "      <td>19790</td>\n",
       "      <td>DL</td>\n",
       "      <td>N931DN</td>\n",
       "      <td>1655</td>\n",
       "      <td>14730</td>\n",
       "      <td>1473003</td>\n",
       "      <td>SDF</td>\n",
       "      <td>10397</td>\n",
       "      <td>1039707</td>\n",
       "      <td>ATL</td>\n",
       "      <td>652.0</td>\n",
       "      <td>False</td>\n",
       "      <td>0600-0659</td>\n",
       "      <td>851.0</td>\n",
       "      <td>False</td>\n",
       "      <td>0.0</td>\n",
       "      <td>0.0</td>\n",
       "      <td>321.0</td>\n",
       "      <td>NaN</td>\n",
       "      <td>0</td>\n",
       "    </tr>\n",
       "    <tr>\n",
       "      <th>274875</th>\n",
       "      <td>15</td>\n",
       "      <td>2</td>\n",
       "      <td>UA</td>\n",
       "      <td>19977</td>\n",
       "      <td>UA</td>\n",
       "      <td>N14118</td>\n",
       "      <td>1430</td>\n",
       "      <td>13830</td>\n",
       "      <td>1383002</td>\n",
       "      <td>OGG</td>\n",
       "      <td>11292</td>\n",
       "      <td>1129202</td>\n",
       "      <td>DEN</td>\n",
       "      <td>2124.0</td>\n",
       "      <td>False</td>\n",
       "      <td>2100-2159</td>\n",
       "      <td>641.0</td>\n",
       "      <td>False</td>\n",
       "      <td>0.0</td>\n",
       "      <td>0.0</td>\n",
       "      <td>3302.0</td>\n",
       "      <td>NaN</td>\n",
       "      <td>0</td>\n",
       "    </tr>\n",
       "    <tr>\n",
       "      <th>112280</th>\n",
       "      <td>6</td>\n",
       "      <td>7</td>\n",
       "      <td>AA</td>\n",
       "      <td>19805</td>\n",
       "      <td>AA</td>\n",
       "      <td>N997NN</td>\n",
       "      <td>114</td>\n",
       "      <td>12953</td>\n",
       "      <td>1295304</td>\n",
       "      <td>LGA</td>\n",
       "      <td>13930</td>\n",
       "      <td>1393007</td>\n",
       "      <td>ORD</td>\n",
       "      <td>1423.0</td>\n",
       "      <td>False</td>\n",
       "      <td>1400-1459</td>\n",
       "      <td>1610.0</td>\n",
       "      <td>False</td>\n",
       "      <td>0.0</td>\n",
       "      <td>0.0</td>\n",
       "      <td>733.0</td>\n",
       "      <td>NaN</td>\n",
       "      <td>0</td>\n",
       "    </tr>\n",
       "    <tr>\n",
       "      <th>151075</th>\n",
       "      <td>8</td>\n",
       "      <td>2</td>\n",
       "      <td>DL</td>\n",
       "      <td>19790</td>\n",
       "      <td>DL</td>\n",
       "      <td>N966AT</td>\n",
       "      <td>2066</td>\n",
       "      <td>10868</td>\n",
       "      <td>1086803</td>\n",
       "      <td>CAE</td>\n",
       "      <td>10397</td>\n",
       "      <td>1039707</td>\n",
       "      <td>ATL</td>\n",
       "      <td>1205.0</td>\n",
       "      <td>False</td>\n",
       "      <td>1200-1259</td>\n",
       "      <td>1315.0</td>\n",
       "      <td>False</td>\n",
       "      <td>0.0</td>\n",
       "      <td>0.0</td>\n",
       "      <td>192.0</td>\n",
       "      <td>NaN</td>\n",
       "      <td>0</td>\n",
       "    </tr>\n",
       "    <tr>\n",
       "      <th>542475</th>\n",
       "      <td>29</td>\n",
       "      <td>2</td>\n",
       "      <td>B6</td>\n",
       "      <td>20409</td>\n",
       "      <td>B6</td>\n",
       "      <td>N523JB</td>\n",
       "      <td>801</td>\n",
       "      <td>13204</td>\n",
       "      <td>1320402</td>\n",
       "      <td>MCO</td>\n",
       "      <td>14869</td>\n",
       "      <td>1486903</td>\n",
       "      <td>SLC</td>\n",
       "      <td>1829.0</td>\n",
       "      <td>False</td>\n",
       "      <td>1800-1859</td>\n",
       "      <td>2131.0</td>\n",
       "      <td>False</td>\n",
       "      <td>0.0</td>\n",
       "      <td>0.0</td>\n",
       "      <td>1931.0</td>\n",
       "      <td>NaN</td>\n",
       "      <td>0</td>\n",
       "    </tr>\n",
       "  </tbody>\n",
       "</table>\n",
       "</div>"
      ],
      "text/plain": [
       "        DAY_OF_MONTH  DAY_OF_WEEK OP_UNIQUE_CARRIER  OP_CARRIER_AIRLINE_ID  \\\n",
       "505304            27            7                HA                  19690   \n",
       "574624            31            4                OO                  20304   \n",
       "573372            31            4                YV                  20378   \n",
       "505740            27            7                DL                  19790   \n",
       "27769              2            3                AA                  19805   \n",
       "444315            24            4                DL                  19790   \n",
       "274875            15            2                UA                  19977   \n",
       "112280             6            7                AA                  19805   \n",
       "151075             8            2                DL                  19790   \n",
       "542475            29            2                B6                  20409   \n",
       "\n",
       "       OP_CARRIER TAIL_NUM  OP_CARRIER_FL_NUM  ORIGIN_AIRPORT_ID  \\\n",
       "505304         HA   N393HA                 29              14747   \n",
       "574624         OO   N167SY               5282              12892   \n",
       "573372         YV   N917FJ               5870              14107   \n",
       "505740         DL   N947AT               1534              10397   \n",
       "27769          AA   N183AN               2783              12478   \n",
       "444315         DL   N931DN               1655              14730   \n",
       "274875         UA   N14118               1430              13830   \n",
       "112280         AA   N997NN                114              12953   \n",
       "151075         DL   N966AT               2066              10868   \n",
       "542475         B6   N523JB                801              13204   \n",
       "\n",
       "        ORIGIN_AIRPORT_SEQ_ID ORIGIN  DEST_AIRPORT_ID  DEST_AIRPORT_SEQ_ID  \\\n",
       "505304                1474703    SEA            13830              1383002   \n",
       "574624                1289208    LAX            14771              1477104   \n",
       "573372                1410702    PHX            15376              1537604   \n",
       "505740                1039707    ATL            13851              1385103   \n",
       "27769                 1247805    JFK            11503              1150305   \n",
       "444315                1473003    SDF            10397              1039707   \n",
       "274875                1383002    OGG            11292              1129202   \n",
       "112280                1295304    LGA            13930              1393007   \n",
       "151075                1086803    CAE            10397              1039707   \n",
       "542475                1320402    MCO            14869              1486903   \n",
       "\n",
       "       DEST  DEP_TIME  DEP_DEL15 DEP_TIME_BLK  ARR_TIME  ARR_DEL15  CANCELLED  \\\n",
       "505304  OGG    1004.0      False    1000-1059    1427.0      False        0.0   \n",
       "574624  SFO    1235.0       True    1200-1259    1403.0       True        0.0   \n",
       "573372  TUS    2136.0       True    2100-2159    2228.0       True        0.0   \n",
       "505740  OKC    1401.0      False    1400-1459    1507.0      False        0.0   \n",
       "27769   EGE    1029.0      False    1000-1059    1452.0       True        0.0   \n",
       "444315  ATL     652.0      False    0600-0659     851.0      False        0.0   \n",
       "274875  DEN    2124.0      False    2100-2159     641.0      False        0.0   \n",
       "112280  ORD    1423.0      False    1400-1459    1610.0      False        0.0   \n",
       "151075  ATL    1205.0      False    1200-1259    1315.0      False        0.0   \n",
       "542475  SLC    1829.0      False    1800-1859    2131.0      False        0.0   \n",
       "\n",
       "        DIVERTED  DISTANCE  Unnamed: 21  Delayed_Flights  \n",
       "505304       0.0    2640.0          NaN                0  \n",
       "574624       0.0     337.0          NaN                1  \n",
       "573372       0.0     110.0          NaN                1  \n",
       "505740       0.0     761.0          NaN                0  \n",
       "27769        0.0    1746.0          NaN                1  \n",
       "444315       0.0     321.0          NaN                0  \n",
       "274875       0.0    3302.0          NaN                0  \n",
       "112280       0.0     733.0          NaN                0  \n",
       "151075       0.0     192.0          NaN                0  \n",
       "542475       0.0    1931.0          NaN                0  "
      ]
     },
     "execution_count": 12,
     "metadata": {},
     "output_type": "execute_result"
    }
   ],
   "source": [
    "df.sample(10)"
   ]
  },
  {
   "cell_type": "code",
   "execution_count": 13,
   "id": "df110e6c",
   "metadata": {},
   "outputs": [
    {
     "data": {
      "text/plain": [
       "0    440724\n",
       "1    143261\n",
       "Name: Delayed_Flights, dtype: int64"
      ]
     },
     "execution_count": 13,
     "metadata": {},
     "output_type": "execute_result"
    }
   ],
   "source": [
    "df.Delayed_Flights.value_counts()"
   ]
  },
  {
   "cell_type": "code",
   "execution_count": 14,
   "id": "868b56e5",
   "metadata": {},
   "outputs": [
    {
     "data": {
      "text/plain": [
       "0         False\n",
       "1         False\n",
       "2         False\n",
       "3         False\n",
       "4         False\n",
       "          ...  \n",
       "583980    False\n",
       "583981    False\n",
       "583982    False\n",
       "583983    False\n",
       "583984    False\n",
       "Name: CANCELLED, Length: 583985, dtype: bool"
      ]
     },
     "execution_count": 14,
     "metadata": {},
     "output_type": "execute_result"
    }
   ],
   "source": [
    "df.CANCELLED == 1"
   ]
  },
  {
   "cell_type": "code",
   "execution_count": 15,
   "id": "f0b30cad",
   "metadata": {},
   "outputs": [
    {
     "name": "stdout",
     "output_type": "stream",
     "text": [
      "total number of rows  583985\n"
     ]
    }
   ],
   "source": [
    "print('total number of rows ',df.shape[0])"
   ]
  },
  {
   "cell_type": "code",
   "execution_count": 16,
   "id": "460e1e18",
   "metadata": {},
   "outputs": [],
   "source": [
    "cancelled_idx = df[df.CANCELLED == 1].index"
   ]
  },
  {
   "cell_type": "code",
   "execution_count": 17,
   "id": "cf667900",
   "metadata": {},
   "outputs": [
    {
     "data": {
      "text/plain": [
       "Int64Index([   397,    403,    971,   1973,   1975,   1976,   1980,   1982,\n",
       "              2007,   2018,\n",
       "            ...\n",
       "            583944, 583945, 583950, 583955, 583957, 583958, 583959, 583964,\n",
       "            583966, 583967],\n",
       "           dtype='int64', length=16726)"
      ]
     },
     "execution_count": 17,
     "metadata": {},
     "output_type": "execute_result"
    }
   ],
   "source": [
    "cancelled_idx"
   ]
  },
  {
   "cell_type": "code",
   "execution_count": 18,
   "id": "4da714de",
   "metadata": {},
   "outputs": [],
   "source": [
    "diverted_idx = df[df.DIVERTED == 1].index"
   ]
  },
  {
   "cell_type": "code",
   "execution_count": 19,
   "id": "8187e7e7",
   "metadata": {},
   "outputs": [],
   "source": [
    "df.drop(cancelled_idx,inplace=True)\n",
    "df.drop(diverted_idx,inplace=True)"
   ]
  },
  {
   "cell_type": "code",
   "execution_count": 20,
   "id": "05df077d",
   "metadata": {},
   "outputs": [
    {
     "name": "stdout",
     "output_type": "stream",
     "text": [
      "total number of rows  565963\n"
     ]
    }
   ],
   "source": [
    "print('total number of rows ',df.shape[0])"
   ]
  },
  {
   "cell_type": "code",
   "execution_count": 21,
   "id": "a7b93192",
   "metadata": {},
   "outputs": [
    {
     "data": {
      "text/plain": [
       "0    440724\n",
       "1    125239\n",
       "Name: Delayed_Flights, dtype: int64"
      ]
     },
     "execution_count": 21,
     "metadata": {},
     "output_type": "execute_result"
    }
   ],
   "source": [
    "df.Delayed_Flights.value_counts()"
   ]
  },
  {
   "cell_type": "code",
   "execution_count": 22,
   "id": "b3eca154",
   "metadata": {},
   "outputs": [],
   "source": [
    "delayed_1 = df.loc[df.Delayed_Flights == 1]\n",
    "delayed_0 = df.loc[df.Delayed_Flights == 0]"
   ]
  },
  {
   "cell_type": "code",
   "execution_count": 23,
   "id": "a0a387f3",
   "metadata": {},
   "outputs": [
    {
     "data": {
      "text/plain": [
       "(440724, 23)"
      ]
     },
     "execution_count": 23,
     "metadata": {},
     "output_type": "execute_result"
    }
   ],
   "source": [
    "delayed_0.shape"
   ]
  },
  {
   "cell_type": "code",
   "execution_count": 24,
   "id": "ba40c5a3",
   "metadata": {},
   "outputs": [
    {
     "data": {
      "text/plain": [
       "(125239, 23)"
      ]
     },
     "execution_count": 24,
     "metadata": {},
     "output_type": "execute_result"
    }
   ],
   "source": [
    "delayed_1.shape"
   ]
  },
  {
   "cell_type": "code",
   "execution_count": 25,
   "id": "2062ac00",
   "metadata": {},
   "outputs": [
    {
     "data": {
      "text/html": [
       "<div>\n",
       "<style scoped>\n",
       "    .dataframe tbody tr th:only-of-type {\n",
       "        vertical-align: middle;\n",
       "    }\n",
       "\n",
       "    .dataframe tbody tr th {\n",
       "        vertical-align: top;\n",
       "    }\n",
       "\n",
       "    .dataframe thead th {\n",
       "        text-align: right;\n",
       "    }\n",
       "</style>\n",
       "<table border=\"1\" class=\"dataframe\">\n",
       "  <thead>\n",
       "    <tr style=\"text-align: right;\">\n",
       "      <th></th>\n",
       "      <th>DAY_OF_MONTH</th>\n",
       "      <th>DAY_OF_WEEK</th>\n",
       "      <th>OP_UNIQUE_CARRIER</th>\n",
       "      <th>OP_CARRIER_AIRLINE_ID</th>\n",
       "      <th>OP_CARRIER</th>\n",
       "      <th>TAIL_NUM</th>\n",
       "      <th>OP_CARRIER_FL_NUM</th>\n",
       "      <th>ORIGIN_AIRPORT_ID</th>\n",
       "      <th>ORIGIN_AIRPORT_SEQ_ID</th>\n",
       "      <th>ORIGIN</th>\n",
       "      <th>DEST_AIRPORT_ID</th>\n",
       "      <th>DEST_AIRPORT_SEQ_ID</th>\n",
       "      <th>DEST</th>\n",
       "      <th>DEP_TIME</th>\n",
       "      <th>DEP_DEL15</th>\n",
       "      <th>DEP_TIME_BLK</th>\n",
       "      <th>ARR_TIME</th>\n",
       "      <th>ARR_DEL15</th>\n",
       "      <th>CANCELLED</th>\n",
       "      <th>DIVERTED</th>\n",
       "      <th>DISTANCE</th>\n",
       "      <th>Unnamed: 21</th>\n",
       "      <th>Delayed_Flights</th>\n",
       "    </tr>\n",
       "  </thead>\n",
       "  <tbody>\n",
       "    <tr>\n",
       "      <th>12</th>\n",
       "      <td>1</td>\n",
       "      <td>2</td>\n",
       "      <td>9E</td>\n",
       "      <td>20363</td>\n",
       "      <td>9E</td>\n",
       "      <td>N800AY</td>\n",
       "      <td>3291</td>\n",
       "      <td>11433</td>\n",
       "      <td>1143302</td>\n",
       "      <td>DTW</td>\n",
       "      <td>11267</td>\n",
       "      <td>1126702</td>\n",
       "      <td>DAY</td>\n",
       "      <td>1552.0</td>\n",
       "      <td>False</td>\n",
       "      <td>1500-1559</td>\n",
       "      <td>1738.0</td>\n",
       "      <td>True</td>\n",
       "      <td>0.0</td>\n",
       "      <td>0.0</td>\n",
       "      <td>166.0</td>\n",
       "      <td>NaN</td>\n",
       "      <td>1</td>\n",
       "    </tr>\n",
       "    <tr>\n",
       "      <th>16</th>\n",
       "      <td>1</td>\n",
       "      <td>2</td>\n",
       "      <td>9E</td>\n",
       "      <td>20363</td>\n",
       "      <td>9E</td>\n",
       "      <td>N232PQ</td>\n",
       "      <td>3295</td>\n",
       "      <td>11433</td>\n",
       "      <td>1143302</td>\n",
       "      <td>DTW</td>\n",
       "      <td>11618</td>\n",
       "      <td>1161802</td>\n",
       "      <td>EWR</td>\n",
       "      <td>1353.0</td>\n",
       "      <td>True</td>\n",
       "      <td>1200-1259</td>\n",
       "      <td>1521.0</td>\n",
       "      <td>True</td>\n",
       "      <td>0.0</td>\n",
       "      <td>0.0</td>\n",
       "      <td>488.0</td>\n",
       "      <td>NaN</td>\n",
       "      <td>1</td>\n",
       "    </tr>\n",
       "    <tr>\n",
       "      <th>22</th>\n",
       "      <td>1</td>\n",
       "      <td>2</td>\n",
       "      <td>9E</td>\n",
       "      <td>20363</td>\n",
       "      <td>9E</td>\n",
       "      <td>N349PQ</td>\n",
       "      <td>3300</td>\n",
       "      <td>10397</td>\n",
       "      <td>1039707</td>\n",
       "      <td>ATL</td>\n",
       "      <td>13795</td>\n",
       "      <td>1379502</td>\n",
       "      <td>OAJ</td>\n",
       "      <td>2216.0</td>\n",
       "      <td>False</td>\n",
       "      <td>2200-2259</td>\n",
       "      <td>16.0</td>\n",
       "      <td>True</td>\n",
       "      <td>0.0</td>\n",
       "      <td>0.0</td>\n",
       "      <td>399.0</td>\n",
       "      <td>NaN</td>\n",
       "      <td>1</td>\n",
       "    </tr>\n",
       "    <tr>\n",
       "      <th>43</th>\n",
       "      <td>1</td>\n",
       "      <td>2</td>\n",
       "      <td>9E</td>\n",
       "      <td>20363</td>\n",
       "      <td>9E</td>\n",
       "      <td>N832AY</td>\n",
       "      <td>3317</td>\n",
       "      <td>11778</td>\n",
       "      <td>1177801</td>\n",
       "      <td>FSM</td>\n",
       "      <td>10397</td>\n",
       "      <td>1039707</td>\n",
       "      <td>ATL</td>\n",
       "      <td>1550.0</td>\n",
       "      <td>False</td>\n",
       "      <td>1500-1559</td>\n",
       "      <td>1859.0</td>\n",
       "      <td>True</td>\n",
       "      <td>0.0</td>\n",
       "      <td>0.0</td>\n",
       "      <td>579.0</td>\n",
       "      <td>NaN</td>\n",
       "      <td>1</td>\n",
       "    </tr>\n",
       "    <tr>\n",
       "      <th>48</th>\n",
       "      <td>1</td>\n",
       "      <td>2</td>\n",
       "      <td>9E</td>\n",
       "      <td>20363</td>\n",
       "      <td>9E</td>\n",
       "      <td>N932XJ</td>\n",
       "      <td>3322</td>\n",
       "      <td>11433</td>\n",
       "      <td>1143302</td>\n",
       "      <td>DTW</td>\n",
       "      <td>12884</td>\n",
       "      <td>1288403</td>\n",
       "      <td>LAN</td>\n",
       "      <td>2036.0</td>\n",
       "      <td>False</td>\n",
       "      <td>2000-2059</td>\n",
       "      <td>2233.0</td>\n",
       "      <td>True</td>\n",
       "      <td>0.0</td>\n",
       "      <td>0.0</td>\n",
       "      <td>74.0</td>\n",
       "      <td>NaN</td>\n",
       "      <td>1</td>\n",
       "    </tr>\n",
       "  </tbody>\n",
       "</table>\n",
       "</div>"
      ],
      "text/plain": [
       "    DAY_OF_MONTH  DAY_OF_WEEK OP_UNIQUE_CARRIER  OP_CARRIER_AIRLINE_ID  \\\n",
       "12             1            2                9E                  20363   \n",
       "16             1            2                9E                  20363   \n",
       "22             1            2                9E                  20363   \n",
       "43             1            2                9E                  20363   \n",
       "48             1            2                9E                  20363   \n",
       "\n",
       "   OP_CARRIER TAIL_NUM  OP_CARRIER_FL_NUM  ORIGIN_AIRPORT_ID  \\\n",
       "12         9E   N800AY               3291              11433   \n",
       "16         9E   N232PQ               3295              11433   \n",
       "22         9E   N349PQ               3300              10397   \n",
       "43         9E   N832AY               3317              11778   \n",
       "48         9E   N932XJ               3322              11433   \n",
       "\n",
       "    ORIGIN_AIRPORT_SEQ_ID ORIGIN  DEST_AIRPORT_ID  DEST_AIRPORT_SEQ_ID DEST  \\\n",
       "12                1143302    DTW            11267              1126702  DAY   \n",
       "16                1143302    DTW            11618              1161802  EWR   \n",
       "22                1039707    ATL            13795              1379502  OAJ   \n",
       "43                1177801    FSM            10397              1039707  ATL   \n",
       "48                1143302    DTW            12884              1288403  LAN   \n",
       "\n",
       "    DEP_TIME  DEP_DEL15 DEP_TIME_BLK  ARR_TIME  ARR_DEL15  CANCELLED  \\\n",
       "12    1552.0      False    1500-1559    1738.0       True        0.0   \n",
       "16    1353.0       True    1200-1259    1521.0       True        0.0   \n",
       "22    2216.0      False    2200-2259      16.0       True        0.0   \n",
       "43    1550.0      False    1500-1559    1859.0       True        0.0   \n",
       "48    2036.0      False    2000-2059    2233.0       True        0.0   \n",
       "\n",
       "    DIVERTED  DISTANCE  Unnamed: 21  Delayed_Flights  \n",
       "12       0.0     166.0          NaN                1  \n",
       "16       0.0     488.0          NaN                1  \n",
       "22       0.0     399.0          NaN                1  \n",
       "43       0.0     579.0          NaN                1  \n",
       "48       0.0      74.0          NaN                1  "
      ]
     },
     "execution_count": 25,
     "metadata": {},
     "output_type": "execute_result"
    }
   ],
   "source": [
    "delayed_1.head()"
   ]
  },
  {
   "cell_type": "code",
   "execution_count": 26,
   "id": "9326bc9e",
   "metadata": {},
   "outputs": [],
   "source": [
    "df_new = pd.concat([delayed_1,delayed_0.sample(n = 125239)])"
   ]
  },
  {
   "cell_type": "code",
   "execution_count": 27,
   "id": "68829c43",
   "metadata": {},
   "outputs": [
    {
     "data": {
      "text/plain": [
       "(250478, 23)"
      ]
     },
     "execution_count": 27,
     "metadata": {},
     "output_type": "execute_result"
    }
   ],
   "source": [
    "df_new.shape"
   ]
  },
  {
   "cell_type": "code",
   "execution_count": 28,
   "id": "0f3416bc",
   "metadata": {},
   "outputs": [
    {
     "data": {
      "text/plain": [
       "1    125239\n",
       "0    125239\n",
       "Name: Delayed_Flights, dtype: int64"
      ]
     },
     "execution_count": 28,
     "metadata": {},
     "output_type": "execute_result"
    }
   ],
   "source": [
    "df_new.Delayed_Flights.value_counts()"
   ]
  },
  {
   "cell_type": "code",
   "execution_count": 29,
   "id": "4cde9a23",
   "metadata": {},
   "outputs": [
    {
     "data": {
      "text/plain": [
       "DAY_OF_MONTH                  0\n",
       "DAY_OF_WEEK                   0\n",
       "OP_UNIQUE_CARRIER             0\n",
       "OP_CARRIER_AIRLINE_ID         0\n",
       "OP_CARRIER                    0\n",
       "TAIL_NUM                      0\n",
       "OP_CARRIER_FL_NUM             0\n",
       "ORIGIN_AIRPORT_ID             0\n",
       "ORIGIN_AIRPORT_SEQ_ID         0\n",
       "ORIGIN                        0\n",
       "DEST_AIRPORT_ID               0\n",
       "DEST_AIRPORT_SEQ_ID           0\n",
       "DEST                          0\n",
       "DEP_TIME                      0\n",
       "DEP_DEL15                     0\n",
       "DEP_TIME_BLK                  0\n",
       "ARR_TIME                      0\n",
       "ARR_DEL15                     0\n",
       "CANCELLED                     0\n",
       "DIVERTED                      0\n",
       "DISTANCE                      0\n",
       "Unnamed: 21              250478\n",
       "Delayed_Flights               0\n",
       "dtype: int64"
      ]
     },
     "execution_count": 29,
     "metadata": {},
     "output_type": "execute_result"
    }
   ],
   "source": [
    "df_new.isnull().sum()"
   ]
  },
  {
   "cell_type": "code",
   "execution_count": 30,
   "id": "ea8a5251",
   "metadata": {},
   "outputs": [],
   "source": [
    "# drop unnecessary columns \n",
    "df_new.drop(['OP_CARRIER_AIRLINE_ID','TAIL_NUM','OP_CARRIER_FL_NUM','ORIGIN_AIRPORT_ID',\n",
    "            'ORIGIN_AIRPORT_SEQ_ID','DEST_AIRPORT_ID','DEST_AIRPORT_SEQ_ID','DEP_DEL15',\n",
    "            'ARR_DEL15','CANCELLED','DIVERTED','Unnamed: 21','OP_CARRIER'],inplace=True,axis=1)"
   ]
  },
  {
   "cell_type": "code",
   "execution_count": 31,
   "id": "9e744c0c",
   "metadata": {},
   "outputs": [
    {
     "data": {
      "text/html": [
       "<div>\n",
       "<style scoped>\n",
       "    .dataframe tbody tr th:only-of-type {\n",
       "        vertical-align: middle;\n",
       "    }\n",
       "\n",
       "    .dataframe tbody tr th {\n",
       "        vertical-align: top;\n",
       "    }\n",
       "\n",
       "    .dataframe thead th {\n",
       "        text-align: right;\n",
       "    }\n",
       "</style>\n",
       "<table border=\"1\" class=\"dataframe\">\n",
       "  <thead>\n",
       "    <tr style=\"text-align: right;\">\n",
       "      <th></th>\n",
       "      <th>DAY_OF_MONTH</th>\n",
       "      <th>DAY_OF_WEEK</th>\n",
       "      <th>OP_UNIQUE_CARRIER</th>\n",
       "      <th>ORIGIN</th>\n",
       "      <th>DEST</th>\n",
       "      <th>DEP_TIME</th>\n",
       "      <th>DEP_TIME_BLK</th>\n",
       "      <th>ARR_TIME</th>\n",
       "      <th>DISTANCE</th>\n",
       "      <th>Delayed_Flights</th>\n",
       "    </tr>\n",
       "  </thead>\n",
       "  <tbody>\n",
       "    <tr>\n",
       "      <th>12</th>\n",
       "      <td>1</td>\n",
       "      <td>2</td>\n",
       "      <td>9E</td>\n",
       "      <td>DTW</td>\n",
       "      <td>DAY</td>\n",
       "      <td>1552.0</td>\n",
       "      <td>1500-1559</td>\n",
       "      <td>1738.0</td>\n",
       "      <td>166.0</td>\n",
       "      <td>1</td>\n",
       "    </tr>\n",
       "    <tr>\n",
       "      <th>16</th>\n",
       "      <td>1</td>\n",
       "      <td>2</td>\n",
       "      <td>9E</td>\n",
       "      <td>DTW</td>\n",
       "      <td>EWR</td>\n",
       "      <td>1353.0</td>\n",
       "      <td>1200-1259</td>\n",
       "      <td>1521.0</td>\n",
       "      <td>488.0</td>\n",
       "      <td>1</td>\n",
       "    </tr>\n",
       "    <tr>\n",
       "      <th>22</th>\n",
       "      <td>1</td>\n",
       "      <td>2</td>\n",
       "      <td>9E</td>\n",
       "      <td>ATL</td>\n",
       "      <td>OAJ</td>\n",
       "      <td>2216.0</td>\n",
       "      <td>2200-2259</td>\n",
       "      <td>16.0</td>\n",
       "      <td>399.0</td>\n",
       "      <td>1</td>\n",
       "    </tr>\n",
       "    <tr>\n",
       "      <th>43</th>\n",
       "      <td>1</td>\n",
       "      <td>2</td>\n",
       "      <td>9E</td>\n",
       "      <td>FSM</td>\n",
       "      <td>ATL</td>\n",
       "      <td>1550.0</td>\n",
       "      <td>1500-1559</td>\n",
       "      <td>1859.0</td>\n",
       "      <td>579.0</td>\n",
       "      <td>1</td>\n",
       "    </tr>\n",
       "    <tr>\n",
       "      <th>48</th>\n",
       "      <td>1</td>\n",
       "      <td>2</td>\n",
       "      <td>9E</td>\n",
       "      <td>DTW</td>\n",
       "      <td>LAN</td>\n",
       "      <td>2036.0</td>\n",
       "      <td>2000-2059</td>\n",
       "      <td>2233.0</td>\n",
       "      <td>74.0</td>\n",
       "      <td>1</td>\n",
       "    </tr>\n",
       "  </tbody>\n",
       "</table>\n",
       "</div>"
      ],
      "text/plain": [
       "    DAY_OF_MONTH  DAY_OF_WEEK OP_UNIQUE_CARRIER ORIGIN DEST  DEP_TIME  \\\n",
       "12             1            2                9E    DTW  DAY    1552.0   \n",
       "16             1            2                9E    DTW  EWR    1353.0   \n",
       "22             1            2                9E    ATL  OAJ    2216.0   \n",
       "43             1            2                9E    FSM  ATL    1550.0   \n",
       "48             1            2                9E    DTW  LAN    2036.0   \n",
       "\n",
       "   DEP_TIME_BLK  ARR_TIME  DISTANCE  Delayed_Flights  \n",
       "12    1500-1559    1738.0     166.0                1  \n",
       "16    1200-1259    1521.0     488.0                1  \n",
       "22    2200-2259      16.0     399.0                1  \n",
       "43    1500-1559    1859.0     579.0                1  \n",
       "48    2000-2059    2233.0      74.0                1  "
      ]
     },
     "execution_count": 31,
     "metadata": {},
     "output_type": "execute_result"
    }
   ],
   "source": [
    "df_new.head()"
   ]
  },
  {
   "cell_type": "code",
   "execution_count": 32,
   "id": "70153cee",
   "metadata": {},
   "outputs": [
    {
     "name": "stdout",
     "output_type": "stream",
     "text": [
      "<class 'pandas.core.frame.DataFrame'>\n",
      "Int64Index: 250478 entries, 12 to 46374\n",
      "Data columns (total 10 columns):\n",
      " #   Column             Non-Null Count   Dtype  \n",
      "---  ------             --------------   -----  \n",
      " 0   DAY_OF_MONTH       250478 non-null  int64  \n",
      " 1   DAY_OF_WEEK        250478 non-null  int64  \n",
      " 2   OP_UNIQUE_CARRIER  250478 non-null  object \n",
      " 3   ORIGIN             250478 non-null  object \n",
      " 4   DEST               250478 non-null  object \n",
      " 5   DEP_TIME           250478 non-null  float64\n",
      " 6   DEP_TIME_BLK       250478 non-null  object \n",
      " 7   ARR_TIME           250478 non-null  float64\n",
      " 8   DISTANCE           250478 non-null  float64\n",
      " 9   Delayed_Flights    250478 non-null  int32  \n",
      "dtypes: float64(3), int32(1), int64(2), object(4)\n",
      "memory usage: 20.1+ MB\n"
     ]
    }
   ],
   "source": [
    "df_new.info()"
   ]
  },
  {
   "cell_type": "markdown",
   "id": "92bc6bdb",
   "metadata": {},
   "source": [
    "# Exploratory Data Analysis"
   ]
  },
  {
   "cell_type": "code",
   "execution_count": 33,
   "id": "cae0915d",
   "metadata": {},
   "outputs": [
    {
     "data": {
      "text/plain": [
       "<AxesSubplot:>"
      ]
     },
     "execution_count": 33,
     "metadata": {},
     "output_type": "execute_result"
    },
    {
     "data": {
      "image/png": "[encoded data removed]",
      "text/plain": [
       "<Figure size 432x288 with 1 Axes>"
      ]
     },
     "metadata": {
      "needs_background": "light"
     },
     "output_type": "display_data"
    }
   ],
   "source": [
    "df_new['DAY_OF_MONTH'].hist()"
   ]
  },
  {
   "cell_type": "code",
   "execution_count": 34,
   "id": "428dc3e5",
   "metadata": {},
   "outputs": [
    {
     "data": {
      "text/plain": [
       "<AxesSubplot:>"
      ]
     },
     "execution_count": 34,
     "metadata": {},
     "output_type": "execute_result"
    },
    {
     "data": {
      "image/png": "[encoded data removed]",
      "text/plain": [
       "<Figure size 432x288 with 1 Axes>"
      ]
     },
     "metadata": {
      "needs_background": "light"
     },
     "output_type": "display_data"
    }
   ],
   "source": [
    "df_new['DAY_OF_WEEK'].hist()"
   ]
  },
  {
   "cell_type": "code",
   "execution_count": 35,
   "id": "b10d4e50",
   "metadata": {},
   "outputs": [
    {
     "data": {
      "text/plain": [
       "array([[<AxesSubplot:title={'center':'DAY_OF_MONTH'}>,\n",
       "        <AxesSubplot:title={'center':'DAY_OF_WEEK'}>],\n",
       "       [<AxesSubplot:title={'center':'DEP_TIME'}>,\n",
       "        <AxesSubplot:title={'center':'ARR_TIME'}>],\n",
       "       [<AxesSubplot:title={'center':'DISTANCE'}>,\n",
       "        <AxesSubplot:title={'center':'Delayed_Flights'}>]], dtype=object)"
      ]
     },
     "execution_count": 35,
     "metadata": {},
     "output_type": "execute_result"
    },
    {
     "data": {
      "image/png": "[encoded data removed]",
      "text/plain": [
       "<Figure size 1080x1080 with 6 Axes>"
      ]
     },
     "metadata": {
      "needs_background": "light"
     },
     "output_type": "display_data"
    }
   ],
   "source": [
    "df_new.hist(figsize=(15,15))"
   ]
  },
  {
   "cell_type": "code",
   "execution_count": 36,
   "id": "c9eb038d",
   "metadata": {},
   "outputs": [
    {
     "data": {
      "text/html": [
       "<div>\n",
       "<style scoped>\n",
       "    .dataframe tbody tr th:only-of-type {\n",
       "        vertical-align: middle;\n",
       "    }\n",
       "\n",
       "    .dataframe tbody tr th {\n",
       "        vertical-align: top;\n",
       "    }\n",
       "\n",
       "    .dataframe thead th {\n",
       "        text-align: right;\n",
       "    }\n",
       "</style>\n",
       "<table border=\"1\" class=\"dataframe\">\n",
       "  <thead>\n",
       "    <tr style=\"text-align: right;\">\n",
       "      <th></th>\n",
       "      <th>DAY_OF_MONTH</th>\n",
       "      <th>DAY_OF_WEEK</th>\n",
       "      <th>DEP_TIME</th>\n",
       "      <th>ARR_TIME</th>\n",
       "      <th>DISTANCE</th>\n",
       "      <th>Delayed_Flights</th>\n",
       "    </tr>\n",
       "  </thead>\n",
       "  <tbody>\n",
       "    <tr>\n",
       "      <th>count</th>\n",
       "      <td>250478.000000</td>\n",
       "      <td>250478.000000</td>\n",
       "      <td>250478.000000</td>\n",
       "      <td>250478.000000</td>\n",
       "      <td>250478.000000</td>\n",
       "      <td>250478.000000</td>\n",
       "    </tr>\n",
       "    <tr>\n",
       "      <th>mean</th>\n",
       "      <td>15.980445</td>\n",
       "      <td>3.842094</td>\n",
       "      <td>1384.264786</td>\n",
       "      <td>1511.421957</td>\n",
       "      <td>811.668570</td>\n",
       "      <td>0.500000</td>\n",
       "    </tr>\n",
       "    <tr>\n",
       "      <th>std</th>\n",
       "      <td>9.024585</td>\n",
       "      <td>1.915282</td>\n",
       "      <td>497.471225</td>\n",
       "      <td>549.301197</td>\n",
       "      <td>593.302808</td>\n",
       "      <td>0.500001</td>\n",
       "    </tr>\n",
       "    <tr>\n",
       "      <th>min</th>\n",
       "      <td>1.000000</td>\n",
       "      <td>1.000000</td>\n",
       "      <td>1.000000</td>\n",
       "      <td>1.000000</td>\n",
       "      <td>31.000000</td>\n",
       "      <td>0.000000</td>\n",
       "    </tr>\n",
       "    <tr>\n",
       "      <th>25%</th>\n",
       "      <td>8.000000</td>\n",
       "      <td>2.000000</td>\n",
       "      <td>959.000000</td>\n",
       "      <td>1129.000000</td>\n",
       "      <td>370.000000</td>\n",
       "      <td>0.000000</td>\n",
       "    </tr>\n",
       "    <tr>\n",
       "      <th>50%</th>\n",
       "      <td>16.000000</td>\n",
       "      <td>4.000000</td>\n",
       "      <td>1414.000000</td>\n",
       "      <td>1552.000000</td>\n",
       "      <td>651.000000</td>\n",
       "      <td>0.500000</td>\n",
       "    </tr>\n",
       "    <tr>\n",
       "      <th>75%</th>\n",
       "      <td>24.000000</td>\n",
       "      <td>5.000000</td>\n",
       "      <td>1808.000000</td>\n",
       "      <td>1946.000000</td>\n",
       "      <td>1052.000000</td>\n",
       "      <td>1.000000</td>\n",
       "    </tr>\n",
       "    <tr>\n",
       "      <th>max</th>\n",
       "      <td>31.000000</td>\n",
       "      <td>7.000000</td>\n",
       "      <td>2400.000000</td>\n",
       "      <td>2400.000000</td>\n",
       "      <td>4983.000000</td>\n",
       "      <td>1.000000</td>\n",
       "    </tr>\n",
       "  </tbody>\n",
       "</table>\n",
       "</div>"
      ],
      "text/plain": [
       "        DAY_OF_MONTH    DAY_OF_WEEK       DEP_TIME       ARR_TIME  \\\n",
       "count  250478.000000  250478.000000  250478.000000  250478.000000   \n",
       "mean       15.980445       3.842094    1384.264786    1511.421957   \n",
       "std         9.024585       1.915282     497.471225     549.301197   \n",
       "min         1.000000       1.000000       1.000000       1.000000   \n",
       "25%         8.000000       2.000000     959.000000    1129.000000   \n",
       "50%        16.000000       4.000000    1414.000000    1552.000000   \n",
       "75%        24.000000       5.000000    1808.000000    1946.000000   \n",
       "max        31.000000       7.000000    2400.000000    2400.000000   \n",
       "\n",
       "            DISTANCE  Delayed_Flights  \n",
       "count  250478.000000    250478.000000  \n",
       "mean      811.668570         0.500000  \n",
       "std       593.302808         0.500001  \n",
       "min        31.000000         0.000000  \n",
       "25%       370.000000         0.000000  \n",
       "50%       651.000000         0.500000  \n",
       "75%      1052.000000         1.000000  \n",
       "max      4983.000000         1.000000  "
      ]
     },
     "execution_count": 36,
     "metadata": {},
     "output_type": "execute_result"
    }
   ],
   "source": [
    "df_new.describe()"
   ]
  },
  {
   "cell_type": "code",
   "execution_count": 37,
   "id": "61d5765e",
   "metadata": {},
   "outputs": [],
   "source": [
    "delayed_count = df_new.groupby('OP_UNIQUE_CARRIER')['Delayed_Flights'].apply(lambda x:(x==1).sum()).reset_index(name=\"Delayed Number\")"
   ]
  },
  {
   "cell_type": "code",
   "execution_count": 38,
   "id": "e705a525",
   "metadata": {},
   "outputs": [],
   "source": [
    "delayed_count = delayed_count.sort_values(\"Delayed Number\",ascending=False)"
   ]
  },
  {
   "cell_type": "code",
   "execution_count": 39,
   "id": "3b539e8a",
   "metadata": {},
   "outputs": [
    {
     "data": {
      "text/html": [
       "<div>\n",
       "<style scoped>\n",
       "    .dataframe tbody tr th:only-of-type {\n",
       "        vertical-align: middle;\n",
       "    }\n",
       "\n",
       "    .dataframe tbody tr th {\n",
       "        vertical-align: top;\n",
       "    }\n",
       "\n",
       "    .dataframe thead th {\n",
       "        text-align: right;\n",
       "    }\n",
       "</style>\n",
       "<table border=\"1\" class=\"dataframe\">\n",
       "  <thead>\n",
       "    <tr style=\"text-align: right;\">\n",
       "      <th></th>\n",
       "      <th>OP_UNIQUE_CARRIER</th>\n",
       "      <th>Delayed Number</th>\n",
       "    </tr>\n",
       "  </thead>\n",
       "  <tbody>\n",
       "    <tr>\n",
       "      <th>14</th>\n",
       "      <td>WN</td>\n",
       "      <td>21651</td>\n",
       "    </tr>\n",
       "    <tr>\n",
       "      <th>1</th>\n",
       "      <td>AA</td>\n",
       "      <td>16279</td>\n",
       "    </tr>\n",
       "    <tr>\n",
       "      <th>12</th>\n",
       "      <td>OO</td>\n",
       "      <td>15759</td>\n",
       "    </tr>\n",
       "    <tr>\n",
       "      <th>4</th>\n",
       "      <td>DL</td>\n",
       "      <td>12108</td>\n",
       "    </tr>\n",
       "    <tr>\n",
       "      <th>13</th>\n",
       "      <td>UA</td>\n",
       "      <td>10680</td>\n",
       "    </tr>\n",
       "    <tr>\n",
       "      <th>3</th>\n",
       "      <td>B6</td>\n",
       "      <td>7493</td>\n",
       "    </tr>\n",
       "    <tr>\n",
       "      <th>16</th>\n",
       "      <td>YX</td>\n",
       "      <td>6505</td>\n",
       "    </tr>\n",
       "    <tr>\n",
       "      <th>9</th>\n",
       "      <td>MQ</td>\n",
       "      <td>6444</td>\n",
       "    </tr>\n",
       "    <tr>\n",
       "      <th>0</th>\n",
       "      <td>9E</td>\n",
       "      <td>4551</td>\n",
       "    </tr>\n",
       "    <tr>\n",
       "      <th>11</th>\n",
       "      <td>OH</td>\n",
       "      <td>4151</td>\n",
       "    </tr>\n",
       "    <tr>\n",
       "      <th>2</th>\n",
       "      <td>AS</td>\n",
       "      <td>4030</td>\n",
       "    </tr>\n",
       "    <tr>\n",
       "      <th>15</th>\n",
       "      <td>YV</td>\n",
       "      <td>3700</td>\n",
       "    </tr>\n",
       "    <tr>\n",
       "      <th>5</th>\n",
       "      <td>EV</td>\n",
       "      <td>3241</td>\n",
       "    </tr>\n",
       "    <tr>\n",
       "      <th>6</th>\n",
       "      <td>F9</td>\n",
       "      <td>2890</td>\n",
       "    </tr>\n",
       "    <tr>\n",
       "      <th>10</th>\n",
       "      <td>NK</td>\n",
       "      <td>2846</td>\n",
       "    </tr>\n",
       "    <tr>\n",
       "      <th>7</th>\n",
       "      <td>G4</td>\n",
       "      <td>1965</td>\n",
       "    </tr>\n",
       "    <tr>\n",
       "      <th>8</th>\n",
       "      <td>HA</td>\n",
       "      <td>946</td>\n",
       "    </tr>\n",
       "  </tbody>\n",
       "</table>\n",
       "</div>"
      ],
      "text/plain": [
       "   OP_UNIQUE_CARRIER  Delayed Number\n",
       "14                WN           21651\n",
       "1                 AA           16279\n",
       "12                OO           15759\n",
       "4                 DL           12108\n",
       "13                UA           10680\n",
       "3                 B6            7493\n",
       "16                YX            6505\n",
       "9                 MQ            6444\n",
       "0                 9E            4551\n",
       "11                OH            4151\n",
       "2                 AS            4030\n",
       "15                YV            3700\n",
       "5                 EV            3241\n",
       "6                 F9            2890\n",
       "10                NK            2846\n",
       "7                 G4            1965\n",
       "8                 HA             946"
      ]
     },
     "execution_count": 39,
     "metadata": {},
     "output_type": "execute_result"
    }
   ],
   "source": [
    "delayed_count"
   ]
  },
  {
   "cell_type": "code",
   "execution_count": 40,
   "id": "58c1781a",
   "metadata": {},
   "outputs": [
    {
     "data": {
      "text/plain": [
       "<AxesSubplot:xlabel='OP_UNIQUE_CARRIER'>"
      ]
     },
     "execution_count": 40,
     "metadata": {},
     "output_type": "execute_result"
    },
    {
     "data": {
      "image/png": "[encoded data removed]",
      "text/plain": [
       "<Figure size 792x576 with 1 Axes>"
      ]
     },
     "metadata": {
      "needs_background": "light"
     },
     "output_type": "display_data"
    }
   ],
   "source": [
    "delayed_count.plot.bar(x='OP_UNIQUE_CARRIER',y='Delayed Number',figsize=(11,8))"
   ]
  },
  {
   "cell_type": "markdown",
   "id": "75254e4c",
   "metadata": {},
   "source": [
    "the above plot shows that the high operation carriers and we found that WN operation carrier has largest number of delayed flights"
   ]
  },
  {
   "cell_type": "code",
   "execution_count": 41,
   "id": "a5c3c97c",
   "metadata": {},
   "outputs": [],
   "source": [
    "undelayed_count = df_new.groupby('OP_UNIQUE_CARRIER')['Delayed_Flights'].apply(lambda x:(x==0).sum()).reset_index(name=\"undelayed Number\")\n",
    "undelayed_count = undelayed_count.sort_values(\"undelayed Number\",ascending=False)"
   ]
  },
  {
   "cell_type": "code",
   "execution_count": 42,
   "id": "1a77b41e",
   "metadata": {},
   "outputs": [
    {
     "data": {
      "text/html": [
       "<div>\n",
       "<style scoped>\n",
       "    .dataframe tbody tr th:only-of-type {\n",
       "        vertical-align: middle;\n",
       "    }\n",
       "\n",
       "    .dataframe tbody tr th {\n",
       "        vertical-align: top;\n",
       "    }\n",
       "\n",
       "    .dataframe thead th {\n",
       "        text-align: right;\n",
       "    }\n",
       "</style>\n",
       "<table border=\"1\" class=\"dataframe\">\n",
       "  <thead>\n",
       "    <tr style=\"text-align: right;\">\n",
       "      <th></th>\n",
       "      <th>OP_UNIQUE_CARRIER</th>\n",
       "      <th>undelayed Number</th>\n",
       "    </tr>\n",
       "  </thead>\n",
       "  <tbody>\n",
       "    <tr>\n",
       "      <th>14</th>\n",
       "      <td>WN</td>\n",
       "      <td>24168</td>\n",
       "    </tr>\n",
       "    <tr>\n",
       "      <th>4</th>\n",
       "      <td>DL</td>\n",
       "      <td>17538</td>\n",
       "    </tr>\n",
       "    <tr>\n",
       "      <th>1</th>\n",
       "      <td>AA</td>\n",
       "      <td>16935</td>\n",
       "    </tr>\n",
       "    <tr>\n",
       "      <th>12</th>\n",
       "      <td>OO</td>\n",
       "      <td>13205</td>\n",
       "    </tr>\n",
       "    <tr>\n",
       "      <th>13</th>\n",
       "      <td>UA</td>\n",
       "      <td>10142</td>\n",
       "    </tr>\n",
       "    <tr>\n",
       "      <th>16</th>\n",
       "      <td>YX</td>\n",
       "      <td>5164</td>\n",
       "    </tr>\n",
       "    <tr>\n",
       "      <th>11</th>\n",
       "      <td>OH</td>\n",
       "      <td>5051</td>\n",
       "    </tr>\n",
       "    <tr>\n",
       "      <th>9</th>\n",
       "      <td>MQ</td>\n",
       "      <td>4893</td>\n",
       "    </tr>\n",
       "    <tr>\n",
       "      <th>3</th>\n",
       "      <td>B6</td>\n",
       "      <td>4579</td>\n",
       "    </tr>\n",
       "    <tr>\n",
       "      <th>2</th>\n",
       "      <td>AS</td>\n",
       "      <td>4413</td>\n",
       "    </tr>\n",
       "    <tr>\n",
       "      <th>0</th>\n",
       "      <td>9E</td>\n",
       "      <td>4323</td>\n",
       "    </tr>\n",
       "    <tr>\n",
       "      <th>15</th>\n",
       "      <td>YV</td>\n",
       "      <td>3984</td>\n",
       "    </tr>\n",
       "    <tr>\n",
       "      <th>10</th>\n",
       "      <td>NK</td>\n",
       "      <td>3457</td>\n",
       "    </tr>\n",
       "    <tr>\n",
       "      <th>5</th>\n",
       "      <td>EV</td>\n",
       "      <td>2585</td>\n",
       "    </tr>\n",
       "    <tr>\n",
       "      <th>6</th>\n",
       "      <td>F9</td>\n",
       "      <td>1808</td>\n",
       "    </tr>\n",
       "    <tr>\n",
       "      <th>8</th>\n",
       "      <td>HA</td>\n",
       "      <td>1625</td>\n",
       "    </tr>\n",
       "    <tr>\n",
       "      <th>7</th>\n",
       "      <td>G4</td>\n",
       "      <td>1369</td>\n",
       "    </tr>\n",
       "  </tbody>\n",
       "</table>\n",
       "</div>"
      ],
      "text/plain": [
       "   OP_UNIQUE_CARRIER  undelayed Number\n",
       "14                WN             24168\n",
       "4                 DL             17538\n",
       "1                 AA             16935\n",
       "12                OO             13205\n",
       "13                UA             10142\n",
       "16                YX              5164\n",
       "11                OH              5051\n",
       "9                 MQ              4893\n",
       "3                 B6              4579\n",
       "2                 AS              4413\n",
       "0                 9E              4323\n",
       "15                YV              3984\n",
       "10                NK              3457\n",
       "5                 EV              2585\n",
       "6                 F9              1808\n",
       "8                 HA              1625\n",
       "7                 G4              1369"
      ]
     },
     "execution_count": 42,
     "metadata": {},
     "output_type": "execute_result"
    }
   ],
   "source": [
    "undelayed_count"
   ]
  },
  {
   "cell_type": "code",
   "execution_count": 43,
   "id": "9f7a9747",
   "metadata": {},
   "outputs": [
    {
     "data": {
      "text/plain": [
       "<AxesSubplot:xlabel='OP_UNIQUE_CARRIER'>"
      ]
     },
     "execution_count": 43,
     "metadata": {},
     "output_type": "execute_result"
    },
    {
     "data": {
      "image/png": "[encoded data removed]",
      "text/plain": [
       "<Figure size 792x576 with 1 Axes>"
      ]
     },
     "metadata": {
      "needs_background": "light"
     },
     "output_type": "display_data"
    }
   ],
   "source": [
    "undelayed_count.plot.bar(x='OP_UNIQUE_CARRIER',y='undelayed Number',figsize=(11,8))"
   ]
  },
  {
   "cell_type": "code",
   "execution_count": 44,
   "id": "9cd78db9",
   "metadata": {},
   "outputs": [
    {
     "data": {
      "text/plain": [
       "Index(['DAY_OF_MONTH', 'DAY_OF_WEEK', 'OP_UNIQUE_CARRIER', 'ORIGIN', 'DEST',\n",
       "       'DEP_TIME', 'DEP_TIME_BLK', 'ARR_TIME', 'DISTANCE', 'Delayed_Flights'],\n",
       "      dtype='object')"
      ]
     },
     "execution_count": 44,
     "metadata": {},
     "output_type": "execute_result"
    }
   ],
   "source": [
    "df_new.columns"
   ]
  },
  {
   "cell_type": "code",
   "execution_count": 45,
   "id": "d10f6ea3",
   "metadata": {},
   "outputs": [
    {
     "data": {
      "image/png": "[encoded data removed]",
      "text/plain": [
       "<Figure size 720x504 with 1 Axes>"
      ]
     },
     "metadata": {
      "needs_background": "light"
     },
     "output_type": "display_data"
    }
   ],
   "source": [
    "delayed_days_per_month = df_new.groupby('DAY_OF_MONTH')['Delayed_Flights'].apply(lambda x:(x==1).sum()).reset_index(name=\"delayed_flightss\")\n",
    "plt.figure(figsize=(10,7))\n",
    "plt.xticks(delayed_days_per_month['DAY_OF_MONTH'])\n",
    "plt.plot(delayed_days_per_month['DAY_OF_MONTH'],delayed_days_per_month['delayed_flightss'])\n",
    "plt.xlabel('Day of Month')\n",
    "plt.ylabel('number of Delayed flights');"
   ]
  },
  {
   "cell_type": "code",
   "execution_count": 46,
   "id": "d5bf6911",
   "metadata": {},
   "outputs": [],
   "source": [
    "distance_delayed = df_new[df_new['Delayed_Flights'] == 1]['DISTANCE'].values.mean()\n",
    "distance_undelayed = df_new[df_new['Delayed_Flights'] == 0]['DISTANCE'].values.mean()"
   ]
  },
  {
   "cell_type": "code",
   "execution_count": 47,
   "id": "684b9f6e",
   "metadata": {},
   "outputs": [
    {
     "name": "stdout",
     "output_type": "stream",
     "text": [
      "Average Distance delay 828.707846597306  mile\n",
      "Average Distance undelay 794.6292927921813  mile\n"
     ]
    }
   ],
   "source": [
    "print(\"Average Distance delay\",distance_delayed,\" mile\")\n",
    "print(\"Average Distance undelay\",distance_undelayed,\" mile\")"
   ]
  },
  {
   "cell_type": "code",
   "execution_count": 48,
   "id": "9a782036",
   "metadata": {},
   "outputs": [
    {
     "data": {
      "image/png": "[encoded data removed]",
      "text/plain": [
       "<Figure size 432x288 with 1 Axes>"
      ]
     },
     "metadata": {},
     "output_type": "display_data"
    }
   ],
   "source": [
    "plt.pie([distance_delayed,distance_undelayed],colors=['yellowgreen','red'],shadow=True,startangle=90,autopct='%1.1f%%')\n",
    "plt.legend(['Distance delay','Distance undelay'])\n",
    "plt.tight_layout()\n",
    "plt.axis('equal');"
   ]
  },
  {
   "cell_type": "code",
   "execution_count": 49,
   "id": "22536a3a",
   "metadata": {},
   "outputs": [
    {
     "data": {
      "text/plain": [
       "<AxesSubplot:xlabel='DAY_OF_WEEK'>"
      ]
     },
     "execution_count": 49,
     "metadata": {},
     "output_type": "execute_result"
    },
    {
     "data": {
      "image/png": "[encoded data removed]",
      "text/plain": [
       "<Figure size 432x288 with 1 Axes>"
      ]
     },
     "metadata": {
      "needs_background": "light"
     },
     "output_type": "display_data"
    }
   ],
   "source": [
    "day_delayed = df.groupby('DAY_OF_WEEK')['Delayed_Flights'].apply(lambda x:(x==1).sum()).reset_index(name='Delayed_Number')\n",
    "day_delayed.sort_values('Delayed_Number')\n",
    "day_delayed['DAY_OF_WEEK'] = day_delayed['DAY_OF_WEEK'].map({1:'Mon',2:'Tu',3:'Wed',4:'thu',5:'Fri',6:'Sat',7:'Sun'})\n",
    "day_delayed.plot.bar(x='DAY_OF_WEEK',y='Delayed_Number')"
   ]
  },
  {
   "cell_type": "code",
   "execution_count": 50,
   "id": "3515e677",
   "metadata": {},
   "outputs": [
    {
     "name": "stdout",
     "output_type": "stream",
     "text": [
      "<class 'pandas.core.frame.DataFrame'>\n",
      "Int64Index: 250478 entries, 12 to 46374\n",
      "Data columns (total 10 columns):\n",
      " #   Column             Non-Null Count   Dtype  \n",
      "---  ------             --------------   -----  \n",
      " 0   DAY_OF_MONTH       250478 non-null  int64  \n",
      " 1   DAY_OF_WEEK        250478 non-null  int64  \n",
      " 2   OP_UNIQUE_CARRIER  250478 non-null  object \n",
      " 3   ORIGIN             250478 non-null  object \n",
      " 4   DEST               250478 non-null  object \n",
      " 5   DEP_TIME           250478 non-null  float64\n",
      " 6   DEP_TIME_BLK       250478 non-null  object \n",
      " 7   ARR_TIME           250478 non-null  float64\n",
      " 8   DISTANCE           250478 non-null  float64\n",
      " 9   Delayed_Flights    250478 non-null  int32  \n",
      "dtypes: float64(3), int32(1), int64(2), object(4)\n",
      "memory usage: 20.1+ MB\n"
     ]
    }
   ],
   "source": [
    "df_new.info()"
   ]
  },
  {
   "cell_type": "code",
   "execution_count": 51,
   "id": "d2069131",
   "metadata": {},
   "outputs": [
    {
     "data": {
      "text/plain": [
       "array(['9E', 'AA', 'MQ', 'G4', 'OH', 'B6', 'YV', 'EV', 'F9', 'HA', 'YX',\n",
       "       'NK', 'OO', 'WN', 'AS', 'UA', 'DL'], dtype=object)"
      ]
     },
     "execution_count": 51,
     "metadata": {},
     "output_type": "execute_result"
    }
   ],
   "source": [
    "df_new['OP_UNIQUE_CARRIER'].unique()"
   ]
  },
  {
   "cell_type": "code",
   "execution_count": 52,
   "id": "1748323f",
   "metadata": {},
   "outputs": [],
   "source": [
    "category_columns = ['OP_UNIQUE_CARRIER','ORIGIN','DEST','DEP_TIME_BLK']"
   ]
  },
  {
   "cell_type": "code",
   "execution_count": 53,
   "id": "7555ba93",
   "metadata": {},
   "outputs": [],
   "source": [
    "for i in category_columns:\n",
    "    df_new[i] = df_new[i].astype('category')\n",
    "    df_new[i] = df_new[i].cat.codes"
   ]
  },
  {
   "cell_type": "code",
   "execution_count": 54,
   "id": "396d61f5",
   "metadata": {},
   "outputs": [
    {
     "data": {
      "text/plain": [
       "array([ 0,  1,  9,  7, 11,  3, 15,  5,  6,  8, 16, 10, 12, 14,  2, 13,  4],\n",
       "      dtype=int8)"
      ]
     },
     "execution_count": 54,
     "metadata": {},
     "output_type": "execute_result"
    }
   ],
   "source": [
    "df_new['OP_UNIQUE_CARRIER'].unique()"
   ]
  },
  {
   "cell_type": "code",
   "execution_count": 55,
   "id": "895d52df",
   "metadata": {},
   "outputs": [
    {
     "name": "stdout",
     "output_type": "stream",
     "text": [
      "<class 'pandas.core.frame.DataFrame'>\n",
      "Int64Index: 250478 entries, 12 to 46374\n",
      "Data columns (total 10 columns):\n",
      " #   Column             Non-Null Count   Dtype  \n",
      "---  ------             --------------   -----  \n",
      " 0   DAY_OF_MONTH       250478 non-null  int64  \n",
      " 1   DAY_OF_WEEK        250478 non-null  int64  \n",
      " 2   OP_UNIQUE_CARRIER  250478 non-null  int8   \n",
      " 3   ORIGIN             250478 non-null  int16  \n",
      " 4   DEST               250478 non-null  int16  \n",
      " 5   DEP_TIME           250478 non-null  float64\n",
      " 6   DEP_TIME_BLK       250478 non-null  int8   \n",
      " 7   ARR_TIME           250478 non-null  float64\n",
      " 8   DISTANCE           250478 non-null  float64\n",
      " 9   Delayed_Flights    250478 non-null  int32  \n",
      "dtypes: float64(3), int16(2), int32(1), int64(2), int8(2)\n",
      "memory usage: 13.9 MB\n"
     ]
    }
   ],
   "source": [
    "df_new.info()"
   ]
  },
  {
   "cell_type": "markdown",
   "id": "0b060187",
   "metadata": {},
   "source": [
    "# Machine Learning Model"
   ]
  },
  {
   "cell_type": "code",
   "execution_count": 56,
   "id": "a7a9f24a",
   "metadata": {},
   "outputs": [],
   "source": [
    "# important modules\n",
    "from sklearn.model_selection import train_test_split\n",
    "from sklearn.linear_model import LogisticRegression \n",
    "from sklearn.svm import SVC\n",
    "from sklearn.ensemble import RandomForestClassifier \n",
    "from sklearn.tree import DecisionTreeClassifier\n",
    "from sklearn.neural_network import MLPClassifier"
   ]
  },
  {
   "cell_type": "code",
   "execution_count": 57,
   "id": "b1f581e3",
   "metadata": {},
   "outputs": [],
   "source": [
    "features = ['DAY_OF_MONTH','DAY_OF_WEEK','OP_UNIQUE_CARRIER','ORIGIN','DEST','DEP_TIME','DEP_TIME_BLK','ARR_TIME','DISTANCE']\n",
    "x = df_new[features].values\n",
    "y = df_new['Delayed_Flights'].values"
   ]
  },
  {
   "cell_type": "code",
   "execution_count": 58,
   "id": "6c25fbb8",
   "metadata": {},
   "outputs": [],
   "source": [
    "x_train,x_test,y_train,y_test = train_test_split(x,y,test_size=0.2)"
   ]
  },
  {
   "cell_type": "markdown",
   "id": "4488172f",
   "metadata": {},
   "source": [
    "# Logistic Regression Model"
   ]
  },
  {
   "cell_type": "code",
   "execution_count": 81,
   "id": "85bb6ea7",
   "metadata": {},
   "outputs": [
    {
     "data": {
      "text/plain": [
       "LogisticRegression(solver='liblinear')"
      ]
     },
     "execution_count": 81,
     "metadata": {},
     "output_type": "execute_result"
    }
   ],
   "source": [
    "log_model = LogisticRegression(solver='liblinear',max_iter=100)\n",
    "log_model.fit(x_train,y_train)"
   ]
  },
  {
   "cell_type": "code",
   "execution_count": 82,
   "id": "1b23fbff",
   "metadata": {},
   "outputs": [],
   "source": [
    "train_score = log_model.score(x_train,y_train)\n",
    "test_score = log_model.score(x_test,y_test)"
   ]
  },
  {
   "cell_type": "code",
   "execution_count": 84,
   "id": "bf1f6ced",
   "metadata": {},
   "outputs": [
    {
     "name": "stdout",
     "output_type": "stream",
     "text": [
      "the train accuracy is  69.59407531614616 %\n",
      "the test accuracy is  69.77802618971575 %\n"
     ]
    }
   ],
   "source": [
    "print(\"the train accuracy is \",train_score *100 ,\"%\")\n",
    "print(\"the test accuracy is \",test_score * 100 ,\"%\")"
   ]
  },
  {
   "cell_type": "markdown",
   "id": "8b87690d",
   "metadata": {},
   "source": [
    "# Random Forest Model "
   ]
  },
  {
   "cell_type": "code",
   "execution_count": 89,
   "id": "35f42f61",
   "metadata": {},
   "outputs": [],
   "source": [
    "import time\n",
    "t1 = time.time()\n",
    "rf_model = RandomForestClassifier(n_estimators=350,max_depth=14)\n",
    "rf_model.fit(x_train,y_train)\n",
    "t2 = time.time()"
   ]
  },
  {
   "cell_type": "code",
   "execution_count": 90,
   "id": "554645ca",
   "metadata": {},
   "outputs": [
    {
     "name": "stdout",
     "output_type": "stream",
     "text": [
      "119.23944187164307\n"
     ]
    }
   ],
   "source": [
    "print(t2-t1)"
   ]
  },
  {
   "cell_type": "code",
   "execution_count": 91,
   "id": "ac484a74",
   "metadata": {},
   "outputs": [],
   "source": [
    "train_score =rf_model.score(x_train,y_train)\n",
    "test_score = rf_model.score(x_test,y_test)"
   ]
  },
  {
   "cell_type": "code",
   "execution_count": 92,
   "id": "90d629aa",
   "metadata": {},
   "outputs": [
    {
     "name": "stdout",
     "output_type": "stream",
     "text": [
      "the train accuracy is  84.7965386112525 %\n",
      "the test accuracy is  80.59924944107314 %\n"
     ]
    }
   ],
   "source": [
    "print(\"the train accuracy is \",train_score *100 ,\"%\")\n",
    "print(\"the test accuracy is \",test_score * 100 ,\"%\")"
   ]
  },
  {
   "cell_type": "markdown",
   "id": "c6872370",
   "metadata": {},
   "source": [
    "# Decision Tree Model"
   ]
  },
  {
   "cell_type": "code",
   "execution_count": 124,
   "id": "e8b5af99",
   "metadata": {},
   "outputs": [
    {
     "data": {
      "text/plain": [
       "DecisionTreeClassifier(max_depth=16, min_samples_leaf=14)"
      ]
     },
     "execution_count": 124,
     "metadata": {},
     "output_type": "execute_result"
    }
   ],
   "source": [
    "dt_model = DecisionTreeClassifier(max_depth=16,min_samples_leaf=14)\n",
    "dt_model.fit(x_train,y_train)"
   ]
  },
  {
   "cell_type": "code",
   "execution_count": 125,
   "id": "facb1333",
   "metadata": {},
   "outputs": [],
   "source": [
    "train_score =dt_model.score(x_train,y_train)\n",
    "test_score = dt_model.score(x_test,y_test)"
   ]
  },
  {
   "cell_type": "code",
   "execution_count": 126,
   "id": "a733d1f8",
   "metadata": {},
   "outputs": [
    {
     "name": "stdout",
     "output_type": "stream",
     "text": [
      "the train accuracy is  81.77331297222305 %\n",
      "the test accuracy is  78.9084956882785 %\n"
     ]
    }
   ],
   "source": [
    "print(\"the train accuracy is \",train_score *100 ,\"%\")\n",
    "print(\"the test accuracy is \",test_score * 100 ,\"%\")"
   ]
  },
  {
   "cell_type": "markdown",
   "id": "eb21f5fc",
   "metadata": {},
   "source": [
    "# Neural Network Model"
   ]
  },
  {
   "cell_type": "code",
   "execution_count": 71,
   "id": "4d0787c5",
   "metadata": {},
   "outputs": [],
   "source": [
    "mlp_model = MLPClassifier(solver='adam',max_iter=2000,activation='relu')"
   ]
  },
  {
   "cell_type": "code",
   "execution_count": 72,
   "id": "5d110d20",
   "metadata": {},
   "outputs": [
    {
     "data": {
      "text/plain": [
       "MLPClassifier(max_iter=2000)"
      ]
     },
     "execution_count": 72,
     "metadata": {},
     "output_type": "execute_result"
    }
   ],
   "source": [
    "mlp_model.fit(x_train,y_train)"
   ]
  },
  {
   "cell_type": "code",
   "execution_count": 73,
   "id": "f7ae7b97",
   "metadata": {},
   "outputs": [],
   "source": [
    "train_score =mlp_model.score(x_train,y_train)\n",
    "test_score = mlp_model.score(x_test,y_test)"
   ]
  },
  {
   "cell_type": "code",
   "execution_count": 74,
   "id": "70db77d7",
   "metadata": {},
   "outputs": [
    {
     "name": "stdout",
     "output_type": "stream",
     "text": [
      "the train accuracy is  77.65917098342166 %\n",
      "the test accuracy is  77.72277227722772 %\n"
     ]
    }
   ],
   "source": [
    "print(\"the train accuracy is \",train_score *100 ,\"%\")\n",
    "print(\"the test accuracy is \",test_score * 100 ,\"%\")"
   ]
  },
  {
   "cell_type": "markdown",
   "id": "b4438122",
   "metadata": {},
   "source": [
    "# SVM Model "
   ]
  },
  {
   "cell_type": "code",
   "execution_count": null,
   "id": "2bbf37c0",
   "metadata": {},
   "outputs": [],
   "source": [
    "t1 = time.time()\n",
    "svm_model = SVC()\n",
    "svm_model.fit(x_train,y_train)\n",
    "t2 = time.tim()\n",
    "print(t2-t1)"
   ]
  },
  {
   "cell_type": "code",
   "execution_count": null,
   "id": "f52660e4",
   "metadata": {},
   "outputs": [],
   "source": [
    "train_score =svm_model.score(x_train,y_train)\n",
    "test_score = svm_model.score(x_test,y_test)"
   ]
  },
  {
   "cell_type": "code",
   "execution_count": null,
   "id": "e1ae8f6c",
   "metadata": {},
   "outputs": [],
   "source": [
    "print(\"the train accuracy is \",train_score *100 ,\"%\")\n",
    "print(\"the test accuracy is \",test_score * 100 ,\"%\")"
   ]
  }
 ],
 "metadata": {
  "kernelspec": {
   "display_name": "Python 3 (ipykernel)",
   "language": "python",
   "name": "python3"
  },
  "language_info": {
   "codemirror_mode": {
    "name": "ipython",
    "version": 3
   },
   "file_extension": ".py",
   "mimetype": "text/x-python",
   "name": "python",
   "nbconvert_exporter": "python",
   "pygments_lexer": "ipython3",
   "version": "3.8.11"
  }
 },
 "nbformat": 4,
 "nbformat_minor": 5
}
