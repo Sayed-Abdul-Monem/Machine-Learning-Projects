{
 "cells": [
  {
   "cell_type": "markdown",
   "id": "63a1077c",
   "metadata": {},
   "source": [
    "## Python Introduction"
   ]
  },
  {
   "cell_type": "code",
   "execution_count": 3,
   "id": "8c933736",
   "metadata": {},
   "outputs": [
    {
     "name": "stdout",
     "output_type": "stream",
     "text": [
      "hello\n"
     ]
    }
   ],
   "source": [
    "print('hello')"
   ]
  },
  {
   "cell_type": "code",
   "execution_count": 4,
   "id": "73947600",
   "metadata": {},
   "outputs": [],
   "source": [
    "a = 10"
   ]
  },
  {
   "cell_type": "code",
   "execution_count": 7,
   "id": "b653e9e1",
   "metadata": {},
   "outputs": [
    {
     "name": "stdout",
     "output_type": "stream",
     "text": [
      "10\n"
     ]
    }
   ],
   "source": [
    "print(a)"
   ]
  },
  {
   "cell_type": "code",
   "execution_count": null,
   "id": "325fb85c",
   "metadata": {},
   "outputs": [],
   "source": [
    "integer ,float ,String "
   ]
  },
  {
   "cell_type": "code",
   "execution_count": 8,
   "id": "b7165e4c",
   "metadata": {},
   "outputs": [],
   "source": [
    "a= 5"
   ]
  },
  {
   "cell_type": "code",
   "execution_count": 9,
   "id": "3c697d67",
   "metadata": {},
   "outputs": [
    {
     "data": {
      "text/plain": [
       "int"
      ]
     },
     "execution_count": 9,
     "metadata": {},
     "output_type": "execute_result"
    }
   ],
   "source": [
    "type(a)"
   ]
  },
  {
   "cell_type": "code",
   "execution_count": 10,
   "id": "9c740366",
   "metadata": {},
   "outputs": [],
   "source": [
    "b = 5.5"
   ]
  },
  {
   "cell_type": "code",
   "execution_count": 11,
   "id": "eabf7793",
   "metadata": {},
   "outputs": [
    {
     "data": {
      "text/plain": [
       "float"
      ]
     },
     "execution_count": 11,
     "metadata": {},
     "output_type": "execute_result"
    }
   ],
   "source": [
    "type(b)"
   ]
  },
  {
   "cell_type": "code",
   "execution_count": 17,
   "id": "a40c24aa",
   "metadata": {},
   "outputs": [],
   "source": [
    "c = 'sayed'"
   ]
  },
  {
   "cell_type": "code",
   "execution_count": 16,
   "id": "ff1827ef",
   "metadata": {},
   "outputs": [
    {
     "data": {
      "text/plain": [
       "str"
      ]
     },
     "execution_count": 16,
     "metadata": {},
     "output_type": "execute_result"
    }
   ],
   "source": [
    "type(c)"
   ]
  },
  {
   "cell_type": "code",
   "execution_count": 19,
   "id": "cd032225",
   "metadata": {},
   "outputs": [],
   "source": [
    "c = 'waleed'"
   ]
  },
  {
   "cell_type": "code",
   "execution_count": 20,
   "id": "7275fa9c",
   "metadata": {},
   "outputs": [
    {
     "name": "stdout",
     "output_type": "stream",
     "text": [
      "my name is  waleed\n"
     ]
    }
   ],
   "source": [
    "print('my name is ',c)"
   ]
  },
  {
   "cell_type": "code",
   "execution_count": 21,
   "id": "2ede00cf",
   "metadata": {},
   "outputs": [
    {
     "name": "stdout",
     "output_type": "stream",
     "text": [
      "sayed\n"
     ]
    }
   ],
   "source": [
    "d = input()"
   ]
  },
  {
   "cell_type": "code",
   "execution_count": 22,
   "id": "97cb5a61",
   "metadata": {},
   "outputs": [
    {
     "name": "stdout",
     "output_type": "stream",
     "text": [
      "sayed\n"
     ]
    }
   ],
   "source": [
    "print(d)"
   ]
  },
  {
   "cell_type": "code",
   "execution_count": 23,
   "id": "e5a50519",
   "metadata": {},
   "outputs": [
    {
     "name": "stdout",
     "output_type": "stream",
     "text": [
      "please Enter any number5\n"
     ]
    }
   ],
   "source": [
    "f = input('please Enter any number')"
   ]
  },
  {
   "cell_type": "code",
   "execution_count": 24,
   "id": "3e6c761f",
   "metadata": {},
   "outputs": [
    {
     "name": "stdout",
     "output_type": "stream",
     "text": [
      "5\n"
     ]
    }
   ],
   "source": [
    "print(f)"
   ]
  },
  {
   "cell_type": "code",
   "execution_count": 25,
   "id": "841e0660",
   "metadata": {},
   "outputs": [
    {
     "data": {
      "text/plain": [
       "str"
      ]
     },
     "execution_count": 25,
     "metadata": {},
     "output_type": "execute_result"
    }
   ],
   "source": [
    "type(f)"
   ]
  },
  {
   "cell_type": "code",
   "execution_count": 26,
   "id": "7c0c71ba",
   "metadata": {},
   "outputs": [],
   "source": [
    "g = int(f)"
   ]
  },
  {
   "cell_type": "code",
   "execution_count": 27,
   "id": "d97e5e46",
   "metadata": {},
   "outputs": [
    {
     "data": {
      "text/plain": [
       "5"
      ]
     },
     "execution_count": 27,
     "metadata": {},
     "output_type": "execute_result"
    }
   ],
   "source": [
    "g"
   ]
  },
  {
   "cell_type": "code",
   "execution_count": 28,
   "id": "c0fd1f13",
   "metadata": {},
   "outputs": [
    {
     "data": {
      "text/plain": [
       "int"
      ]
     },
     "execution_count": 28,
     "metadata": {},
     "output_type": "execute_result"
    }
   ],
   "source": [
    "type(g)"
   ]
  },
  {
   "cell_type": "code",
   "execution_count": 29,
   "id": "945fc768",
   "metadata": {},
   "outputs": [
    {
     "name": "stdout",
     "output_type": "stream",
     "text": [
      "please Enter any number6\n"
     ]
    }
   ],
   "source": [
    "f = int(input('please Enter any number'))"
   ]
  },
  {
   "cell_type": "code",
   "execution_count": 30,
   "id": "fcf88800",
   "metadata": {},
   "outputs": [
    {
     "data": {
      "text/plain": [
       "int"
      ]
     },
     "execution_count": 30,
     "metadata": {},
     "output_type": "execute_result"
    }
   ],
   "source": [
    "type(f)"
   ]
  },
  {
   "cell_type": "code",
   "execution_count": 31,
   "id": "dd133e6e",
   "metadata": {},
   "outputs": [
    {
     "name": "stdout",
     "output_type": "stream",
     "text": [
      "please Enter any number8\n"
     ]
    }
   ],
   "source": [
    "f = float(input('please Enter any number'))"
   ]
  },
  {
   "cell_type": "code",
   "execution_count": 32,
   "id": "f5d5fc15",
   "metadata": {},
   "outputs": [
    {
     "data": {
      "text/plain": [
       "float"
      ]
     },
     "execution_count": 32,
     "metadata": {},
     "output_type": "execute_result"
    }
   ],
   "source": [
    "type(f)"
   ]
  },
  {
   "cell_type": "code",
   "execution_count": 33,
   "id": "a3bcba7b",
   "metadata": {},
   "outputs": [],
   "source": [
    "a =  1\n",
    "b  = 2\n",
    "\n",
    "c = a + b"
   ]
  },
  {
   "cell_type": "code",
   "execution_count": 34,
   "id": "2e05e901",
   "metadata": {},
   "outputs": [
    {
     "data": {
      "text/plain": [
       "3"
      ]
     },
     "execution_count": 34,
     "metadata": {},
     "output_type": "execute_result"
    }
   ],
   "source": [
    "c"
   ]
  },
  {
   "cell_type": "code",
   "execution_count": 35,
   "id": "31879ba2",
   "metadata": {},
   "outputs": [
    {
     "name": "stdout",
     "output_type": "stream",
     "text": [
      "3\n"
     ]
    }
   ],
   "source": [
    "print(c)"
   ]
  },
  {
   "cell_type": "markdown",
   "id": "7ab00b50",
   "metadata": {},
   "source": [
    "# Functions"
   ]
  },
  {
   "cell_type": "code",
   "execution_count": 42,
   "id": "30b5da0c",
   "metadata": {},
   "outputs": [],
   "source": [
    "def sum_two_numbers(a,b):\n",
    "    c = a + b\n",
    "    h = a * b\n",
    "    print(\"the summation of the two numbers = \",c,\"and the multiplication of them = \",h)"
   ]
  },
  {
   "cell_type": "code",
   "execution_count": 43,
   "id": "24aff158",
   "metadata": {},
   "outputs": [
    {
     "name": "stdout",
     "output_type": "stream",
     "text": [
      "the summation of the two numbers =  9 and the multiplication of them =  20\n"
     ]
    }
   ],
   "source": [
    "sum_two_numbers(4,5)"
   ]
  },
  {
   "cell_type": "code",
   "execution_count": 48,
   "id": "9baa332e",
   "metadata": {},
   "outputs": [],
   "source": [
    "k = 500 \n",
    "l = 100"
   ]
  },
  {
   "cell_type": "code",
   "execution_count": 50,
   "id": "24f22441",
   "metadata": {},
   "outputs": [
    {
     "name": "stdout",
     "output_type": "stream",
     "text": [
      "your number is  500 100\n"
     ]
    }
   ],
   "source": [
    "print(\"your number is \",k,l)"
   ]
  },
  {
   "cell_type": "code",
   "execution_count": 49,
   "id": "c55403d7",
   "metadata": {},
   "outputs": [
    {
     "name": "stdout",
     "output_type": "stream",
     "text": [
      "your 500 number is 100 \n"
     ]
    }
   ],
   "source": [
    "print('your {} number is {} '.format(k,l))"
   ]
  },
  {
   "cell_type": "code",
   "execution_count": 52,
   "id": "58acf9c6",
   "metadata": {},
   "outputs": [
    {
     "name": "stdout",
     "output_type": "stream",
     "text": [
      "the summation of the two numbers =  3 and the multiplication of them =  2\n"
     ]
    }
   ],
   "source": [
    "sum_two_numbers(1,2)"
   ]
  },
  {
   "cell_type": "markdown",
   "id": "9728bc8c",
   "metadata": {},
   "source": [
    "# Default Argument"
   ]
  },
  {
   "cell_type": "code",
   "execution_count": 53,
   "id": "ddc46a46",
   "metadata": {},
   "outputs": [],
   "source": [
    "def sum_two_numbers(a=1,b=5):\n",
    "    c = a + b\n",
    "    h = a * b\n",
    "    print(\"the summation of the two numbers = \",c,\"and the multiplication of them = \",h)"
   ]
  },
  {
   "cell_type": "code",
   "execution_count": 55,
   "id": "6d384c7c",
   "metadata": {},
   "outputs": [
    {
     "name": "stdout",
     "output_type": "stream",
     "text": [
      "the summation of the two numbers =  14 and the multiplication of them =  40\n"
     ]
    }
   ],
   "source": [
    "sum_two_numbers(4,10)"
   ]
  },
  {
   "cell_type": "markdown",
   "id": "75c433f2",
   "metadata": {},
   "source": [
    "# operators \n",
    "addition + <br>\n",
    "subtraction - <br>\n",
    "division / <br>\n",
    "exponentiation ** <br>\n",
    "modulus % <br>\n",
    "multiplication * <br>"
   ]
  },
  {
   "cell_type": "code",
   "execution_count": 56,
   "id": "2c0aff63",
   "metadata": {},
   "outputs": [
    {
     "data": {
      "text/plain": [
       "25"
      ]
     },
     "execution_count": 56,
     "metadata": {},
     "output_type": "execute_result"
    }
   ],
   "source": [
    "5 ** 2"
   ]
  },
  {
   "cell_type": "code",
   "execution_count": 57,
   "id": "c22f6f31",
   "metadata": {},
   "outputs": [
    {
     "data": {
      "text/plain": [
       "1000"
      ]
     },
     "execution_count": 57,
     "metadata": {},
     "output_type": "execute_result"
    }
   ],
   "source": [
    "10 ** 3"
   ]
  },
  {
   "cell_type": "code",
   "execution_count": 58,
   "id": "e2777ec4",
   "metadata": {},
   "outputs": [
    {
     "data": {
      "text/plain": [
       "2"
      ]
     },
     "execution_count": 58,
     "metadata": {},
     "output_type": "execute_result"
    }
   ],
   "source": [
    "5 % 3"
   ]
  },
  {
   "cell_type": "markdown",
   "id": "1b2c6a6d",
   "metadata": {},
   "source": [
    "# Comparison Operators\n",
    "\n",
    "Equall == <br>\n",
    "not equal !=  <br>\n",
    "greater than >  <br>\n",
    "less than <  <br>\n",
    "greater than or equal >=  <br>\n",
    "less than or equal <=  <br>"
   ]
  },
  {
   "cell_type": "markdown",
   "id": "248f2978",
   "metadata": {},
   "source": [
    "# Conditional Statements"
   ]
  },
  {
   "cell_type": "code",
   "execution_count": 63,
   "id": "fce03bcb",
   "metadata": {},
   "outputs": [
    {
     "name": "stdout",
     "output_type": "stream",
     "text": [
      "the number is zero\n"
     ]
    }
   ],
   "source": [
    "number = 0\n",
    "\n",
    "if number > 0:\n",
    "    print('this number is positive')\n",
    "    print('this number is positive')\n",
    "    print('this number is positive')\n",
    "    print('this number is positive')\n",
    "elif number < 0:\n",
    "    print('this number is negative')\n",
    "else:\n",
    "    print('the number is zero')\n",
    "    "
   ]
  },
  {
   "cell_type": "code",
   "execution_count": 68,
   "id": "fdbc69f6",
   "metadata": {},
   "outputs": [],
   "source": [
    "grade = 65 "
   ]
  },
  {
   "cell_type": "code",
   "execution_count": 69,
   "id": "8ff5aedc",
   "metadata": {},
   "outputs": [
    {
     "name": "stdout",
     "output_type": "stream",
     "text": [
      "good\n"
     ]
    }
   ],
   "source": [
    "if grade >= 50 and grade < 60:\n",
    "    print('f')\n",
    "elif grade > 60 and grade <70:\n",
    "    print('good')\n",
    "elif grade > 70 and grade <80:\n",
    "    print('very good')"
   ]
  },
  {
   "cell_type": "markdown",
   "id": "2cdc1fa3",
   "metadata": {},
   "source": [
    "# List "
   ]
  },
  {
   "cell_type": "code",
   "execution_count": 70,
   "id": "d755f7ec",
   "metadata": {},
   "outputs": [],
   "source": [
    "g = []"
   ]
  },
  {
   "cell_type": "code",
   "execution_count": 71,
   "id": "944916e4",
   "metadata": {},
   "outputs": [
    {
     "data": {
      "text/plain": [
       "list"
      ]
     },
     "execution_count": 71,
     "metadata": {},
     "output_type": "execute_result"
    }
   ],
   "source": [
    "type(g)"
   ]
  },
  {
   "cell_type": "code",
   "execution_count": 72,
   "id": "cee03ecb",
   "metadata": {},
   "outputs": [],
   "source": [
    "i = [1,2,3,4,5,6,7]"
   ]
  },
  {
   "cell_type": "code",
   "execution_count": 73,
   "id": "244dd7a7",
   "metadata": {},
   "outputs": [],
   "source": [
    "k = [1,2,3,'sayed','ali',8,9,3.5]"
   ]
  },
  {
   "cell_type": "code",
   "execution_count": 74,
   "id": "9a0f4679",
   "metadata": {},
   "outputs": [
    {
     "name": "stdout",
     "output_type": "stream",
     "text": [
      "[1, 2, 3, 'sayed', 'ali', 8, 9, 3.5]\n"
     ]
    }
   ],
   "source": [
    "print(k)"
   ]
  },
  {
   "cell_type": "code",
   "execution_count": 75,
   "id": "227ac6a1",
   "metadata": {},
   "outputs": [],
   "source": [
    "k.append(100)"
   ]
  },
  {
   "cell_type": "code",
   "execution_count": 76,
   "id": "eb2145d9",
   "metadata": {},
   "outputs": [
    {
     "name": "stdout",
     "output_type": "stream",
     "text": [
      "[1, 2, 3, 'sayed', 'ali', 8, 9, 3.5, 100]\n"
     ]
    }
   ],
   "source": [
    "print(k)"
   ]
  },
  {
   "cell_type": "code",
   "execution_count": 77,
   "id": "6fb48527",
   "metadata": {},
   "outputs": [
    {
     "data": {
      "text/plain": [
       "1"
      ]
     },
     "execution_count": 77,
     "metadata": {},
     "output_type": "execute_result"
    }
   ],
   "source": [
    "k[0]"
   ]
  },
  {
   "cell_type": "code",
   "execution_count": 78,
   "id": "47021234",
   "metadata": {},
   "outputs": [
    {
     "data": {
      "text/plain": [
       "'sayed'"
      ]
     },
     "execution_count": 78,
     "metadata": {},
     "output_type": "execute_result"
    }
   ],
   "source": [
    "k[3]"
   ]
  },
  {
   "cell_type": "code",
   "execution_count": 79,
   "id": "18c8e15e",
   "metadata": {},
   "outputs": [
    {
     "data": {
      "text/plain": [
       "100"
      ]
     },
     "execution_count": 79,
     "metadata": {},
     "output_type": "execute_result"
    }
   ],
   "source": [
    "k[-1]"
   ]
  },
  {
   "cell_type": "code",
   "execution_count": 80,
   "id": "8b8a4631",
   "metadata": {},
   "outputs": [
    {
     "data": {
      "text/plain": [
       "3.5"
      ]
     },
     "execution_count": 80,
     "metadata": {},
     "output_type": "execute_result"
    }
   ],
   "source": [
    "k[-2]"
   ]
  },
  {
   "cell_type": "code",
   "execution_count": 83,
   "id": "7f0f3cac",
   "metadata": {},
   "outputs": [
    {
     "data": {
      "text/plain": [
       "[1, 2, 3, 'sayed']"
      ]
     },
     "execution_count": 83,
     "metadata": {},
     "output_type": "execute_result"
    }
   ],
   "source": [
    "k[0:4]"
   ]
  },
  {
   "cell_type": "markdown",
   "id": "20493d64",
   "metadata": {},
   "source": [
    "# Nest List"
   ]
  },
  {
   "cell_type": "code",
   "execution_count": 84,
   "id": "991d6d40",
   "metadata": {},
   "outputs": [],
   "source": [
    "list1 = [[1,2,3],[4,5,6],[7,8,9]]"
   ]
  },
  {
   "cell_type": "code",
   "execution_count": 85,
   "id": "374c166a",
   "metadata": {},
   "outputs": [
    {
     "data": {
      "text/plain": [
       "[1, 2, 3]"
      ]
     },
     "execution_count": 85,
     "metadata": {},
     "output_type": "execute_result"
    }
   ],
   "source": [
    "list1[0]"
   ]
  },
  {
   "cell_type": "code",
   "execution_count": 86,
   "id": "6d27103b",
   "metadata": {},
   "outputs": [
    {
     "data": {
      "text/plain": [
       "2"
      ]
     },
     "execution_count": 86,
     "metadata": {},
     "output_type": "execute_result"
    }
   ],
   "source": [
    "list1[0][1]"
   ]
  },
  {
   "cell_type": "code",
   "execution_count": 87,
   "id": "cd7b8640",
   "metadata": {},
   "outputs": [
    {
     "data": {
      "text/plain": [
       "7"
      ]
     },
     "execution_count": 87,
     "metadata": {},
     "output_type": "execute_result"
    }
   ],
   "source": [
    "list1[-1][0]"
   ]
  },
  {
   "cell_type": "markdown",
   "id": "f6cfb225",
   "metadata": {},
   "source": [
    "# Loops"
   ]
  },
  {
   "cell_type": "code",
   "execution_count": 92,
   "id": "528a6ff2",
   "metadata": {},
   "outputs": [
    {
     "name": "stdout",
     "output_type": "stream",
     "text": [
      "0\n",
      "---------------\n",
      "0\n",
      "-----------------\n",
      "\n",
      "\n",
      "1\n",
      "---------------\n",
      "1\n",
      "-----------------\n",
      "\n",
      "\n",
      "2\n",
      "---------------\n",
      "4\n",
      "-----------------\n",
      "\n",
      "\n",
      "3\n",
      "---------------\n",
      "9\n",
      "-----------------\n",
      "\n",
      "\n",
      "4\n",
      "---------------\n",
      "16\n",
      "-----------------\n",
      "\n",
      "\n",
      "5\n",
      "---------------\n",
      "25\n",
      "-----------------\n",
      "\n",
      "\n",
      "6\n",
      "---------------\n",
      "36\n",
      "-----------------\n",
      "\n",
      "\n",
      "7\n",
      "---------------\n",
      "49\n",
      "-----------------\n",
      "\n",
      "\n",
      "8\n",
      "---------------\n",
      "64\n",
      "-----------------\n",
      "\n",
      "\n",
      "9\n",
      "---------------\n",
      "81\n",
      "-----------------\n",
      "\n",
      "\n"
     ]
    }
   ],
   "source": [
    "for i in range(10):\n",
    "    print(i)\n",
    "    print('---------------')\n",
    "    c = i * i\n",
    "    print(c)\n",
    "    print('-----------------')\n",
    "    print()\n",
    "    print()"
   ]
  },
  {
   "cell_type": "code",
   "execution_count": 93,
   "id": "16ba2118",
   "metadata": {},
   "outputs": [
    {
     "name": "stdout",
     "output_type": "stream",
     "text": [
      "3\n",
      "7\n",
      "11\n",
      "15\n",
      "19\n"
     ]
    }
   ],
   "source": [
    "for i in range(3,20,4):\n",
    "    print(i)"
   ]
  },
  {
   "cell_type": "code",
   "execution_count": 94,
   "id": "389923d2",
   "metadata": {},
   "outputs": [
    {
     "name": "stdout",
     "output_type": "stream",
     "text": [
      "3\n",
      "4\n",
      "5\n",
      "6\n",
      "7\n",
      "8\n",
      "9\n",
      "10\n",
      "11\n",
      "12\n",
      "13\n",
      "14\n",
      "15\n",
      "16\n",
      "17\n",
      "18\n",
      "19\n"
     ]
    }
   ],
   "source": [
    "for i in range(3,20):\n",
    "    print(i)"
   ]
  },
  {
   "cell_type": "code",
   "execution_count": 95,
   "id": "1ed565f7",
   "metadata": {},
   "outputs": [],
   "source": [
    "list1 = []"
   ]
  },
  {
   "cell_type": "code",
   "execution_count": 96,
   "id": "2cc4c8ac",
   "metadata": {},
   "outputs": [],
   "source": [
    "for o in range(101):\n",
    "    list1.append(o)"
   ]
  },
  {
   "cell_type": "code",
   "execution_count": 97,
   "id": "834e2054",
   "metadata": {},
   "outputs": [
    {
     "name": "stdout",
     "output_type": "stream",
     "text": [
      "[0, 1, 2, 3, 4, 5, 6, 7, 8, 9, 10, 11, 12, 13, 14, 15, 16, 17, 18, 19, 20, 21, 22, 23, 24, 25, 26, 27, 28, 29, 30, 31, 32, 33, 34, 35, 36, 37, 38, 39, 40, 41, 42, 43, 44, 45, 46, 47, 48, 49, 50, 51, 52, 53, 54, 55, 56, 57, 58, 59, 60, 61, 62, 63, 64, 65, 66, 67, 68, 69, 70, 71, 72, 73, 74, 75, 76, 77, 78, 79, 80, 81, 82, 83, 84, 85, 86, 87, 88, 89, 90, 91, 92, 93, 94, 95, 96, 97, 98, 99, 100]\n"
     ]
    }
   ],
   "source": [
    "print(list1)"
   ]
  },
  {
   "cell_type": "code",
   "execution_count": 100,
   "id": "efecfc3f",
   "metadata": {},
   "outputs": [],
   "source": [
    "result = 1000 in list1"
   ]
  },
  {
   "cell_type": "code",
   "execution_count": 101,
   "id": "9203714a",
   "metadata": {},
   "outputs": [
    {
     "name": "stdout",
     "output_type": "stream",
     "text": [
      "False\n"
     ]
    }
   ],
   "source": [
    "print(result)"
   ]
  },
  {
   "cell_type": "markdown",
   "id": "1c84b627",
   "metadata": {},
   "source": [
    "# Zip Function "
   ]
  },
  {
   "cell_type": "code",
   "execution_count": 102,
   "id": "dc63b6d4",
   "metadata": {},
   "outputs": [],
   "source": [
    "list1 = [1,2,3]\n",
    "list2 = ['sayed','ali','saad']"
   ]
  },
  {
   "cell_type": "code",
   "execution_count": 103,
   "id": "c5d349b9",
   "metadata": {},
   "outputs": [],
   "source": [
    "zipped_list = zip(list1,list2)"
   ]
  },
  {
   "cell_type": "code",
   "execution_count": 104,
   "id": "502581fd",
   "metadata": {},
   "outputs": [],
   "source": [
    "new = list(zipped_list)"
   ]
  },
  {
   "cell_type": "code",
   "execution_count": 105,
   "id": "f67dd821",
   "metadata": {},
   "outputs": [
    {
     "data": {
      "text/plain": [
       "[(1, 'sayed'), (2, 'ali'), (3, 'saad')]"
      ]
     },
     "execution_count": 105,
     "metadata": {},
     "output_type": "execute_result"
    }
   ],
   "source": [
    "new"
   ]
  },
  {
   "cell_type": "code",
   "execution_count": 106,
   "id": "3ee87bbc",
   "metadata": {},
   "outputs": [],
   "source": [
    "list5 , list6 = zip(*new)"
   ]
  },
  {
   "cell_type": "code",
   "execution_count": 107,
   "id": "112296fa",
   "metadata": {},
   "outputs": [
    {
     "data": {
      "text/plain": [
       "(1, 2, 3)"
      ]
     },
     "execution_count": 107,
     "metadata": {},
     "output_type": "execute_result"
    }
   ],
   "source": [
    "list5"
   ]
  },
  {
   "cell_type": "code",
   "execution_count": 108,
   "id": "a7b6c4ff",
   "metadata": {},
   "outputs": [
    {
     "data": {
      "text/plain": [
       "('sayed', 'ali', 'saad')"
      ]
     },
     "execution_count": 108,
     "metadata": {},
     "output_type": "execute_result"
    }
   ],
   "source": [
    "list6"
   ]
  },
  {
   "cell_type": "markdown",
   "id": "32cc115c",
   "metadata": {},
   "source": [
    "# While Loop"
   ]
  },
  {
   "cell_type": "code",
   "execution_count": 110,
   "id": "1a8442f6",
   "metadata": {},
   "outputs": [
    {
     "name": "stdout",
     "output_type": "stream",
     "text": [
      "0\n",
      "1\n",
      "2\n",
      "3\n",
      "4\n",
      "5\n",
      "------------\n",
      "6\n",
      "7\n",
      "8\n",
      "9\n"
     ]
    }
   ],
   "source": [
    "counter = 0\n",
    "\n",
    "while counter < 10:\n",
    "    print(counter)\n",
    "    if counter == 5:\n",
    "        print('------------')\n",
    "    counter = counter + 1 "
   ]
  },
  {
   "cell_type": "markdown",
   "id": "cb4b37bb",
   "metadata": {},
   "source": [
    "# Sets"
   ]
  },
  {
   "cell_type": "code",
   "execution_count": 111,
   "id": "06110a71",
   "metadata": {},
   "outputs": [],
   "source": [
    "set1 = set()"
   ]
  },
  {
   "cell_type": "code",
   "execution_count": 112,
   "id": "41d7bbf7",
   "metadata": {},
   "outputs": [
    {
     "data": {
      "text/plain": [
       "set"
      ]
     },
     "execution_count": 112,
     "metadata": {},
     "output_type": "execute_result"
    }
   ],
   "source": [
    "type(set1)"
   ]
  },
  {
   "cell_type": "code",
   "execution_count": 113,
   "id": "c4face30",
   "metadata": {},
   "outputs": [],
   "source": [
    "set1 = {1,2,3,4}"
   ]
  },
  {
   "cell_type": "code",
   "execution_count": 114,
   "id": "d4fd021f",
   "metadata": {},
   "outputs": [],
   "source": [
    "set1.add(5)"
   ]
  },
  {
   "cell_type": "code",
   "execution_count": 115,
   "id": "0961f932",
   "metadata": {},
   "outputs": [
    {
     "data": {
      "text/plain": [
       "{1, 2, 3, 4, 5}"
      ]
     },
     "execution_count": 115,
     "metadata": {},
     "output_type": "execute_result"
    }
   ],
   "source": [
    "set1"
   ]
  },
  {
   "cell_type": "code",
   "execution_count": 116,
   "id": "3689fcbc",
   "metadata": {},
   "outputs": [],
   "source": [
    "list1 = [1,1,1,2,3,3,4,4]"
   ]
  },
  {
   "cell_type": "code",
   "execution_count": 117,
   "id": "f5a636b7",
   "metadata": {},
   "outputs": [],
   "source": [
    "set5 = set(list1)"
   ]
  },
  {
   "cell_type": "code",
   "execution_count": 118,
   "id": "bfcad3a1",
   "metadata": {},
   "outputs": [
    {
     "data": {
      "text/plain": [
       "{1, 2, 3, 4}"
      ]
     },
     "execution_count": 118,
     "metadata": {},
     "output_type": "execute_result"
    }
   ],
   "source": [
    "set5"
   ]
  },
  {
   "cell_type": "code",
   "execution_count": 119,
   "id": "3a095ef8",
   "metadata": {},
   "outputs": [],
   "source": [
    "set5.remove(1)"
   ]
  },
  {
   "cell_type": "code",
   "execution_count": 120,
   "id": "fb589793",
   "metadata": {},
   "outputs": [
    {
     "data": {
      "text/plain": [
       "{2, 3, 4}"
      ]
     },
     "execution_count": 120,
     "metadata": {},
     "output_type": "execute_result"
    }
   ],
   "source": [
    "set5"
   ]
  },
  {
   "cell_type": "markdown",
   "id": "4c753f8e",
   "metadata": {},
   "source": [
    "# Dictionary "
   ]
  },
  {
   "cell_type": "code",
   "execution_count": 121,
   "id": "0bfa2db1",
   "metadata": {},
   "outputs": [],
   "source": [
    "dic1 = dict()"
   ]
  },
  {
   "cell_type": "code",
   "execution_count": 122,
   "id": "e27c0f48",
   "metadata": {},
   "outputs": [
    {
     "data": {
      "text/plain": [
       "dict"
      ]
     },
     "execution_count": 122,
     "metadata": {},
     "output_type": "execute_result"
    }
   ],
   "source": [
    "type(dic1)"
   ]
  },
  {
   "cell_type": "code",
   "execution_count": 123,
   "id": "61b6ade7",
   "metadata": {},
   "outputs": [],
   "source": [
    "dict2 = {'color':'red','fruit':'apple','weight':200}"
   ]
  },
  {
   "cell_type": "code",
   "execution_count": 124,
   "id": "b498a621",
   "metadata": {},
   "outputs": [
    {
     "data": {
      "text/plain": [
       "{'color': 'red', 'fruit': 'apple', 'weight': 200}"
      ]
     },
     "execution_count": 124,
     "metadata": {},
     "output_type": "execute_result"
    }
   ],
   "source": [
    "dict2"
   ]
  },
  {
   "cell_type": "code",
   "execution_count": 125,
   "id": "30c99d4e",
   "metadata": {},
   "outputs": [
    {
     "data": {
      "text/plain": [
       "'red'"
      ]
     },
     "execution_count": 125,
     "metadata": {},
     "output_type": "execute_result"
    }
   ],
   "source": [
    "dict2['color']"
   ]
  },
  {
   "cell_type": "code",
   "execution_count": 126,
   "id": "1714e933",
   "metadata": {},
   "outputs": [],
   "source": [
    "dict2['diameter'] = 5"
   ]
  },
  {
   "cell_type": "code",
   "execution_count": 127,
   "id": "be707227",
   "metadata": {},
   "outputs": [
    {
     "data": {
      "text/plain": [
       "{'color': 'red', 'fruit': 'apple', 'weight': 200, 'diameter': 5}"
      ]
     },
     "execution_count": 127,
     "metadata": {},
     "output_type": "execute_result"
    }
   ],
   "source": [
    "dict2"
   ]
  },
  {
   "cell_type": "code",
   "execution_count": 128,
   "id": "79643783",
   "metadata": {},
   "outputs": [
    {
     "data": {
      "text/plain": [
       "dict_items([('color', 'red'), ('fruit', 'apple'), ('weight', 200), ('diameter', 5)])"
      ]
     },
     "execution_count": 128,
     "metadata": {},
     "output_type": "execute_result"
    }
   ],
   "source": [
    "dict2.items()"
   ]
  },
  {
   "cell_type": "code",
   "execution_count": 129,
   "id": "5977588d",
   "metadata": {},
   "outputs": [
    {
     "data": {
      "text/plain": [
       "dict_keys(['color', 'fruit', 'weight', 'diameter'])"
      ]
     },
     "execution_count": 129,
     "metadata": {},
     "output_type": "execute_result"
    }
   ],
   "source": [
    "dict2.keys()"
   ]
  },
  {
   "cell_type": "code",
   "execution_count": 130,
   "id": "c6207411",
   "metadata": {},
   "outputs": [
    {
     "data": {
      "text/plain": [
       "dict_values(['red', 'apple', 200, 5])"
      ]
     },
     "execution_count": 130,
     "metadata": {},
     "output_type": "execute_result"
    }
   ],
   "source": [
    "dict2.values()"
   ]
  },
  {
   "cell_type": "markdown",
   "id": "6db2acb0",
   "metadata": {},
   "source": [
    "# List Comprehension"
   ]
  },
  {
   "cell_type": "code",
   "execution_count": 131,
   "id": "3d03acba",
   "metadata": {},
   "outputs": [],
   "source": [
    "list1 = []\n",
    "for i in range (10):\n",
    "    list1.append(i)"
   ]
  },
  {
   "cell_type": "code",
   "execution_count": 132,
   "id": "4b41f688",
   "metadata": {},
   "outputs": [
    {
     "data": {
      "text/plain": [
       "[0, 1, 2, 3, 4, 5, 6, 7, 8, 9]"
      ]
     },
     "execution_count": 132,
     "metadata": {},
     "output_type": "execute_result"
    }
   ],
   "source": [
    "list1"
   ]
  },
  {
   "cell_type": "code",
   "execution_count": 137,
   "id": "1a513338",
   "metadata": {},
   "outputs": [],
   "source": [
    "list2 =[i**3 for i in range(10)]"
   ]
  },
  {
   "cell_type": "code",
   "execution_count": 138,
   "id": "e0e0a224",
   "metadata": {},
   "outputs": [
    {
     "data": {
      "text/plain": [
       "[0, 1, 8, 27, 64, 125, 216, 343, 512, 729]"
      ]
     },
     "execution_count": 138,
     "metadata": {},
     "output_type": "execute_result"
    }
   ],
   "source": [
    "list2"
   ]
  },
  {
   "cell_type": "code",
   "execution_count": null,
   "id": "dcc2f8c4",
   "metadata": {},
   "outputs": [],
   "source": []
  }
 ],
 "metadata": {
  "kernelspec": {
   "display_name": "Python 3 (ipykernel)",
   "language": "python",
   "name": "python3"
  },
  "language_info": {
   "codemirror_mode": {
    "name": "ipython",
    "version": 3
   },
   "file_extension": ".py",
   "mimetype": "text/x-python",
   "name": "python",
   "nbconvert_exporter": "python",
   "pygments_lexer": "ipython3",
   "version": "3.8.11"
  }
 },
 "nbformat": 4,
 "nbformat_minor": 5
}
